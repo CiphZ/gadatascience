{
 "cells": [
  {
   "cell_type": "markdown",
   "metadata": {},
   "source": [
    "# Project 4\n",
    "\n",
    "In this project, you will summarize and present your analysis from Projects 1-3."
   ]
  },
  {
   "cell_type": "markdown",
   "metadata": {},
   "source": [
    "### Intro: Write a problem Statement/ Specific Aim for this project"
   ]
  },
  {
   "cell_type": "markdown",
   "metadata": {},
   "source": [
    "Answer: The goal of the project is to use GRE, GPA and undergraduate school prestige to predict the outcome of an admission case. The outcome variable is binary, where 1 stands for admitted and 0 for rejected."
   ]
  },
  {
   "cell_type": "markdown",
   "metadata": {},
   "source": [
    "### Dataset:  Write up a description of your data and any cleaning that was completed"
   ]
  },
  {
   "cell_type": "markdown",
   "metadata": {},
   "source": [
    "Answer: There are 2 categorical variables and 2 continuous variable in this project. GRE and GPA are continuous variables. The outcome variable and the prestige of undergraduate school are categorical variables. The predictors are nearly normally distributed. None of them exhibites high collinearity.\n",
    "\n",
    "There are a few null cases in each predictor variable, therefore those null cases were dropped in the EDA process.  "
   ]
  },
  {
   "cell_type": "markdown",
   "metadata": {
    "collapsed": true
   },
   "source": [
    "### Demo: Provide a table that explains the data by admission status"
   ]
  },
  {
   "cell_type": "markdown",
   "metadata": {},
   "source": [
    "Mean (STD) or counts by admission status for each variable \n",
    "\n",
    "| Not Admitted | Admitted\n",
    "---| ---|---\n",
    "GPA | 3.347159(0.376355)  | 3.489206(0.371655)\n",
    "GRE |573.579336(116.052798) | 618.571429(109.257233)\n",
    "Prestige 1 | 33 | 28\n",
    "Prestige 2 | 53 | 95\n",
    "Prestige 3 |28 | 93\n",
    "Prestige 4 |12| 55"
   ]
  },
  {
   "cell_type": "markdown",
   "metadata": {},
   "source": [
    "### Methods: Write up the methods used in your analysis"
   ]
  },
  {
   "cell_type": "markdown",
   "metadata": {},
   "source": [
    "Answer: Logistic regression was used for this analysis. First, convert 'pretige' column into dummie variables. Second, join the dummy columns to the other predictor columns. Third, initialize, fit the model and the analyze the results."
   ]
  },
  {
   "cell_type": "markdown",
   "metadata": {},
   "source": [
    "### Results: Write up your results"
   ]
  },
  {
   "cell_type": "markdown",
   "metadata": {},
   "source": [
    "Answer: The model achieved 69% auc score and 70% accuracy score respectively.\n",
    "Of all the variables, gpa and gre have greater impact on the odds ratio of being admitted in comparison to the prestige of one's undergraduate school."
   ]
  },
  {
   "cell_type": "markdown",
   "metadata": {},
   "source": [
    "### Visuals: Provide a table or visualization of these results"
   ]
  },
  {
   "attachments": {},
   "cell_type": "markdown",
   "metadata": {},
   "source": [
    "<img src='au![auc.PNG](attachment:auc.PNG)c.png' height= 25% width= 25%>"
   ]
  },
  {
   "cell_type": "markdown",
   "metadata": {},
   "source": [
    "<img src='placeholder.png' height= 25% width= 25%>"
   ]
  },
  {
   "cell_type": "markdown",
   "metadata": {},
   "source": [
    "### Discussion: Write up your discussion and future steps"
   ]
  },
  {
   "cell_type": "markdown",
   "metadata": {},
   "source": [
    "Answer: An interesting next step would be to introduce new variables and see they can help improve the results of the model. For example, we could introduce a variable that speaks to the education level of a candidate's parents. Interestingly if one's going toward a gender bias in the admission process, we could introduce a variable based on the gender of a candidate."
   ]
  }
 ],
 "metadata": {
  "kernelspec": {
   "display_name": "Python 2",
   "language": "python",
   "name": "python2"
  },
  "language_info": {
   "codemirror_mode": {
    "name": "ipython",
    "version": 2
   },
   "file_extension": ".py",
   "mimetype": "text/x-python",
   "name": "python",
   "nbconvert_exporter": "python",
   "pygments_lexer": "ipython2",
   "version": "2.7.14"
  }
 },
 "nbformat": 4,
 "nbformat_minor": 1
}
