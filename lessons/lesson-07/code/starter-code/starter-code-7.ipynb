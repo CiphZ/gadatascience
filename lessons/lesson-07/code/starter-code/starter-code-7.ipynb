{
 "cells": [
  {
   "cell_type": "markdown",
   "metadata": {},
   "source": [
    "### Class 7- Starter code\n"
   ]
  },
  {
   "cell_type": "markdown",
   "metadata": {},
   "source": [
    "## Demo: Residual Error (15 mins)"
   ]
  },
  {
   "cell_type": "code",
   "execution_count": 4,
   "metadata": {},
   "outputs": [
    {
     "name": "stdout",
     "output_type": "stream",
     "text": [
      "P Values: [  9.15540205e-26]\n",
      "Coefficients: [ 0.00096395]\n",
      "y-intercept: 0.0859173102936\n",
      "R-Squared: 0.871949198087\n",
      "Mean squared error: 0.119901525171\n"
     ]
    },
    {
     "data": {
      "image/png": "[encoded data removed]",
      "text/plain": [
       "<matplotlib.figure.Figure at 0x7fe78d0>"
      ]
     },
     "metadata": {},
     "output_type": "display_data"
    }
   ],
   "source": [
    "%matplotlib inline\n",
    "import numpy as np\n",
    "import pandas as pd\n",
    "from matplotlib import pyplot as plt\n",
    "import seaborn as sns\n",
    "sns.set_style(\"darkgrid\")\n",
    "from sklearn import linear_model, metrics\n",
    "\n",
    "# read in the mammal dataset\n",
    "wd = '../dataset/msleep/'\n",
    "mammals = pd.read_csv(wd+'msleep.csv')\n",
    "mammals = mammals[mammals.brainwt.notnull()].copy()\n",
    "\n",
    "from sklearn import feature_selection, linear_model\n",
    "\n",
    "def get_linear_model_metrics(X, y, algo):\n",
    "    # get the pvalue of X given y. Ignore f-stat for now.\n",
    "    pvals = feature_selection.f_regression(X, y)[1]\n",
    "    # start with an empty linear regression object\n",
    "    # .fit() runs the linear regression function on X and y\n",
    "    algo.fit(X,y)\n",
    "    residuals = (y-algo.predict(X)).values\n",
    "\n",
    "    # print the necessary values\n",
    "    print 'P Values:', pvals\n",
    "    print 'Coefficients:', algo.coef_\n",
    "    print 'y-intercept:', algo.intercept_\n",
    "    print 'R-Squared:', algo.score(X,y)\n",
    "    print 'Mean squared error:', metrics.mean_squared_error(y, algo.predict(X)) # to call MSE within the metrics package\n",
    "    # more metrics documentation for the scikit: http://scikit-learn.org/stable/modules/classes.html\n",
    "    plt.figure()\n",
    "    plt.hist(residuals, bins=int(np.ceil(np.sqrt(len(y)))))\n",
    "    \n",
    "    # keep the model\n",
    "    return algo\n",
    "\n",
    "\n",
    "X = mammals[['bodywt']]\n",
    "y = mammals['brainwt']\n",
    "lm = linear_model.LinearRegression()\n",
    "lm = get_linear_model_metrics(X, y, lm)\n"
   ]
  },
  {
   "cell_type": "markdown",
   "metadata": {},
   "source": [
    "## Cross validation\n",
    "#### Intro to cross validation with bike share data from last time. We will be modeling casual ridership. "
   ]
  },
  {
   "cell_type": "code",
   "execution_count": 5,
   "metadata": {
    "collapsed": true
   },
   "outputs": [],
   "source": [
    "from sklearn import cross_validation\n",
    "wd = '../dataset/'\n",
    "bikeshare = pd.read_csv(wd + 'bikeshare.csv')"
   ]
  },
  {
   "cell_type": "markdown",
   "metadata": {},
   "source": [
    "####Create dummy variables and set outcome (dependent) variable"
   ]
  },
  {
   "cell_type": "code",
   "execution_count": 6,
   "metadata": {
    "collapsed": true
   },
   "outputs": [],
   "source": [
    "weather = pd.get_dummies(bikeshare.weathersit, prefix='weather')  # alternative short-cut way!\n",
    "modeldata = bikeshare[['temp', 'hum']].join(weather[['weather_1', 'weather_2', 'weather_3']]) # join the dfs\n",
    "y = bikeshare.casual # outcome variable"
   ]
  },
  {
   "cell_type": "code",
   "execution_count": 7,
   "metadata": {
    "scrolled": true
   },
   "outputs": [
    {
     "data": {
      "text/html": [
       "<div>\n",
       "<style>\n",
       "    .dataframe thead tr:only-child th {\n",
       "        text-align: right;\n",
       "    }\n",
       "\n",
       "    .dataframe thead th {\n",
       "        text-align: left;\n",
       "    }\n",
       "\n",
       "    .dataframe tbody tr th {\n",
       "        vertical-align: top;\n",
       "    }\n",
       "</style>\n",
       "<table border=\"1\" class=\"dataframe\">\n",
       "  <thead>\n",
       "    <tr style=\"text-align: right;\">\n",
       "      <th></th>\n",
       "      <th>temp</th>\n",
       "      <th>hum</th>\n",
       "      <th>weather_1</th>\n",
       "      <th>weather_2</th>\n",
       "      <th>weather_3</th>\n",
       "    </tr>\n",
       "  </thead>\n",
       "  <tbody>\n",
       "    <tr>\n",
       "      <th>0</th>\n",
       "      <td>0.24</td>\n",
       "      <td>0.81</td>\n",
       "      <td>1</td>\n",
       "      <td>0</td>\n",
       "      <td>0</td>\n",
       "    </tr>\n",
       "    <tr>\n",
       "      <th>1</th>\n",
       "      <td>0.22</td>\n",
       "      <td>0.80</td>\n",
       "      <td>1</td>\n",
       "      <td>0</td>\n",
       "      <td>0</td>\n",
       "    </tr>\n",
       "    <tr>\n",
       "      <th>2</th>\n",
       "      <td>0.22</td>\n",
       "      <td>0.80</td>\n",
       "      <td>1</td>\n",
       "      <td>0</td>\n",
       "      <td>0</td>\n",
       "    </tr>\n",
       "    <tr>\n",
       "      <th>3</th>\n",
       "      <td>0.24</td>\n",
       "      <td>0.75</td>\n",
       "      <td>1</td>\n",
       "      <td>0</td>\n",
       "      <td>0</td>\n",
       "    </tr>\n",
       "    <tr>\n",
       "      <th>4</th>\n",
       "      <td>0.24</td>\n",
       "      <td>0.75</td>\n",
       "      <td>1</td>\n",
       "      <td>0</td>\n",
       "      <td>0</td>\n",
       "    </tr>\n",
       "  </tbody>\n",
       "</table>\n",
       "</div>"
      ],
      "text/plain": [
       "   temp   hum  weather_1  weather_2  weather_3\n",
       "0  0.24  0.81          1          0          0\n",
       "1  0.22  0.80          1          0          0\n",
       "2  0.22  0.80          1          0          0\n",
       "3  0.24  0.75          1          0          0\n",
       "4  0.24  0.75          1          0          0"
      ]
     },
     "execution_count": 7,
     "metadata": {},
     "output_type": "execute_result"
    }
   ],
   "source": [
    "modeldata.head()"
   ]
  },
  {
   "cell_type": "markdown",
   "metadata": {},
   "source": [
    "#### Create a cross valiation with 5 folds"
   ]
  },
  {
   "cell_type": "code",
   "execution_count": 8,
   "metadata": {},
   "outputs": [
    {
     "ename": "NameError",
     "evalue": "name 'nf' is not defined",
     "output_type": "error",
     "traceback": [
      "\u001b[1;31m\u001b[0m",
      "\u001b[1;31mNameError\u001b[0mTraceback (most recent call last)",
      "\u001b[1;32m<ipython-input-8-72ab95378991>\u001b[0m in \u001b[0;36m<module>\u001b[1;34m()\u001b[0m\n\u001b[1;32m----> 1\u001b[1;33m \u001b[0mkf\u001b[0m \u001b[1;33m=\u001b[0m \u001b[0mcross_validation\u001b[0m\u001b[1;33m.\u001b[0m\u001b[0mKFold\u001b[0m\u001b[1;33m(\u001b[0m\u001b[0mlen\u001b[0m\u001b[1;33m(\u001b[0m\u001b[0mmodeldata\u001b[0m\u001b[1;33m)\u001b[0m\u001b[1;33m,\u001b[0m \u001b[0mn_folds\u001b[0m\u001b[1;33m=\u001b[0m\u001b[0mnf\u001b[0m\u001b[1;33m,\u001b[0m \u001b[0mshuffle\u001b[0m\u001b[1;33m=\u001b[0m\u001b[0mTrue\u001b[0m\u001b[1;33m)\u001b[0m\u001b[1;33m\u001b[0m\u001b[0m\n\u001b[0m",
      "\u001b[1;31mNameError\u001b[0m: name 'nf' is not defined"
     ]
    }
   ],
   "source": [
    "kf = cross_validation.KFold(len(modeldata), n_folds=nf, shuffle=True) "
   ]
  },
  {
   "cell_type": "code",
   "execution_count": 9,
   "metadata": {},
   "outputs": [
    {
     "ename": "NameError",
     "evalue": "name 'mse_values' is not defined",
     "output_type": "error",
     "traceback": [
      "\u001b[1;31m\u001b[0m",
      "\u001b[1;31mNameError\u001b[0mTraceback (most recent call last)",
      "\u001b[1;32m<ipython-input-9-47ff2660ba38>\u001b[0m in \u001b[0;36m<module>\u001b[1;34m()\u001b[0m\n\u001b[0;32m      9\u001b[0m     \u001b[1;32mfor\u001b[0m \u001b[0mtrain_index\u001b[0m\u001b[1;33m,\u001b[0m \u001b[0mtest_index\u001b[0m \u001b[1;32min\u001b[0m \u001b[0mkf\u001b[0m\u001b[1;33m:\u001b[0m\u001b[1;33m\u001b[0m\u001b[0m\n\u001b[0;32m     10\u001b[0m         \u001b[0mlm\u001b[0m \u001b[1;33m=\u001b[0m \u001b[0mlinear_model\u001b[0m\u001b[1;33m.\u001b[0m\u001b[0mLinearRegression\u001b[0m\u001b[1;33m(\u001b[0m\u001b[1;33m)\u001b[0m\u001b[1;33m.\u001b[0m\u001b[0mfit\u001b[0m\u001b[1;33m(\u001b[0m\u001b[0mmodeldata\u001b[0m\u001b[1;33m.\u001b[0m\u001b[0miloc\u001b[0m\u001b[1;33m[\u001b[0m\u001b[0mtrain_index\u001b[0m\u001b[1;33m]\u001b[0m\u001b[1;33m,\u001b[0m \u001b[0my\u001b[0m\u001b[1;33m.\u001b[0m\u001b[0miloc\u001b[0m\u001b[1;33m[\u001b[0m\u001b[0mtrain_index\u001b[0m\u001b[1;33m]\u001b[0m\u001b[1;33m)\u001b[0m\u001b[1;33m\u001b[0m\u001b[0m\n\u001b[1;32m---> 11\u001b[1;33m         \u001b[0mmse_values\u001b[0m\u001b[1;33m.\u001b[0m\u001b[0mappend\u001b[0m\u001b[1;33m(\u001b[0m\u001b[0mmetrics\u001b[0m\u001b[1;33m.\u001b[0m\u001b[0mmean_squared_error\u001b[0m\u001b[1;33m(\u001b[0m\u001b[0my\u001b[0m\u001b[1;33m.\u001b[0m\u001b[0miloc\u001b[0m\u001b[1;33m[\u001b[0m\u001b[0mtest_index\u001b[0m\u001b[1;33m]\u001b[0m\u001b[1;33m,\u001b[0m \u001b[0mlm\u001b[0m\u001b[1;33m.\u001b[0m\u001b[0mpredict\u001b[0m\u001b[1;33m(\u001b[0m\u001b[0mmodeldata\u001b[0m\u001b[1;33m.\u001b[0m\u001b[0miloc\u001b[0m\u001b[1;33m[\u001b[0m\u001b[0mtest_index\u001b[0m\u001b[1;33m]\u001b[0m\u001b[1;33m)\u001b[0m\u001b[1;33m)\u001b[0m\u001b[1;33m)\u001b[0m\u001b[1;33m\u001b[0m\u001b[0m\n\u001b[0m\u001b[0;32m     12\u001b[0m         \u001b[0mscores\u001b[0m\u001b[1;33m.\u001b[0m\u001b[0mappend\u001b[0m\u001b[1;33m(\u001b[0m\u001b[0mlm\u001b[0m\u001b[1;33m.\u001b[0m\u001b[0mscore\u001b[0m\u001b[1;33m(\u001b[0m\u001b[0mmodeldata\u001b[0m\u001b[1;33m,\u001b[0m \u001b[0my\u001b[0m\u001b[1;33m)\u001b[0m\u001b[1;33m)\u001b[0m\u001b[1;33m\u001b[0m\u001b[0m\n\u001b[0;32m     13\u001b[0m         \u001b[0mn\u001b[0m\u001b[1;33m+=\u001b[0m\u001b[1;36m1\u001b[0m\u001b[1;33m\u001b[0m\u001b[0m\n",
      "\u001b[1;31mNameError\u001b[0m: name 'mse_values' is not defined"
     ]
    }
   ],
   "source": [
    "# LOOP\n",
    "nf = range(2,51,2)\n",
    "for i in nf:\n",
    "    kf = cross_validation.KFold(len(modeldata), n_folds=i, shuffle=True) \n",
    "    mean_mse = [] # create an empty list\n",
    "    scores = []\n",
    "    mean_r2 = []\n",
    "    n= 0\n",
    "    for train_index, test_index in kf:\n",
    "        lm = linear_model.LinearRegression().fit(modeldata.iloc[train_index], y.iloc[train_index])\n",
    "        mse_values.append(metrics.mean_squared_error(y.iloc[test_index], lm.predict(modeldata.iloc[test_index])))\n",
    "        scores.append(lm.score(modeldata, y))\n",
    "        n+=1\n",
    "        \n",
    "        mean_mse.append(np.mean(mse_values)) # to store the values\n",
    "        mean_r2.append(np.mean(scores))"
   ]
  },
  {
   "cell_type": "code",
   "execution_count": 10,
   "metadata": {},
   "outputs": [
    {
     "name": "stdout",
     "output_type": "stream",
     "text": [
      "[]\n",
      "[]\n"
     ]
    }
   ],
   "source": [
    "print mean_mse\n",
    "print mean_r2"
   ]
  },
  {
   "cell_type": "code",
   "execution_count": 11,
   "metadata": {},
   "outputs": [
    {
     "data": {
      "text/plain": [
       "sklearn.cross_validation.KFold(n=17379, n_folds=2, shuffle=True, random_state=None)"
      ]
     },
     "execution_count": 11,
     "metadata": {},
     "output_type": "execute_result"
    }
   ],
   "source": [
    "kf"
   ]
  },
  {
   "cell_type": "code",
   "execution_count": 12,
   "metadata": {},
   "outputs": [
    {
     "name": "stdout",
     "output_type": "stream",
     "text": [
      "~~~~ CROSS VALIDATION each fold ~~~~\n",
      "Model 1\n",
      "MSE: 1690.30545134\n",
      "R2: 0.31190654641\n",
      "Model 2\n",
      "MSE: 1655.26198696\n",
      "R2: 0.311906805694\n",
      "~~~~ SUMMARY OF CROSS VALIDATION ~~~~\n",
      "Mean of MSE for all folds: 1672.78371915\n",
      "Mean of R2 for all folds: 0.311906676052\n"
     ]
    }
   ],
   "source": [
    "mse_values = []\n",
    "scores = []\n",
    "n= 0\n",
    "print \"~~~~ CROSS VALIDATION each fold ~~~~\"\n",
    "for train_index, test_index in kf:\n",
    "    lm = linear_model.LinearRegression().fit(modeldata.iloc[train_index], y.iloc[train_index])\n",
    "    mse_values.append(metrics.mean_squared_error(y.iloc[test_index], lm.predict(modeldata.iloc[test_index])))\n",
    "    scores.append(lm.score(modeldata, y))\n",
    "    n+=1\n",
    "    print 'Model', n\n",
    "    print 'MSE:', mse_values[n-1]\n",
    "    print 'R2:', scores[n-1]\n",
    "\n",
    "\n",
    "print \"~~~~ SUMMARY OF CROSS VALIDATION ~~~~\"\n",
    "print 'Mean of MSE for all folds:', np.mean(mse_values)\n",
    "print 'Mean of R2 for all folds:', np.mean(scores)"
   ]
  },
  {
   "cell_type": "code",
   "execution_count": 13,
   "metadata": {},
   "outputs": [
    {
     "name": "stdout",
     "output_type": "stream",
     "text": [
      "~~~~ Single Model ~~~~\n",
      "MSE of single model: 1672.58110765\n",
      "R2:  0.311934605989\n"
     ]
    }
   ],
   "source": [
    "lm = linear_model.LinearRegression().fit(modeldata, y)\n",
    "print \"~~~~ Single Model ~~~~\"\n",
    "print 'MSE of single model:', metrics.mean_squared_error(y, lm.predict(modeldata))\n",
    "print 'R2: ', lm.score(modeldata, y)"
   ]
  },
  {
   "cell_type": "markdown",
   "metadata": {},
   "source": [
    "### Check\n",
    "While the cross validated approach here generated more overall error, which of the two approaches would predict new data more accurately: the single model or the cross validated, averaged one? Why?\n"
   ]
  },
  {
   "cell_type": "markdown",
   "metadata": {},
   "source": [
    "Answer: "
   ]
  },
  {
   "cell_type": "markdown",
   "metadata": {},
   "source": [
    "### There are ways to improve our model with regularization. \n",
    "Let's check out the effects on MSE and R2"
   ]
  },
  {
   "cell_type": "code",
   "execution_count": 14,
   "metadata": {},
   "outputs": [
    {
     "name": "stdout",
     "output_type": "stream",
     "text": [
      "~~~ OLS ~~~\n",
      "OLS MSE:  1672.58110765\n",
      "OLS R2: 0.311934605989\n",
      "~~~ Lasso ~~~\n",
      "Lasso MSE:  1725.41581608\n",
      "Lasso R2: 0.290199495922\n",
      "~~~ Ridge ~~~\n",
      "Ridge MSE:  1672.60490113\n",
      "Ridge R2: 0.311924817843\n"
     ]
    }
   ],
   "source": [
    "lm = linear_model.LinearRegression().fit(modeldata, y)\n",
    "print \"~~~ OLS ~~~\" # OLS = least standard regression\n",
    "print 'OLS MSE: ', metrics.mean_squared_error(y, lm.predict(modeldata))\n",
    "print 'OLS R2:', lm.score(modeldata, y)\n",
    "\n",
    "lm = linear_model.Lasso().fit(modeldata, y)\n",
    "print \"~~~ Lasso ~~~\"\n",
    "print 'Lasso MSE: ', metrics.mean_squared_error(y, lm.predict(modeldata))\n",
    "print 'Lasso R2:', lm.score(modeldata, y)\n",
    "\n",
    "lm = linear_model.Ridge().fit(modeldata, y)\n",
    "print \"~~~ Ridge ~~~\"\n",
    "print 'Ridge MSE: ', metrics.mean_squared_error(y, lm.predict(modeldata))\n",
    "print 'Ridge R2:', lm.score(modeldata, y)"
   ]
  },
  {
   "cell_type": "markdown",
   "metadata": {},
   "source": [
    "### Figuring out the alphas can be done by \"hand\""
   ]
  },
  {
   "cell_type": "code",
   "execution_count": 15,
   "metadata": {},
   "outputs": [
    {
     "name": "stdout",
     "output_type": "stream",
     "text": [
      "Alpha: 1e-10\n"
     ]
    },
    {
     "name": "stderr",
     "output_type": "stream",
     "text": [
      "C:\\Users\\yifan.zhu\\AppData\\Local\\Continuum\\anaconda2\\lib\\site-packages\\sklearn\\linear_model\\coordinate_descent.py:491: ConvergenceWarning: Objective did not converge. You might want to increase the number of iterations. Fitting data with very small alpha may cause precision problems.\n",
      "  ConvergenceWarning)\n"
     ]
    },
    {
     "name": "stdout",
     "output_type": "stream",
     "text": [
      "[ 112.67353849  -83.99400867  -14.13184385  -10.45474561  -11.1736308 ]\n",
      "1672.60030785\n",
      "Alpha: 1e-09\n",
      "[ 112.67353845  -83.99400863  -14.13183603  -10.45473779  -11.17362296]\n",
      "1672.60030788\n",
      "Alpha: 1e-08\n",
      "[ 112.67353812  -83.99400832  -14.13175774  -10.45465952  -11.17354466]\n",
      "1672.60030816\n",
      "Alpha: 1e-07\n",
      "[ 112.67353477  -83.99400521  -14.13097487  -10.4538768   -11.17276161]\n",
      "1672.60031101\n",
      "Alpha: 1e-06\n",
      "[ 112.67350128  -83.99397405  -14.12314614  -10.4460497   -11.16493108]\n",
      "1672.60033951\n",
      "Alpha: 1e-05\n",
      "[ 112.67316634  -83.9936625   -14.04485887  -10.36777861  -11.08662579]\n",
      "1672.60062569\n",
      "Alpha: 0.0001\n",
      "[ 112.66981758  -83.99054765  -13.26239352   -9.58547483  -10.30397994]\n",
      "1672.60360255\n",
      "Alpha: 0.001\n",
      "[ 112.63635975  -83.9594323    -5.45806601   -1.78275411   -2.49783247]\n",
      "1672.64489673\n",
      "Alpha: 0.01\n",
      "[ 112.39077334  -83.66325507   -2.90812399    0.66752444   -0.        ]\n",
      "1672.66932453\n",
      "Alpha: 0.1\n",
      "[ 109.93593998  -80.45002088   -1.82328187    0.77974702   -0.        ]\n",
      "1673.39565389\n",
      "Alpha: 1.0\n",
      "[ 86.81079432 -55.76414394   0.          -0.          -0.        ]\n",
      "1725.41581608\n",
      "Alpha: 10.0\n",
      "[ 0. -0.  0. -0. -0.]\n",
      "2430.84614081\n",
      "Alpha: 100.0\n",
      "[ 0. -0.  0. -0. -0.]\n",
      "2430.84614081\n",
      "Alpha: 1000.0\n",
      "[ 0. -0.  0. -0. -0.]\n",
      "2430.84614081\n",
      "Alpha: 10000.0\n",
      "[ 0. -0.  0. -0. -0.]\n",
      "2430.84614081\n",
      "Alpha: 100000.0\n",
      "[ 0. -0.  0. -0. -0.]\n",
      "2430.84614081\n",
      "Alpha: 1000000.0\n",
      "[ 0. -0.  0. -0. -0.]\n",
      "2430.84614081\n",
      "Alpha: 10000000.0\n",
      "[ 0. -0.  0. -0. -0.]\n",
      "2430.84614081\n",
      "Alpha: 100000000.0\n",
      "[ 0. -0.  0. -0. -0.]\n",
      "2430.84614081\n",
      "Alpha: 1000000000.0\n",
      "[ 0. -0.  0. -0. -0.]\n",
      "2430.84614081\n",
      "Alpha: 10000000000.0\n",
      "[ 0. -0.  0. -0. -0.]\n",
      "2430.84614081\n"
     ]
    }
   ],
   "source": [
    "alphas = np.logspace(-10, 10, 21)\n",
    "for a in alphas:\n",
    "    print 'Alpha:', a\n",
    "    lm = linear_model.Lasso(alpha=a)\n",
    "    lm.fit(modeldata, y)\n",
    "    print lm.coef_\n",
    "    print metrics.mean_squared_error(y, lm.predict(modeldata))"
   ]
  },
  {
   "cell_type": "markdown",
   "metadata": {},
   "source": [
    "### Or we can use grid search to make this faster"
   ]
  },
  {
   "cell_type": "code",
   "execution_count": 16,
   "metadata": {},
   "outputs": [
    {
     "name": "stderr",
     "output_type": "stream",
     "text": [
      "C:\\Users\\yifan.zhu\\AppData\\Local\\Continuum\\anaconda2\\lib\\site-packages\\sklearn\\metrics\\scorer.py:100: DeprecationWarning: Scoring method mean_squared_error was renamed to neg_mean_squared_error in version 0.18 and will be removed in 0.20.\n",
      "  sample_weight=sample_weight)\n",
      "C:\\Users\\yifan.zhu\\AppData\\Local\\Continuum\\anaconda2\\lib\\site-packages\\sklearn\\metrics\\scorer.py:100: DeprecationWarning: Scoring method mean_squared_error was renamed to neg_mean_squared_error in version 0.18 and will be removed in 0.20.\n",
      "  sample_weight=sample_weight)\n",
      "C:\\Users\\yifan.zhu\\AppData\\Local\\Continuum\\anaconda2\\lib\\site-packages\\sklearn\\metrics\\scorer.py:100: DeprecationWarning: Scoring method mean_squared_error was renamed to neg_mean_squared_error in version 0.18 and will be removed in 0.20.\n",
      "  sample_weight=sample_weight)\n",
      "C:\\Users\\yifan.zhu\\AppData\\Local\\Continuum\\anaconda2\\lib\\site-packages\\sklearn\\metrics\\scorer.py:100: DeprecationWarning: Scoring method mean_squared_error was renamed to neg_mean_squared_error in version 0.18 and will be removed in 0.20.\n",
      "  sample_weight=sample_weight)\n",
      "C:\\Users\\yifan.zhu\\AppData\\Local\\Continuum\\anaconda2\\lib\\site-packages\\sklearn\\metrics\\scorer.py:100: DeprecationWarning: Scoring method mean_squared_error was renamed to neg_mean_squared_error in version 0.18 and will be removed in 0.20.\n",
      "  sample_weight=sample_weight)\n",
      "C:\\Users\\yifan.zhu\\AppData\\Local\\Continuum\\anaconda2\\lib\\site-packages\\sklearn\\metrics\\scorer.py:100: DeprecationWarning: Scoring method mean_squared_error was renamed to neg_mean_squared_error in version 0.18 and will be removed in 0.20.\n",
      "  sample_weight=sample_weight)\n",
      "C:\\Users\\yifan.zhu\\AppData\\Local\\Continuum\\anaconda2\\lib\\site-packages\\sklearn\\metrics\\scorer.py:100: DeprecationWarning: Scoring method mean_squared_error was renamed to neg_mean_squared_error in version 0.18 and will be removed in 0.20.\n",
      "  sample_weight=sample_weight)\n",
      "C:\\Users\\yifan.zhu\\AppData\\Local\\Continuum\\anaconda2\\lib\\site-packages\\sklearn\\metrics\\scorer.py:100: DeprecationWarning: Scoring method mean_squared_error was renamed to neg_mean_squared_error in version 0.18 and will be removed in 0.20.\n",
      "  sample_weight=sample_weight)\n",
      "C:\\Users\\yifan.zhu\\AppData\\Local\\Continuum\\anaconda2\\lib\\site-packages\\sklearn\\metrics\\scorer.py:100: DeprecationWarning: Scoring method mean_squared_error was renamed to neg_mean_squared_error in version 0.18 and will be removed in 0.20.\n",
      "  sample_weight=sample_weight)\n",
      "C:\\Users\\yifan.zhu\\AppData\\Local\\Continuum\\anaconda2\\lib\\site-packages\\sklearn\\metrics\\scorer.py:100: DeprecationWarning: Scoring method mean_squared_error was renamed to neg_mean_squared_error in version 0.18 and will be removed in 0.20.\n",
      "  sample_weight=sample_weight)\n",
      "C:\\Users\\yifan.zhu\\AppData\\Local\\Continuum\\anaconda2\\lib\\site-packages\\sklearn\\metrics\\scorer.py:100: DeprecationWarning: Scoring method mean_squared_error was renamed to neg_mean_squared_error in version 0.18 and will be removed in 0.20.\n",
      "  sample_weight=sample_weight)\n",
      "C:\\Users\\yifan.zhu\\AppData\\Local\\Continuum\\anaconda2\\lib\\site-packages\\sklearn\\metrics\\scorer.py:100: DeprecationWarning: Scoring method mean_squared_error was renamed to neg_mean_squared_error in version 0.18 and will be removed in 0.20.\n",
      "  sample_weight=sample_weight)\n",
      "C:\\Users\\yifan.zhu\\AppData\\Local\\Continuum\\anaconda2\\lib\\site-packages\\sklearn\\metrics\\scorer.py:100: DeprecationWarning: Scoring method mean_squared_error was renamed to neg_mean_squared_error in version 0.18 and will be removed in 0.20.\n",
      "  sample_weight=sample_weight)\n",
      "C:\\Users\\yifan.zhu\\AppData\\Local\\Continuum\\anaconda2\\lib\\site-packages\\sklearn\\metrics\\scorer.py:100: DeprecationWarning: Scoring method mean_squared_error was renamed to neg_mean_squared_error in version 0.18 and will be removed in 0.20.\n",
      "  sample_weight=sample_weight)\n",
      "C:\\Users\\yifan.zhu\\AppData\\Local\\Continuum\\anaconda2\\lib\\site-packages\\sklearn\\metrics\\scorer.py:100: DeprecationWarning: Scoring method mean_squared_error was renamed to neg_mean_squared_error in version 0.18 and will be removed in 0.20.\n",
      "  sample_weight=sample_weight)\n",
      "C:\\Users\\yifan.zhu\\AppData\\Local\\Continuum\\anaconda2\\lib\\site-packages\\sklearn\\metrics\\scorer.py:100: DeprecationWarning: Scoring method mean_squared_error was renamed to neg_mean_squared_error in version 0.18 and will be removed in 0.20.\n",
      "  sample_weight=sample_weight)\n",
      "C:\\Users\\yifan.zhu\\AppData\\Local\\Continuum\\anaconda2\\lib\\site-packages\\sklearn\\metrics\\scorer.py:100: DeprecationWarning: Scoring method mean_squared_error was renamed to neg_mean_squared_error in version 0.18 and will be removed in 0.20.\n",
      "  sample_weight=sample_weight)\n",
      "C:\\Users\\yifan.zhu\\AppData\\Local\\Continuum\\anaconda2\\lib\\site-packages\\sklearn\\metrics\\scorer.py:100: DeprecationWarning: Scoring method mean_squared_error was renamed to neg_mean_squared_error in version 0.18 and will be removed in 0.20.\n",
      "  sample_weight=sample_weight)\n",
      "C:\\Users\\yifan.zhu\\AppData\\Local\\Continuum\\anaconda2\\lib\\site-packages\\sklearn\\metrics\\scorer.py:100: DeprecationWarning: Scoring method mean_squared_error was renamed to neg_mean_squared_error in version 0.18 and will be removed in 0.20.\n",
      "  sample_weight=sample_weight)\n",
      "C:\\Users\\yifan.zhu\\AppData\\Local\\Continuum\\anaconda2\\lib\\site-packages\\sklearn\\metrics\\scorer.py:100: DeprecationWarning: Scoring method mean_squared_error was renamed to neg_mean_squared_error in version 0.18 and will be removed in 0.20.\n",
      "  sample_weight=sample_weight)\n",
      "C:\\Users\\yifan.zhu\\AppData\\Local\\Continuum\\anaconda2\\lib\\site-packages\\sklearn\\metrics\\scorer.py:100: DeprecationWarning: Scoring method mean_squared_error was renamed to neg_mean_squared_error in version 0.18 and will be removed in 0.20.\n",
      "  sample_weight=sample_weight)\n",
      "C:\\Users\\yifan.zhu\\AppData\\Local\\Continuum\\anaconda2\\lib\\site-packages\\sklearn\\metrics\\scorer.py:100: DeprecationWarning: Scoring method mean_squared_error was renamed to neg_mean_squared_error in version 0.18 and will be removed in 0.20.\n",
      "  sample_weight=sample_weight)\n",
      "C:\\Users\\yifan.zhu\\AppData\\Local\\Continuum\\anaconda2\\lib\\site-packages\\sklearn\\metrics\\scorer.py:100: DeprecationWarning: Scoring method mean_squared_error was renamed to neg_mean_squared_error in version 0.18 and will be removed in 0.20.\n",
      "  sample_weight=sample_weight)\n",
      "C:\\Users\\yifan.zhu\\AppData\\Local\\Continuum\\anaconda2\\lib\\site-packages\\sklearn\\metrics\\scorer.py:100: DeprecationWarning: Scoring method mean_squared_error was renamed to neg_mean_squared_error in version 0.18 and will be removed in 0.20.\n",
      "  sample_weight=sample_weight)\n",
      "C:\\Users\\yifan.zhu\\AppData\\Local\\Continuum\\anaconda2\\lib\\site-packages\\sklearn\\metrics\\scorer.py:100: DeprecationWarning: Scoring method mean_squared_error was renamed to neg_mean_squared_error in version 0.18 and will be removed in 0.20.\n",
      "  sample_weight=sample_weight)\n",
      "C:\\Users\\yifan.zhu\\AppData\\Local\\Continuum\\anaconda2\\lib\\site-packages\\sklearn\\metrics\\scorer.py:100: DeprecationWarning: Scoring method mean_squared_error was renamed to neg_mean_squared_error in version 0.18 and will be removed in 0.20.\n",
      "  sample_weight=sample_weight)\n",
      "C:\\Users\\yifan.zhu\\AppData\\Local\\Continuum\\anaconda2\\lib\\site-packages\\sklearn\\metrics\\scorer.py:100: DeprecationWarning: Scoring method mean_squared_error was renamed to neg_mean_squared_error in version 0.18 and will be removed in 0.20.\n",
      "  sample_weight=sample_weight)\n",
      "C:\\Users\\yifan.zhu\\AppData\\Local\\Continuum\\anaconda2\\lib\\site-packages\\sklearn\\metrics\\scorer.py:100: DeprecationWarning: Scoring method mean_squared_error was renamed to neg_mean_squared_error in version 0.18 and will be removed in 0.20.\n",
      "  sample_weight=sample_weight)\n",
      "C:\\Users\\yifan.zhu\\AppData\\Local\\Continuum\\anaconda2\\lib\\site-packages\\sklearn\\metrics\\scorer.py:100: DeprecationWarning: Scoring method mean_squared_error was renamed to neg_mean_squared_error in version 0.18 and will be removed in 0.20.\n",
      "  sample_weight=sample_weight)\n",
      "C:\\Users\\yifan.zhu\\AppData\\Local\\Continuum\\anaconda2\\lib\\site-packages\\sklearn\\metrics\\scorer.py:100: DeprecationWarning: Scoring method mean_squared_error was renamed to neg_mean_squared_error in version 0.18 and will be removed in 0.20.\n",
      "  sample_weight=sample_weight)\n",
      "C:\\Users\\yifan.zhu\\AppData\\Local\\Continuum\\anaconda2\\lib\\site-packages\\sklearn\\metrics\\scorer.py:100: DeprecationWarning: Scoring method mean_squared_error was renamed to neg_mean_squared_error in version 0.18 and will be removed in 0.20.\n",
      "  sample_weight=sample_weight)\n",
      "C:\\Users\\yifan.zhu\\AppData\\Local\\Continuum\\anaconda2\\lib\\site-packages\\sklearn\\metrics\\scorer.py:100: DeprecationWarning: Scoring method mean_squared_error was renamed to neg_mean_squared_error in version 0.18 and will be removed in 0.20.\n",
      "  sample_weight=sample_weight)\n",
      "C:\\Users\\yifan.zhu\\AppData\\Local\\Continuum\\anaconda2\\lib\\site-packages\\sklearn\\metrics\\scorer.py:100: DeprecationWarning: Scoring method mean_squared_error was renamed to neg_mean_squared_error in version 0.18 and will be removed in 0.20.\n",
      "  sample_weight=sample_weight)\n",
      "C:\\Users\\yifan.zhu\\AppData\\Local\\Continuum\\anaconda2\\lib\\site-packages\\sklearn\\metrics\\scorer.py:100: DeprecationWarning: Scoring method mean_squared_error was renamed to neg_mean_squared_error in version 0.18 and will be removed in 0.20.\n",
      "  sample_weight=sample_weight)\n",
      "C:\\Users\\yifan.zhu\\AppData\\Local\\Continuum\\anaconda2\\lib\\site-packages\\sklearn\\metrics\\scorer.py:100: DeprecationWarning: Scoring method mean_squared_error was renamed to neg_mean_squared_error in version 0.18 and will be removed in 0.20.\n",
      "  sample_weight=sample_weight)\n",
      "C:\\Users\\yifan.zhu\\AppData\\Local\\Continuum\\anaconda2\\lib\\site-packages\\sklearn\\metrics\\scorer.py:100: DeprecationWarning: Scoring method mean_squared_error was renamed to neg_mean_squared_error in version 0.18 and will be removed in 0.20.\n",
      "  sample_weight=sample_weight)\n",
      "C:\\Users\\yifan.zhu\\AppData\\Local\\Continuum\\anaconda2\\lib\\site-packages\\sklearn\\metrics\\scorer.py:100: DeprecationWarning: Scoring method mean_squared_error was renamed to neg_mean_squared_error in version 0.18 and will be removed in 0.20.\n",
      "  sample_weight=sample_weight)\n",
      "C:\\Users\\yifan.zhu\\AppData\\Local\\Continuum\\anaconda2\\lib\\site-packages\\sklearn\\metrics\\scorer.py:100: DeprecationWarning: Scoring method mean_squared_error was renamed to neg_mean_squared_error in version 0.18 and will be removed in 0.20.\n",
      "  sample_weight=sample_weight)\n",
      "C:\\Users\\yifan.zhu\\AppData\\Local\\Continuum\\anaconda2\\lib\\site-packages\\sklearn\\metrics\\scorer.py:100: DeprecationWarning: Scoring method mean_squared_error was renamed to neg_mean_squared_error in version 0.18 and will be removed in 0.20.\n",
      "  sample_weight=sample_weight)\n",
      "C:\\Users\\yifan.zhu\\AppData\\Local\\Continuum\\anaconda2\\lib\\site-packages\\sklearn\\metrics\\scorer.py:100: DeprecationWarning: Scoring method mean_squared_error was renamed to neg_mean_squared_error in version 0.18 and will be removed in 0.20.\n",
      "  sample_weight=sample_weight)\n",
      "C:\\Users\\yifan.zhu\\AppData\\Local\\Continuum\\anaconda2\\lib\\site-packages\\sklearn\\metrics\\scorer.py:100: DeprecationWarning: Scoring method mean_squared_error was renamed to neg_mean_squared_error in version 0.18 and will be removed in 0.20.\n",
      "  sample_weight=sample_weight)\n",
      "C:\\Users\\yifan.zhu\\AppData\\Local\\Continuum\\anaconda2\\lib\\site-packages\\sklearn\\metrics\\scorer.py:100: DeprecationWarning: Scoring method mean_squared_error was renamed to neg_mean_squared_error in version 0.18 and will be removed in 0.20.\n",
      "  sample_weight=sample_weight)\n",
      "C:\\Users\\yifan.zhu\\AppData\\Local\\Continuum\\anaconda2\\lib\\site-packages\\sklearn\\metrics\\scorer.py:100: DeprecationWarning: Scoring method mean_squared_error was renamed to neg_mean_squared_error in version 0.18 and will be removed in 0.20.\n",
      "  sample_weight=sample_weight)\n",
      "C:\\Users\\yifan.zhu\\AppData\\Local\\Continuum\\anaconda2\\lib\\site-packages\\sklearn\\metrics\\scorer.py:100: DeprecationWarning: Scoring method mean_squared_error was renamed to neg_mean_squared_error in version 0.18 and will be removed in 0.20.\n",
      "  sample_weight=sample_weight)\n",
      "C:\\Users\\yifan.zhu\\AppData\\Local\\Continuum\\anaconda2\\lib\\site-packages\\sklearn\\metrics\\scorer.py:100: DeprecationWarning: Scoring method mean_squared_error was renamed to neg_mean_squared_error in version 0.18 and will be removed in 0.20.\n",
      "  sample_weight=sample_weight)\n"
     ]
    },
    {
     "name": "stderr",
     "output_type": "stream",
     "text": [
      "C:\\Users\\yifan.zhu\\AppData\\Local\\Continuum\\anaconda2\\lib\\site-packages\\sklearn\\metrics\\scorer.py:100: DeprecationWarning: Scoring method mean_squared_error was renamed to neg_mean_squared_error in version 0.18 and will be removed in 0.20.\n",
      "  sample_weight=sample_weight)\n",
      "C:\\Users\\yifan.zhu\\AppData\\Local\\Continuum\\anaconda2\\lib\\site-packages\\sklearn\\metrics\\scorer.py:100: DeprecationWarning: Scoring method mean_squared_error was renamed to neg_mean_squared_error in version 0.18 and will be removed in 0.20.\n",
      "  sample_weight=sample_weight)\n",
      "C:\\Users\\yifan.zhu\\AppData\\Local\\Continuum\\anaconda2\\lib\\site-packages\\sklearn\\metrics\\scorer.py:100: DeprecationWarning: Scoring method mean_squared_error was renamed to neg_mean_squared_error in version 0.18 and will be removed in 0.20.\n",
      "  sample_weight=sample_weight)\n",
      "C:\\Users\\yifan.zhu\\AppData\\Local\\Continuum\\anaconda2\\lib\\site-packages\\sklearn\\metrics\\scorer.py:100: DeprecationWarning: Scoring method mean_squared_error was renamed to neg_mean_squared_error in version 0.18 and will be removed in 0.20.\n",
      "  sample_weight=sample_weight)\n",
      "C:\\Users\\yifan.zhu\\AppData\\Local\\Continuum\\anaconda2\\lib\\site-packages\\sklearn\\metrics\\scorer.py:100: DeprecationWarning: Scoring method mean_squared_error was renamed to neg_mean_squared_error in version 0.18 and will be removed in 0.20.\n",
      "  sample_weight=sample_weight)\n",
      "C:\\Users\\yifan.zhu\\AppData\\Local\\Continuum\\anaconda2\\lib\\site-packages\\sklearn\\metrics\\scorer.py:100: DeprecationWarning: Scoring method mean_squared_error was renamed to neg_mean_squared_error in version 0.18 and will be removed in 0.20.\n",
      "  sample_weight=sample_weight)\n",
      "C:\\Users\\yifan.zhu\\AppData\\Local\\Continuum\\anaconda2\\lib\\site-packages\\sklearn\\metrics\\scorer.py:100: DeprecationWarning: Scoring method mean_squared_error was renamed to neg_mean_squared_error in version 0.18 and will be removed in 0.20.\n",
      "  sample_weight=sample_weight)\n",
      "C:\\Users\\yifan.zhu\\AppData\\Local\\Continuum\\anaconda2\\lib\\site-packages\\sklearn\\metrics\\scorer.py:100: DeprecationWarning: Scoring method mean_squared_error was renamed to neg_mean_squared_error in version 0.18 and will be removed in 0.20.\n",
      "  sample_weight=sample_weight)\n",
      "C:\\Users\\yifan.zhu\\AppData\\Local\\Continuum\\anaconda2\\lib\\site-packages\\sklearn\\metrics\\scorer.py:100: DeprecationWarning: Scoring method mean_squared_error was renamed to neg_mean_squared_error in version 0.18 and will be removed in 0.20.\n",
      "  sample_weight=sample_weight)\n",
      "C:\\Users\\yifan.zhu\\AppData\\Local\\Continuum\\anaconda2\\lib\\site-packages\\sklearn\\metrics\\scorer.py:100: DeprecationWarning: Scoring method mean_squared_error was renamed to neg_mean_squared_error in version 0.18 and will be removed in 0.20.\n",
      "  sample_weight=sample_weight)\n",
      "C:\\Users\\yifan.zhu\\AppData\\Local\\Continuum\\anaconda2\\lib\\site-packages\\sklearn\\metrics\\scorer.py:100: DeprecationWarning: Scoring method mean_squared_error was renamed to neg_mean_squared_error in version 0.18 and will be removed in 0.20.\n",
      "  sample_weight=sample_weight)\n",
      "C:\\Users\\yifan.zhu\\AppData\\Local\\Continuum\\anaconda2\\lib\\site-packages\\sklearn\\metrics\\scorer.py:100: DeprecationWarning: Scoring method mean_squared_error was renamed to neg_mean_squared_error in version 0.18 and will be removed in 0.20.\n",
      "  sample_weight=sample_weight)\n",
      "C:\\Users\\yifan.zhu\\AppData\\Local\\Continuum\\anaconda2\\lib\\site-packages\\sklearn\\metrics\\scorer.py:100: DeprecationWarning: Scoring method mean_squared_error was renamed to neg_mean_squared_error in version 0.18 and will be removed in 0.20.\n",
      "  sample_weight=sample_weight)\n",
      "C:\\Users\\yifan.zhu\\AppData\\Local\\Continuum\\anaconda2\\lib\\site-packages\\sklearn\\metrics\\scorer.py:100: DeprecationWarning: Scoring method mean_squared_error was renamed to neg_mean_squared_error in version 0.18 and will be removed in 0.20.\n",
      "  sample_weight=sample_weight)\n",
      "C:\\Users\\yifan.zhu\\AppData\\Local\\Continuum\\anaconda2\\lib\\site-packages\\sklearn\\metrics\\scorer.py:100: DeprecationWarning: Scoring method mean_squared_error was renamed to neg_mean_squared_error in version 0.18 and will be removed in 0.20.\n",
      "  sample_weight=sample_weight)\n",
      "C:\\Users\\yifan.zhu\\AppData\\Local\\Continuum\\anaconda2\\lib\\site-packages\\sklearn\\metrics\\scorer.py:100: DeprecationWarning: Scoring method mean_squared_error was renamed to neg_mean_squared_error in version 0.18 and will be removed in 0.20.\n",
      "  sample_weight=sample_weight)\n",
      "C:\\Users\\yifan.zhu\\AppData\\Local\\Continuum\\anaconda2\\lib\\site-packages\\sklearn\\metrics\\scorer.py:100: DeprecationWarning: Scoring method mean_squared_error was renamed to neg_mean_squared_error in version 0.18 and will be removed in 0.20.\n",
      "  sample_weight=sample_weight)\n",
      "C:\\Users\\yifan.zhu\\AppData\\Local\\Continuum\\anaconda2\\lib\\site-packages\\sklearn\\metrics\\scorer.py:100: DeprecationWarning: Scoring method mean_squared_error was renamed to neg_mean_squared_error in version 0.18 and will be removed in 0.20.\n",
      "  sample_weight=sample_weight)\n"
     ]
    },
    {
     "data": {
      "text/plain": [
       "GridSearchCV(cv=None, error_score='raise',\n",
       "       estimator=Ridge(alpha=1.0, copy_X=True, fit_intercept=True, max_iter=None,\n",
       "   normalize=False, random_state=None, solver='auto', tol=0.001),\n",
       "       fit_params={}, iid=True, n_jobs=1,\n",
       "       param_grid={'alpha': array([  1.00000e-10,   1.00000e-09,   1.00000e-08,   1.00000e-07,\n",
       "         1.00000e-06,   1.00000e-05,   1.00000e-04,   1.00000e-03,\n",
       "         1.00000e-02,   1.00000e-01,   1.00000e+00,   1.00000e+01,\n",
       "         1.00000e+02,   1.00000e+03,   1.00000e+04,   1.00000e+05,\n",
       "         1.00000e+06,   1.00000e+07,   1.00000e+08,   1.00000e+09,\n",
       "         1.00000e+10])},\n",
       "       pre_dispatch='2*n_jobs', refit=True, scoring='mean_squared_error',\n",
       "       verbose=0)"
      ]
     },
     "execution_count": 16,
     "metadata": {},
     "output_type": "execute_result"
    }
   ],
   "source": [
    "from sklearn import grid_search\n",
    "\n",
    "alphas = np.logspace(-10, 10, 21)\n",
    "gs = grid_search.GridSearchCV(\n",
    "    estimator=linear_model.Ridge(),\n",
    "    param_grid={'alpha': alphas},\n",
    "    scoring='mean_squared_error')\n",
    "\n",
    "### above is model initialization ###\n",
    "\n",
    "gs.fit(modeldata, y)\n",
    "### above is the model fitting part ###\n",
    "\n",
    "# There could be multiple parameters set in the param_grid section\n",
    "# cross-validation is also built into this grid search function, so you need to give it the entire data \n"
   ]
  },
  {
   "cell_type": "markdown",
   "metadata": {},
   "source": [
    "##### Best score "
   ]
  },
  {
   "cell_type": "code",
   "execution_count": 16,
   "metadata": {},
   "outputs": [
    {
     "name": "stdout",
     "output_type": "stream",
     "text": [
      "-1814.09369133\n"
     ]
    }
   ],
   "source": [
    "print gs.best_score_ "
   ]
  },
  {
   "cell_type": "markdown",
   "metadata": {},
   "source": [
    "##### mean squared error here comes in negative, so let's make it positive."
   ]
  },
  {
   "cell_type": "code",
   "execution_count": 21,
   "metadata": {},
   "outputs": [
    {
     "name": "stdout",
     "output_type": "stream",
     "text": [
      "1813.60700073\n"
     ]
    }
   ],
   "source": [
    "print -gs.best_score_ "
   ]
  },
  {
   "cell_type": "markdown",
   "metadata": {},
   "source": [
    "##### explains which grid_search setup worked best"
   ]
  },
  {
   "cell_type": "code",
   "execution_count": 22,
   "metadata": {},
   "outputs": [
    {
     "name": "stdout",
     "output_type": "stream",
     "text": [
      "Ridge(alpha=10.0, copy_X=True, fit_intercept=False, max_iter=None,\n",
      "   normalize=False, random_state=None, solver='auto', tol=0.001)\n"
     ]
    }
   ],
   "source": [
    "print gs.best_estimator_ \n",
    "\n",
    "# put these best parameters and feed these into a production model initialization, \n",
    "# fit it with entire dataset, and use it for prediction"
   ]
  },
  {
   "cell_type": "markdown",
   "metadata": {},
   "source": [
    "##### shows all the grid pairings and their performances."
   ]
  },
  {
   "cell_type": "code",
   "execution_count": 83,
   "metadata": {},
   "outputs": [
    {
     "name": "stdout",
     "output_type": "stream",
     "text": [
      "[mean: -1817.58711, std: 542.14315, params: {'alpha': 1e-10}, mean: -1817.58711, std: 542.14315, params: {'alpha': 1.0000000000000001e-09}, mean: -1817.58711, std: 542.14315, params: {'alpha': 1e-08}, mean: -1817.58711, std: 542.14315, params: {'alpha': 9.9999999999999995e-08}, mean: -1817.58711, std: 542.14315, params: {'alpha': 9.9999999999999995e-07}, mean: -1817.58711, std: 542.14317, params: {'alpha': 1.0000000000000001e-05}, mean: -1817.58707, std: 542.14331, params: {'alpha': 0.0001}, mean: -1817.58663, std: 542.14477, params: {'alpha': 0.001}, mean: -1817.58230, std: 542.15933, params: {'alpha': 0.01}, mean: -1817.54318, std: 542.30102, params: {'alpha': 0.10000000000000001}, mean: -1817.20111, std: 543.63587, params: {'alpha': 1.0}, mean: -1814.09369, std: 556.35563, params: {'alpha': 10.0}, mean: -1818.51694, std: 653.68607, params: {'alpha': 100.0}, mean: -2125.58777, std: 872.45270, params: {'alpha': 1000.0}, mean: -2458.08836, std: 951.30428, params: {'alpha': 10000.0}, mean: -2532.21151, std: 962.80083, params: {'alpha': 100000.0}, mean: -2541.38479, std: 963.98339, params: {'alpha': 1000000.0}, mean: -2542.32833, std: 964.10141, params: {'alpha': 10000000.0}, mean: -2542.42296, std: 964.11321, params: {'alpha': 100000000.0}, mean: -2542.43242, std: 964.11439, params: {'alpha': 1000000000.0}, mean: -2542.43337, std: 964.11450, params: {'alpha': 10000000000.0}]\n"
     ]
    }
   ],
   "source": [
    "print gs.grid_scores_ "
   ]
  },
  {
   "cell_type": "code",
   "execution_count": 20,
   "metadata": {},
   "outputs": [
    {
     "name": "stderr",
     "output_type": "stream",
     "text": [
      "C:\\Users\\yifan.zhu\\AppData\\Local\\Continuum\\anaconda2\\lib\\site-packages\\sklearn\\metrics\\scorer.py:100: DeprecationWarning: Scoring method mean_squared_error was renamed to neg_mean_squared_error in version 0.18 and will be removed in 0.20.\n",
      "  sample_weight=sample_weight)\n",
      "C:\\Users\\yifan.zhu\\AppData\\Local\\Continuum\\anaconda2\\lib\\site-packages\\sklearn\\metrics\\scorer.py:100: DeprecationWarning: Scoring method mean_squared_error was renamed to neg_mean_squared_error in version 0.18 and will be removed in 0.20.\n",
      "  sample_weight=sample_weight)\n",
      "C:\\Users\\yifan.zhu\\AppData\\Local\\Continuum\\anaconda2\\lib\\site-packages\\sklearn\\metrics\\scorer.py:100: DeprecationWarning: Scoring method mean_squared_error was renamed to neg_mean_squared_error in version 0.18 and will be removed in 0.20.\n",
      "  sample_weight=sample_weight)\n",
      "C:\\Users\\yifan.zhu\\AppData\\Local\\Continuum\\anaconda2\\lib\\site-packages\\sklearn\\metrics\\scorer.py:100: DeprecationWarning: Scoring method mean_squared_error was renamed to neg_mean_squared_error in version 0.18 and will be removed in 0.20.\n",
      "  sample_weight=sample_weight)\n",
      "C:\\Users\\yifan.zhu\\AppData\\Local\\Continuum\\anaconda2\\lib\\site-packages\\sklearn\\metrics\\scorer.py:100: DeprecationWarning: Scoring method mean_squared_error was renamed to neg_mean_squared_error in version 0.18 and will be removed in 0.20.\n",
      "  sample_weight=sample_weight)\n",
      "C:\\Users\\yifan.zhu\\AppData\\Local\\Continuum\\anaconda2\\lib\\site-packages\\sklearn\\metrics\\scorer.py:100: DeprecationWarning: Scoring method mean_squared_error was renamed to neg_mean_squared_error in version 0.18 and will be removed in 0.20.\n",
      "  sample_weight=sample_weight)\n",
      "C:\\Users\\yifan.zhu\\AppData\\Local\\Continuum\\anaconda2\\lib\\site-packages\\sklearn\\metrics\\scorer.py:100: DeprecationWarning: Scoring method mean_squared_error was renamed to neg_mean_squared_error in version 0.18 and will be removed in 0.20.\n",
      "  sample_weight=sample_weight)\n",
      "C:\\Users\\yifan.zhu\\AppData\\Local\\Continuum\\anaconda2\\lib\\site-packages\\sklearn\\metrics\\scorer.py:100: DeprecationWarning: Scoring method mean_squared_error was renamed to neg_mean_squared_error in version 0.18 and will be removed in 0.20.\n",
      "  sample_weight=sample_weight)\n",
      "C:\\Users\\yifan.zhu\\AppData\\Local\\Continuum\\anaconda2\\lib\\site-packages\\sklearn\\metrics\\scorer.py:100: DeprecationWarning: Scoring method mean_squared_error was renamed to neg_mean_squared_error in version 0.18 and will be removed in 0.20.\n",
      "  sample_weight=sample_weight)\n",
      "C:\\Users\\yifan.zhu\\AppData\\Local\\Continuum\\anaconda2\\lib\\site-packages\\sklearn\\metrics\\scorer.py:100: DeprecationWarning: Scoring method mean_squared_error was renamed to neg_mean_squared_error in version 0.18 and will be removed in 0.20.\n",
      "  sample_weight=sample_weight)\n",
      "C:\\Users\\yifan.zhu\\AppData\\Local\\Continuum\\anaconda2\\lib\\site-packages\\sklearn\\metrics\\scorer.py:100: DeprecationWarning: Scoring method mean_squared_error was renamed to neg_mean_squared_error in version 0.18 and will be removed in 0.20.\n",
      "  sample_weight=sample_weight)\n",
      "C:\\Users\\yifan.zhu\\AppData\\Local\\Continuum\\anaconda2\\lib\\site-packages\\sklearn\\metrics\\scorer.py:100: DeprecationWarning: Scoring method mean_squared_error was renamed to neg_mean_squared_error in version 0.18 and will be removed in 0.20.\n",
      "  sample_weight=sample_weight)\n",
      "C:\\Users\\yifan.zhu\\AppData\\Local\\Continuum\\anaconda2\\lib\\site-packages\\sklearn\\metrics\\scorer.py:100: DeprecationWarning: Scoring method mean_squared_error was renamed to neg_mean_squared_error in version 0.18 and will be removed in 0.20.\n",
      "  sample_weight=sample_weight)\n",
      "C:\\Users\\yifan.zhu\\AppData\\Local\\Continuum\\anaconda2\\lib\\site-packages\\sklearn\\metrics\\scorer.py:100: DeprecationWarning: Scoring method mean_squared_error was renamed to neg_mean_squared_error in version 0.18 and will be removed in 0.20.\n",
      "  sample_weight=sample_weight)\n",
      "C:\\Users\\yifan.zhu\\AppData\\Local\\Continuum\\anaconda2\\lib\\site-packages\\sklearn\\metrics\\scorer.py:100: DeprecationWarning: Scoring method mean_squared_error was renamed to neg_mean_squared_error in version 0.18 and will be removed in 0.20.\n",
      "  sample_weight=sample_weight)\n",
      "C:\\Users\\yifan.zhu\\AppData\\Local\\Continuum\\anaconda2\\lib\\site-packages\\sklearn\\metrics\\scorer.py:100: DeprecationWarning: Scoring method mean_squared_error was renamed to neg_mean_squared_error in version 0.18 and will be removed in 0.20.\n",
      "  sample_weight=sample_weight)\n",
      "C:\\Users\\yifan.zhu\\AppData\\Local\\Continuum\\anaconda2\\lib\\site-packages\\sklearn\\metrics\\scorer.py:100: DeprecationWarning: Scoring method mean_squared_error was renamed to neg_mean_squared_error in version 0.18 and will be removed in 0.20.\n",
      "  sample_weight=sample_weight)\n",
      "C:\\Users\\yifan.zhu\\AppData\\Local\\Continuum\\anaconda2\\lib\\site-packages\\sklearn\\metrics\\scorer.py:100: DeprecationWarning: Scoring method mean_squared_error was renamed to neg_mean_squared_error in version 0.18 and will be removed in 0.20.\n",
      "  sample_weight=sample_weight)\n",
      "C:\\Users\\yifan.zhu\\AppData\\Local\\Continuum\\anaconda2\\lib\\site-packages\\sklearn\\metrics\\scorer.py:100: DeprecationWarning: Scoring method mean_squared_error was renamed to neg_mean_squared_error in version 0.18 and will be removed in 0.20.\n",
      "  sample_weight=sample_weight)\n",
      "C:\\Users\\yifan.zhu\\AppData\\Local\\Continuum\\anaconda2\\lib\\site-packages\\sklearn\\metrics\\scorer.py:100: DeprecationWarning: Scoring method mean_squared_error was renamed to neg_mean_squared_error in version 0.18 and will be removed in 0.20.\n",
      "  sample_weight=sample_weight)\n",
      "C:\\Users\\yifan.zhu\\AppData\\Local\\Continuum\\anaconda2\\lib\\site-packages\\sklearn\\metrics\\scorer.py:100: DeprecationWarning: Scoring method mean_squared_error was renamed to neg_mean_squared_error in version 0.18 and will be removed in 0.20.\n",
      "  sample_weight=sample_weight)\n",
      "C:\\Users\\yifan.zhu\\AppData\\Local\\Continuum\\anaconda2\\lib\\site-packages\\sklearn\\metrics\\scorer.py:100: DeprecationWarning: Scoring method mean_squared_error was renamed to neg_mean_squared_error in version 0.18 and will be removed in 0.20.\n",
      "  sample_weight=sample_weight)\n",
      "C:\\Users\\yifan.zhu\\AppData\\Local\\Continuum\\anaconda2\\lib\\site-packages\\sklearn\\metrics\\scorer.py:100: DeprecationWarning: Scoring method mean_squared_error was renamed to neg_mean_squared_error in version 0.18 and will be removed in 0.20.\n",
      "  sample_weight=sample_weight)\n",
      "C:\\Users\\yifan.zhu\\AppData\\Local\\Continuum\\anaconda2\\lib\\site-packages\\sklearn\\metrics\\scorer.py:100: DeprecationWarning: Scoring method mean_squared_error was renamed to neg_mean_squared_error in version 0.18 and will be removed in 0.20.\n",
      "  sample_weight=sample_weight)\n",
      "C:\\Users\\yifan.zhu\\AppData\\Local\\Continuum\\anaconda2\\lib\\site-packages\\sklearn\\metrics\\scorer.py:100: DeprecationWarning: Scoring method mean_squared_error was renamed to neg_mean_squared_error in version 0.18 and will be removed in 0.20.\n",
      "  sample_weight=sample_weight)\n",
      "C:\\Users\\yifan.zhu\\AppData\\Local\\Continuum\\anaconda2\\lib\\site-packages\\sklearn\\metrics\\scorer.py:100: DeprecationWarning: Scoring method mean_squared_error was renamed to neg_mean_squared_error in version 0.18 and will be removed in 0.20.\n",
      "  sample_weight=sample_weight)\n",
      "C:\\Users\\yifan.zhu\\AppData\\Local\\Continuum\\anaconda2\\lib\\site-packages\\sklearn\\metrics\\scorer.py:100: DeprecationWarning: Scoring method mean_squared_error was renamed to neg_mean_squared_error in version 0.18 and will be removed in 0.20.\n",
      "  sample_weight=sample_weight)\n",
      "C:\\Users\\yifan.zhu\\AppData\\Local\\Continuum\\anaconda2\\lib\\site-packages\\sklearn\\metrics\\scorer.py:100: DeprecationWarning: Scoring method mean_squared_error was renamed to neg_mean_squared_error in version 0.18 and will be removed in 0.20.\n",
      "  sample_weight=sample_weight)\n",
      "C:\\Users\\yifan.zhu\\AppData\\Local\\Continuum\\anaconda2\\lib\\site-packages\\sklearn\\metrics\\scorer.py:100: DeprecationWarning: Scoring method mean_squared_error was renamed to neg_mean_squared_error in version 0.18 and will be removed in 0.20.\n",
      "  sample_weight=sample_weight)\n",
      "C:\\Users\\yifan.zhu\\AppData\\Local\\Continuum\\anaconda2\\lib\\site-packages\\sklearn\\metrics\\scorer.py:100: DeprecationWarning: Scoring method mean_squared_error was renamed to neg_mean_squared_error in version 0.18 and will be removed in 0.20.\n",
      "  sample_weight=sample_weight)\n",
      "C:\\Users\\yifan.zhu\\AppData\\Local\\Continuum\\anaconda2\\lib\\site-packages\\sklearn\\metrics\\scorer.py:100: DeprecationWarning: Scoring method mean_squared_error was renamed to neg_mean_squared_error in version 0.18 and will be removed in 0.20.\n",
      "  sample_weight=sample_weight)\n"
     ]
    },
    {
     "name": "stderr",
     "output_type": "stream",
     "text": [
      "C:\\Users\\yifan.zhu\\AppData\\Local\\Continuum\\anaconda2\\lib\\site-packages\\sklearn\\metrics\\scorer.py:100: DeprecationWarning: Scoring method mean_squared_error was renamed to neg_mean_squared_error in version 0.18 and will be removed in 0.20.\n",
      "  sample_weight=sample_weight)\n",
      "C:\\Users\\yifan.zhu\\AppData\\Local\\Continuum\\anaconda2\\lib\\site-packages\\sklearn\\metrics\\scorer.py:100: DeprecationWarning: Scoring method mean_squared_error was renamed to neg_mean_squared_error in version 0.18 and will be removed in 0.20.\n",
      "  sample_weight=sample_weight)\n",
      "C:\\Users\\yifan.zhu\\AppData\\Local\\Continuum\\anaconda2\\lib\\site-packages\\sklearn\\metrics\\scorer.py:100: DeprecationWarning: Scoring method mean_squared_error was renamed to neg_mean_squared_error in version 0.18 and will be removed in 0.20.\n",
      "  sample_weight=sample_weight)\n",
      "C:\\Users\\yifan.zhu\\AppData\\Local\\Continuum\\anaconda2\\lib\\site-packages\\sklearn\\metrics\\scorer.py:100: DeprecationWarning: Scoring method mean_squared_error was renamed to neg_mean_squared_error in version 0.18 and will be removed in 0.20.\n",
      "  sample_weight=sample_weight)\n",
      "C:\\Users\\yifan.zhu\\AppData\\Local\\Continuum\\anaconda2\\lib\\site-packages\\sklearn\\metrics\\scorer.py:100: DeprecationWarning: Scoring method mean_squared_error was renamed to neg_mean_squared_error in version 0.18 and will be removed in 0.20.\n",
      "  sample_weight=sample_weight)\n",
      "C:\\Users\\yifan.zhu\\AppData\\Local\\Continuum\\anaconda2\\lib\\site-packages\\sklearn\\metrics\\scorer.py:100: DeprecationWarning: Scoring method mean_squared_error was renamed to neg_mean_squared_error in version 0.18 and will be removed in 0.20.\n",
      "  sample_weight=sample_weight)\n",
      "C:\\Users\\yifan.zhu\\AppData\\Local\\Continuum\\anaconda2\\lib\\site-packages\\sklearn\\metrics\\scorer.py:100: DeprecationWarning: Scoring method mean_squared_error was renamed to neg_mean_squared_error in version 0.18 and will be removed in 0.20.\n",
      "  sample_weight=sample_weight)\n",
      "C:\\Users\\yifan.zhu\\AppData\\Local\\Continuum\\anaconda2\\lib\\site-packages\\sklearn\\metrics\\scorer.py:100: DeprecationWarning: Scoring method mean_squared_error was renamed to neg_mean_squared_error in version 0.18 and will be removed in 0.20.\n",
      "  sample_weight=sample_weight)\n",
      "C:\\Users\\yifan.zhu\\AppData\\Local\\Continuum\\anaconda2\\lib\\site-packages\\sklearn\\metrics\\scorer.py:100: DeprecationWarning: Scoring method mean_squared_error was renamed to neg_mean_squared_error in version 0.18 and will be removed in 0.20.\n",
      "  sample_weight=sample_weight)\n",
      "C:\\Users\\yifan.zhu\\AppData\\Local\\Continuum\\anaconda2\\lib\\site-packages\\sklearn\\metrics\\scorer.py:100: DeprecationWarning: Scoring method mean_squared_error was renamed to neg_mean_squared_error in version 0.18 and will be removed in 0.20.\n",
      "  sample_weight=sample_weight)\n",
      "C:\\Users\\yifan.zhu\\AppData\\Local\\Continuum\\anaconda2\\lib\\site-packages\\sklearn\\metrics\\scorer.py:100: DeprecationWarning: Scoring method mean_squared_error was renamed to neg_mean_squared_error in version 0.18 and will be removed in 0.20.\n",
      "  sample_weight=sample_weight)\n",
      "C:\\Users\\yifan.zhu\\AppData\\Local\\Continuum\\anaconda2\\lib\\site-packages\\sklearn\\metrics\\scorer.py:100: DeprecationWarning: Scoring method mean_squared_error was renamed to neg_mean_squared_error in version 0.18 and will be removed in 0.20.\n",
      "  sample_weight=sample_weight)\n",
      "C:\\Users\\yifan.zhu\\AppData\\Local\\Continuum\\anaconda2\\lib\\site-packages\\sklearn\\metrics\\scorer.py:100: DeprecationWarning: Scoring method mean_squared_error was renamed to neg_mean_squared_error in version 0.18 and will be removed in 0.20.\n",
      "  sample_weight=sample_weight)\n",
      "C:\\Users\\yifan.zhu\\AppData\\Local\\Continuum\\anaconda2\\lib\\site-packages\\sklearn\\metrics\\scorer.py:100: DeprecationWarning: Scoring method mean_squared_error was renamed to neg_mean_squared_error in version 0.18 and will be removed in 0.20.\n",
      "  sample_weight=sample_weight)\n",
      "C:\\Users\\yifan.zhu\\AppData\\Local\\Continuum\\anaconda2\\lib\\site-packages\\sklearn\\metrics\\scorer.py:100: DeprecationWarning: Scoring method mean_squared_error was renamed to neg_mean_squared_error in version 0.18 and will be removed in 0.20.\n",
      "  sample_weight=sample_weight)\n",
      "C:\\Users\\yifan.zhu\\AppData\\Local\\Continuum\\anaconda2\\lib\\site-packages\\sklearn\\metrics\\scorer.py:100: DeprecationWarning: Scoring method mean_squared_error was renamed to neg_mean_squared_error in version 0.18 and will be removed in 0.20.\n",
      "  sample_weight=sample_weight)\n",
      "C:\\Users\\yifan.zhu\\AppData\\Local\\Continuum\\anaconda2\\lib\\site-packages\\sklearn\\metrics\\scorer.py:100: DeprecationWarning: Scoring method mean_squared_error was renamed to neg_mean_squared_error in version 0.18 and will be removed in 0.20.\n",
      "  sample_weight=sample_weight)\n",
      "C:\\Users\\yifan.zhu\\AppData\\Local\\Continuum\\anaconda2\\lib\\site-packages\\sklearn\\metrics\\scorer.py:100: DeprecationWarning: Scoring method mean_squared_error was renamed to neg_mean_squared_error in version 0.18 and will be removed in 0.20.\n",
      "  sample_weight=sample_weight)\n",
      "C:\\Users\\yifan.zhu\\AppData\\Local\\Continuum\\anaconda2\\lib\\site-packages\\sklearn\\metrics\\scorer.py:100: DeprecationWarning: Scoring method mean_squared_error was renamed to neg_mean_squared_error in version 0.18 and will be removed in 0.20.\n",
      "  sample_weight=sample_weight)\n",
      "C:\\Users\\yifan.zhu\\AppData\\Local\\Continuum\\anaconda2\\lib\\site-packages\\sklearn\\metrics\\scorer.py:100: DeprecationWarning: Scoring method mean_squared_error was renamed to neg_mean_squared_error in version 0.18 and will be removed in 0.20.\n",
      "  sample_weight=sample_weight)\n",
      "C:\\Users\\yifan.zhu\\AppData\\Local\\Continuum\\anaconda2\\lib\\site-packages\\sklearn\\metrics\\scorer.py:100: DeprecationWarning: Scoring method mean_squared_error was renamed to neg_mean_squared_error in version 0.18 and will be removed in 0.20.\n",
      "  sample_weight=sample_weight)\n",
      "C:\\Users\\yifan.zhu\\AppData\\Local\\Continuum\\anaconda2\\lib\\site-packages\\sklearn\\metrics\\scorer.py:100: DeprecationWarning: Scoring method mean_squared_error was renamed to neg_mean_squared_error in version 0.18 and will be removed in 0.20.\n",
      "  sample_weight=sample_weight)\n",
      "C:\\Users\\yifan.zhu\\AppData\\Local\\Continuum\\anaconda2\\lib\\site-packages\\sklearn\\metrics\\scorer.py:100: DeprecationWarning: Scoring method mean_squared_error was renamed to neg_mean_squared_error in version 0.18 and will be removed in 0.20.\n",
      "  sample_weight=sample_weight)\n",
      "C:\\Users\\yifan.zhu\\AppData\\Local\\Continuum\\anaconda2\\lib\\site-packages\\sklearn\\metrics\\scorer.py:100: DeprecationWarning: Scoring method mean_squared_error was renamed to neg_mean_squared_error in version 0.18 and will be removed in 0.20.\n",
      "  sample_weight=sample_weight)\n",
      "C:\\Users\\yifan.zhu\\AppData\\Local\\Continuum\\anaconda2\\lib\\site-packages\\sklearn\\metrics\\scorer.py:100: DeprecationWarning: Scoring method mean_squared_error was renamed to neg_mean_squared_error in version 0.18 and will be removed in 0.20.\n",
      "  sample_weight=sample_weight)\n",
      "C:\\Users\\yifan.zhu\\AppData\\Local\\Continuum\\anaconda2\\lib\\site-packages\\sklearn\\metrics\\scorer.py:100: DeprecationWarning: Scoring method mean_squared_error was renamed to neg_mean_squared_error in version 0.18 and will be removed in 0.20.\n",
      "  sample_weight=sample_weight)\n",
      "C:\\Users\\yifan.zhu\\AppData\\Local\\Continuum\\anaconda2\\lib\\site-packages\\sklearn\\metrics\\scorer.py:100: DeprecationWarning: Scoring method mean_squared_error was renamed to neg_mean_squared_error in version 0.18 and will be removed in 0.20.\n",
      "  sample_weight=sample_weight)\n",
      "C:\\Users\\yifan.zhu\\AppData\\Local\\Continuum\\anaconda2\\lib\\site-packages\\sklearn\\metrics\\scorer.py:100: DeprecationWarning: Scoring method mean_squared_error was renamed to neg_mean_squared_error in version 0.18 and will be removed in 0.20.\n",
      "  sample_weight=sample_weight)\n",
      "C:\\Users\\yifan.zhu\\AppData\\Local\\Continuum\\anaconda2\\lib\\site-packages\\sklearn\\metrics\\scorer.py:100: DeprecationWarning: Scoring method mean_squared_error was renamed to neg_mean_squared_error in version 0.18 and will be removed in 0.20.\n",
      "  sample_weight=sample_weight)\n",
      "C:\\Users\\yifan.zhu\\AppData\\Local\\Continuum\\anaconda2\\lib\\site-packages\\sklearn\\metrics\\scorer.py:100: DeprecationWarning: Scoring method mean_squared_error was renamed to neg_mean_squared_error in version 0.18 and will be removed in 0.20.\n",
      "  sample_weight=sample_weight)\n",
      "C:\\Users\\yifan.zhu\\AppData\\Local\\Continuum\\anaconda2\\lib\\site-packages\\sklearn\\metrics\\scorer.py:100: DeprecationWarning: Scoring method mean_squared_error was renamed to neg_mean_squared_error in version 0.18 and will be removed in 0.20.\n",
      "  sample_weight=sample_weight)\n"
     ]
    },
    {
     "name": "stderr",
     "output_type": "stream",
     "text": [
      "C:\\Users\\yifan.zhu\\AppData\\Local\\Continuum\\anaconda2\\lib\\site-packages\\sklearn\\metrics\\scorer.py:100: DeprecationWarning: Scoring method mean_squared_error was renamed to neg_mean_squared_error in version 0.18 and will be removed in 0.20.\n",
      "  sample_weight=sample_weight)\n",
      "C:\\Users\\yifan.zhu\\AppData\\Local\\Continuum\\anaconda2\\lib\\site-packages\\sklearn\\metrics\\scorer.py:100: DeprecationWarning: Scoring method mean_squared_error was renamed to neg_mean_squared_error in version 0.18 and will be removed in 0.20.\n",
      "  sample_weight=sample_weight)\n",
      "C:\\Users\\yifan.zhu\\AppData\\Local\\Continuum\\anaconda2\\lib\\site-packages\\sklearn\\metrics\\scorer.py:100: DeprecationWarning: Scoring method mean_squared_error was renamed to neg_mean_squared_error in version 0.18 and will be removed in 0.20.\n",
      "  sample_weight=sample_weight)\n",
      "C:\\Users\\yifan.zhu\\AppData\\Local\\Continuum\\anaconda2\\lib\\site-packages\\sklearn\\metrics\\scorer.py:100: DeprecationWarning: Scoring method mean_squared_error was renamed to neg_mean_squared_error in version 0.18 and will be removed in 0.20.\n",
      "  sample_weight=sample_weight)\n",
      "C:\\Users\\yifan.zhu\\AppData\\Local\\Continuum\\anaconda2\\lib\\site-packages\\sklearn\\metrics\\scorer.py:100: DeprecationWarning: Scoring method mean_squared_error was renamed to neg_mean_squared_error in version 0.18 and will be removed in 0.20.\n",
      "  sample_weight=sample_weight)\n",
      "C:\\Users\\yifan.zhu\\AppData\\Local\\Continuum\\anaconda2\\lib\\site-packages\\sklearn\\metrics\\scorer.py:100: DeprecationWarning: Scoring method mean_squared_error was renamed to neg_mean_squared_error in version 0.18 and will be removed in 0.20.\n",
      "  sample_weight=sample_weight)\n",
      "C:\\Users\\yifan.zhu\\AppData\\Local\\Continuum\\anaconda2\\lib\\site-packages\\sklearn\\metrics\\scorer.py:100: DeprecationWarning: Scoring method mean_squared_error was renamed to neg_mean_squared_error in version 0.18 and will be removed in 0.20.\n",
      "  sample_weight=sample_weight)\n",
      "C:\\Users\\yifan.zhu\\AppData\\Local\\Continuum\\anaconda2\\lib\\site-packages\\sklearn\\metrics\\scorer.py:100: DeprecationWarning: Scoring method mean_squared_error was renamed to neg_mean_squared_error in version 0.18 and will be removed in 0.20.\n",
      "  sample_weight=sample_weight)\n",
      "C:\\Users\\yifan.zhu\\AppData\\Local\\Continuum\\anaconda2\\lib\\site-packages\\sklearn\\metrics\\scorer.py:100: DeprecationWarning: Scoring method mean_squared_error was renamed to neg_mean_squared_error in version 0.18 and will be removed in 0.20.\n",
      "  sample_weight=sample_weight)\n",
      "C:\\Users\\yifan.zhu\\AppData\\Local\\Continuum\\anaconda2\\lib\\site-packages\\sklearn\\metrics\\scorer.py:100: DeprecationWarning: Scoring method mean_squared_error was renamed to neg_mean_squared_error in version 0.18 and will be removed in 0.20.\n",
      "  sample_weight=sample_weight)\n",
      "C:\\Users\\yifan.zhu\\AppData\\Local\\Continuum\\anaconda2\\lib\\site-packages\\sklearn\\metrics\\scorer.py:100: DeprecationWarning: Scoring method mean_squared_error was renamed to neg_mean_squared_error in version 0.18 and will be removed in 0.20.\n",
      "  sample_weight=sample_weight)\n",
      "C:\\Users\\yifan.zhu\\AppData\\Local\\Continuum\\anaconda2\\lib\\site-packages\\sklearn\\metrics\\scorer.py:100: DeprecationWarning: Scoring method mean_squared_error was renamed to neg_mean_squared_error in version 0.18 and will be removed in 0.20.\n",
      "  sample_weight=sample_weight)\n",
      "C:\\Users\\yifan.zhu\\AppData\\Local\\Continuum\\anaconda2\\lib\\site-packages\\sklearn\\metrics\\scorer.py:100: DeprecationWarning: Scoring method mean_squared_error was renamed to neg_mean_squared_error in version 0.18 and will be removed in 0.20.\n",
      "  sample_weight=sample_weight)\n",
      "C:\\Users\\yifan.zhu\\AppData\\Local\\Continuum\\anaconda2\\lib\\site-packages\\sklearn\\metrics\\scorer.py:100: DeprecationWarning: Scoring method mean_squared_error was renamed to neg_mean_squared_error in version 0.18 and will be removed in 0.20.\n",
      "  sample_weight=sample_weight)\n",
      "C:\\Users\\yifan.zhu\\AppData\\Local\\Continuum\\anaconda2\\lib\\site-packages\\sklearn\\metrics\\scorer.py:100: DeprecationWarning: Scoring method mean_squared_error was renamed to neg_mean_squared_error in version 0.18 and will be removed in 0.20.\n",
      "  sample_weight=sample_weight)\n",
      "C:\\Users\\yifan.zhu\\AppData\\Local\\Continuum\\anaconda2\\lib\\site-packages\\sklearn\\metrics\\scorer.py:100: DeprecationWarning: Scoring method mean_squared_error was renamed to neg_mean_squared_error in version 0.18 and will be removed in 0.20.\n",
      "  sample_weight=sample_weight)\n",
      "C:\\Users\\yifan.zhu\\AppData\\Local\\Continuum\\anaconda2\\lib\\site-packages\\sklearn\\metrics\\scorer.py:100: DeprecationWarning: Scoring method mean_squared_error was renamed to neg_mean_squared_error in version 0.18 and will be removed in 0.20.\n",
      "  sample_weight=sample_weight)\n",
      "C:\\Users\\yifan.zhu\\AppData\\Local\\Continuum\\anaconda2\\lib\\site-packages\\sklearn\\metrics\\scorer.py:100: DeprecationWarning: Scoring method mean_squared_error was renamed to neg_mean_squared_error in version 0.18 and will be removed in 0.20.\n",
      "  sample_weight=sample_weight)\n",
      "C:\\Users\\yifan.zhu\\AppData\\Local\\Continuum\\anaconda2\\lib\\site-packages\\sklearn\\metrics\\scorer.py:100: DeprecationWarning: Scoring method mean_squared_error was renamed to neg_mean_squared_error in version 0.18 and will be removed in 0.20.\n",
      "  sample_weight=sample_weight)\n",
      "C:\\Users\\yifan.zhu\\AppData\\Local\\Continuum\\anaconda2\\lib\\site-packages\\sklearn\\metrics\\scorer.py:100: DeprecationWarning: Scoring method mean_squared_error was renamed to neg_mean_squared_error in version 0.18 and will be removed in 0.20.\n",
      "  sample_weight=sample_weight)\n",
      "C:\\Users\\yifan.zhu\\AppData\\Local\\Continuum\\anaconda2\\lib\\site-packages\\sklearn\\metrics\\scorer.py:100: DeprecationWarning: Scoring method mean_squared_error was renamed to neg_mean_squared_error in version 0.18 and will be removed in 0.20.\n",
      "  sample_weight=sample_weight)\n",
      "C:\\Users\\yifan.zhu\\AppData\\Local\\Continuum\\anaconda2\\lib\\site-packages\\sklearn\\metrics\\scorer.py:100: DeprecationWarning: Scoring method mean_squared_error was renamed to neg_mean_squared_error in version 0.18 and will be removed in 0.20.\n",
      "  sample_weight=sample_weight)\n",
      "C:\\Users\\yifan.zhu\\AppData\\Local\\Continuum\\anaconda2\\lib\\site-packages\\sklearn\\metrics\\scorer.py:100: DeprecationWarning: Scoring method mean_squared_error was renamed to neg_mean_squared_error in version 0.18 and will be removed in 0.20.\n",
      "  sample_weight=sample_weight)\n",
      "C:\\Users\\yifan.zhu\\AppData\\Local\\Continuum\\anaconda2\\lib\\site-packages\\sklearn\\metrics\\scorer.py:100: DeprecationWarning: Scoring method mean_squared_error was renamed to neg_mean_squared_error in version 0.18 and will be removed in 0.20.\n",
      "  sample_weight=sample_weight)\n",
      "C:\\Users\\yifan.zhu\\AppData\\Local\\Continuum\\anaconda2\\lib\\site-packages\\sklearn\\metrics\\scorer.py:100: DeprecationWarning: Scoring method mean_squared_error was renamed to neg_mean_squared_error in version 0.18 and will be removed in 0.20.\n",
      "  sample_weight=sample_weight)\n",
      "C:\\Users\\yifan.zhu\\AppData\\Local\\Continuum\\anaconda2\\lib\\site-packages\\sklearn\\metrics\\scorer.py:100: DeprecationWarning: Scoring method mean_squared_error was renamed to neg_mean_squared_error in version 0.18 and will be removed in 0.20.\n",
      "  sample_weight=sample_weight)\n",
      "C:\\Users\\yifan.zhu\\AppData\\Local\\Continuum\\anaconda2\\lib\\site-packages\\sklearn\\metrics\\scorer.py:100: DeprecationWarning: Scoring method mean_squared_error was renamed to neg_mean_squared_error in version 0.18 and will be removed in 0.20.\n",
      "  sample_weight=sample_weight)\n",
      "C:\\Users\\yifan.zhu\\AppData\\Local\\Continuum\\anaconda2\\lib\\site-packages\\sklearn\\metrics\\scorer.py:100: DeprecationWarning: Scoring method mean_squared_error was renamed to neg_mean_squared_error in version 0.18 and will be removed in 0.20.\n",
      "  sample_weight=sample_weight)\n",
      "C:\\Users\\yifan.zhu\\AppData\\Local\\Continuum\\anaconda2\\lib\\site-packages\\sklearn\\metrics\\scorer.py:100: DeprecationWarning: Scoring method mean_squared_error was renamed to neg_mean_squared_error in version 0.18 and will be removed in 0.20.\n",
      "  sample_weight=sample_weight)\n",
      "C:\\Users\\yifan.zhu\\AppData\\Local\\Continuum\\anaconda2\\lib\\site-packages\\sklearn\\metrics\\scorer.py:100: DeprecationWarning: Scoring method mean_squared_error was renamed to neg_mean_squared_error in version 0.18 and will be removed in 0.20.\n",
      "  sample_weight=sample_weight)\n",
      "C:\\Users\\yifan.zhu\\AppData\\Local\\Continuum\\anaconda2\\lib\\site-packages\\sklearn\\metrics\\scorer.py:100: DeprecationWarning: Scoring method mean_squared_error was renamed to neg_mean_squared_error in version 0.18 and will be removed in 0.20.\n",
      "  sample_weight=sample_weight)\n",
      "C:\\Users\\yifan.zhu\\AppData\\Local\\Continuum\\anaconda2\\lib\\site-packages\\sklearn\\metrics\\scorer.py:100: DeprecationWarning: Scoring method mean_squared_error was renamed to neg_mean_squared_error in version 0.18 and will be removed in 0.20.\n",
      "  sample_weight=sample_weight)\n",
      "C:\\Users\\yifan.zhu\\AppData\\Local\\Continuum\\anaconda2\\lib\\site-packages\\sklearn\\metrics\\scorer.py:100: DeprecationWarning: Scoring method mean_squared_error was renamed to neg_mean_squared_error in version 0.18 and will be removed in 0.20.\n",
      "  sample_weight=sample_weight)\n"
     ]
    },
    {
     "name": "stderr",
     "output_type": "stream",
     "text": [
      "C:\\Users\\yifan.zhu\\AppData\\Local\\Continuum\\anaconda2\\lib\\site-packages\\sklearn\\metrics\\scorer.py:100: DeprecationWarning: Scoring method mean_squared_error was renamed to neg_mean_squared_error in version 0.18 and will be removed in 0.20.\n",
      "  sample_weight=sample_weight)\n",
      "C:\\Users\\yifan.zhu\\AppData\\Local\\Continuum\\anaconda2\\lib\\site-packages\\sklearn\\metrics\\scorer.py:100: DeprecationWarning: Scoring method mean_squared_error was renamed to neg_mean_squared_error in version 0.18 and will be removed in 0.20.\n",
      "  sample_weight=sample_weight)\n",
      "C:\\Users\\yifan.zhu\\AppData\\Local\\Continuum\\anaconda2\\lib\\site-packages\\sklearn\\metrics\\scorer.py:100: DeprecationWarning: Scoring method mean_squared_error was renamed to neg_mean_squared_error in version 0.18 and will be removed in 0.20.\n",
      "  sample_weight=sample_weight)\n",
      "C:\\Users\\yifan.zhu\\AppData\\Local\\Continuum\\anaconda2\\lib\\site-packages\\sklearn\\metrics\\scorer.py:100: DeprecationWarning: Scoring method mean_squared_error was renamed to neg_mean_squared_error in version 0.18 and will be removed in 0.20.\n",
      "  sample_weight=sample_weight)\n",
      "C:\\Users\\yifan.zhu\\AppData\\Local\\Continuum\\anaconda2\\lib\\site-packages\\sklearn\\metrics\\scorer.py:100: DeprecationWarning: Scoring method mean_squared_error was renamed to neg_mean_squared_error in version 0.18 and will be removed in 0.20.\n",
      "  sample_weight=sample_weight)\n",
      "C:\\Users\\yifan.zhu\\AppData\\Local\\Continuum\\anaconda2\\lib\\site-packages\\sklearn\\metrics\\scorer.py:100: DeprecationWarning: Scoring method mean_squared_error was renamed to neg_mean_squared_error in version 0.18 and will be removed in 0.20.\n",
      "  sample_weight=sample_weight)\n",
      "C:\\Users\\yifan.zhu\\AppData\\Local\\Continuum\\anaconda2\\lib\\site-packages\\sklearn\\metrics\\scorer.py:100: DeprecationWarning: Scoring method mean_squared_error was renamed to neg_mean_squared_error in version 0.18 and will be removed in 0.20.\n",
      "  sample_weight=sample_weight)\n",
      "C:\\Users\\yifan.zhu\\AppData\\Local\\Continuum\\anaconda2\\lib\\site-packages\\sklearn\\metrics\\scorer.py:100: DeprecationWarning: Scoring method mean_squared_error was renamed to neg_mean_squared_error in version 0.18 and will be removed in 0.20.\n",
      "  sample_weight=sample_weight)\n",
      "C:\\Users\\yifan.zhu\\AppData\\Local\\Continuum\\anaconda2\\lib\\site-packages\\sklearn\\metrics\\scorer.py:100: DeprecationWarning: Scoring method mean_squared_error was renamed to neg_mean_squared_error in version 0.18 and will be removed in 0.20.\n",
      "  sample_weight=sample_weight)\n",
      "C:\\Users\\yifan.zhu\\AppData\\Local\\Continuum\\anaconda2\\lib\\site-packages\\sklearn\\metrics\\scorer.py:100: DeprecationWarning: Scoring method mean_squared_error was renamed to neg_mean_squared_error in version 0.18 and will be removed in 0.20.\n",
      "  sample_weight=sample_weight)\n",
      "C:\\Users\\yifan.zhu\\AppData\\Local\\Continuum\\anaconda2\\lib\\site-packages\\sklearn\\metrics\\scorer.py:100: DeprecationWarning: Scoring method mean_squared_error was renamed to neg_mean_squared_error in version 0.18 and will be removed in 0.20.\n",
      "  sample_weight=sample_weight)\n",
      "C:\\Users\\yifan.zhu\\AppData\\Local\\Continuum\\anaconda2\\lib\\site-packages\\sklearn\\metrics\\scorer.py:100: DeprecationWarning: Scoring method mean_squared_error was renamed to neg_mean_squared_error in version 0.18 and will be removed in 0.20.\n",
      "  sample_weight=sample_weight)\n",
      "C:\\Users\\yifan.zhu\\AppData\\Local\\Continuum\\anaconda2\\lib\\site-packages\\sklearn\\metrics\\scorer.py:100: DeprecationWarning: Scoring method mean_squared_error was renamed to neg_mean_squared_error in version 0.18 and will be removed in 0.20.\n",
      "  sample_weight=sample_weight)\n",
      "C:\\Users\\yifan.zhu\\AppData\\Local\\Continuum\\anaconda2\\lib\\site-packages\\sklearn\\metrics\\scorer.py:100: DeprecationWarning: Scoring method mean_squared_error was renamed to neg_mean_squared_error in version 0.18 and will be removed in 0.20.\n",
      "  sample_weight=sample_weight)\n",
      "C:\\Users\\yifan.zhu\\AppData\\Local\\Continuum\\anaconda2\\lib\\site-packages\\sklearn\\metrics\\scorer.py:100: DeprecationWarning: Scoring method mean_squared_error was renamed to neg_mean_squared_error in version 0.18 and will be removed in 0.20.\n",
      "  sample_weight=sample_weight)\n",
      "C:\\Users\\yifan.zhu\\AppData\\Local\\Continuum\\anaconda2\\lib\\site-packages\\sklearn\\metrics\\scorer.py:100: DeprecationWarning: Scoring method mean_squared_error was renamed to neg_mean_squared_error in version 0.18 and will be removed in 0.20.\n",
      "  sample_weight=sample_weight)\n",
      "C:\\Users\\yifan.zhu\\AppData\\Local\\Continuum\\anaconda2\\lib\\site-packages\\sklearn\\metrics\\scorer.py:100: DeprecationWarning: Scoring method mean_squared_error was renamed to neg_mean_squared_error in version 0.18 and will be removed in 0.20.\n",
      "  sample_weight=sample_weight)\n",
      "C:\\Users\\yifan.zhu\\AppData\\Local\\Continuum\\anaconda2\\lib\\site-packages\\sklearn\\metrics\\scorer.py:100: DeprecationWarning: Scoring method mean_squared_error was renamed to neg_mean_squared_error in version 0.18 and will be removed in 0.20.\n",
      "  sample_weight=sample_weight)\n",
      "C:\\Users\\yifan.zhu\\AppData\\Local\\Continuum\\anaconda2\\lib\\site-packages\\sklearn\\metrics\\scorer.py:100: DeprecationWarning: Scoring method mean_squared_error was renamed to neg_mean_squared_error in version 0.18 and will be removed in 0.20.\n",
      "  sample_weight=sample_weight)\n",
      "C:\\Users\\yifan.zhu\\AppData\\Local\\Continuum\\anaconda2\\lib\\site-packages\\sklearn\\metrics\\scorer.py:100: DeprecationWarning: Scoring method mean_squared_error was renamed to neg_mean_squared_error in version 0.18 and will be removed in 0.20.\n",
      "  sample_weight=sample_weight)\n",
      "C:\\Users\\yifan.zhu\\AppData\\Local\\Continuum\\anaconda2\\lib\\site-packages\\sklearn\\metrics\\scorer.py:100: DeprecationWarning: Scoring method mean_squared_error was renamed to neg_mean_squared_error in version 0.18 and will be removed in 0.20.\n",
      "  sample_weight=sample_weight)\n",
      "C:\\Users\\yifan.zhu\\AppData\\Local\\Continuum\\anaconda2\\lib\\site-packages\\sklearn\\metrics\\scorer.py:100: DeprecationWarning: Scoring method mean_squared_error was renamed to neg_mean_squared_error in version 0.18 and will be removed in 0.20.\n",
      "  sample_weight=sample_weight)\n",
      "C:\\Users\\yifan.zhu\\AppData\\Local\\Continuum\\anaconda2\\lib\\site-packages\\sklearn\\metrics\\scorer.py:100: DeprecationWarning: Scoring method mean_squared_error was renamed to neg_mean_squared_error in version 0.18 and will be removed in 0.20.\n",
      "  sample_weight=sample_weight)\n",
      "C:\\Users\\yifan.zhu\\AppData\\Local\\Continuum\\anaconda2\\lib\\site-packages\\sklearn\\metrics\\scorer.py:100: DeprecationWarning: Scoring method mean_squared_error was renamed to neg_mean_squared_error in version 0.18 and will be removed in 0.20.\n",
      "  sample_weight=sample_weight)\n",
      "C:\\Users\\yifan.zhu\\AppData\\Local\\Continuum\\anaconda2\\lib\\site-packages\\sklearn\\metrics\\scorer.py:100: DeprecationWarning: Scoring method mean_squared_error was renamed to neg_mean_squared_error in version 0.18 and will be removed in 0.20.\n",
      "  sample_weight=sample_weight)\n",
      "C:\\Users\\yifan.zhu\\AppData\\Local\\Continuum\\anaconda2\\lib\\site-packages\\sklearn\\metrics\\scorer.py:100: DeprecationWarning: Scoring method mean_squared_error was renamed to neg_mean_squared_error in version 0.18 and will be removed in 0.20.\n",
      "  sample_weight=sample_weight)\n",
      "C:\\Users\\yifan.zhu\\AppData\\Local\\Continuum\\anaconda2\\lib\\site-packages\\sklearn\\metrics\\scorer.py:100: DeprecationWarning: Scoring method mean_squared_error was renamed to neg_mean_squared_error in version 0.18 and will be removed in 0.20.\n",
      "  sample_weight=sample_weight)\n",
      "C:\\Users\\yifan.zhu\\AppData\\Local\\Continuum\\anaconda2\\lib\\site-packages\\sklearn\\metrics\\scorer.py:100: DeprecationWarning: Scoring method mean_squared_error was renamed to neg_mean_squared_error in version 0.18 and will be removed in 0.20.\n",
      "  sample_weight=sample_weight)\n",
      "C:\\Users\\yifan.zhu\\AppData\\Local\\Continuum\\anaconda2\\lib\\site-packages\\sklearn\\metrics\\scorer.py:100: DeprecationWarning: Scoring method mean_squared_error was renamed to neg_mean_squared_error in version 0.18 and will be removed in 0.20.\n",
      "  sample_weight=sample_weight)\n",
      "C:\\Users\\yifan.zhu\\AppData\\Local\\Continuum\\anaconda2\\lib\\site-packages\\sklearn\\metrics\\scorer.py:100: DeprecationWarning: Scoring method mean_squared_error was renamed to neg_mean_squared_error in version 0.18 and will be removed in 0.20.\n",
      "  sample_weight=sample_weight)\n",
      "C:\\Users\\yifan.zhu\\AppData\\Local\\Continuum\\anaconda2\\lib\\site-packages\\sklearn\\metrics\\scorer.py:100: DeprecationWarning: Scoring method mean_squared_error was renamed to neg_mean_squared_error in version 0.18 and will be removed in 0.20.\n",
      "  sample_weight=sample_weight)\n"
     ]
    },
    {
     "data": {
      "text/plain": [
       "GridSearchCV(cv=None, error_score='raise',\n",
       "       estimator=Ridge(alpha=1.0, copy_X=True, fit_intercept=True, max_iter=None,\n",
       "   normalize=False, random_state=None, solver='auto', tol=0.001),\n",
       "       fit_params={}, iid=True, n_jobs=1,\n",
       "       param_grid={'alpha': array([  1.00000e-10,   1.00000e-09,   1.00000e-08,   1.00000e-07,\n",
       "         1.00000e-06,   1.00000e-05,   1.00000e-04,   1.00000e-03,\n",
       "         1.00000e-02,   1.00000e-01,   1.00000e+00,   1.00000e+01,\n",
       "         1.00000e+02,   1.00000e+03,   1.00000e+04,   1.00000e+05,\n",
       "         1.00000e+06,   1.00000e+07,   1.00000e+08,   1.00000e+09,\n",
       "         1.00000e+10]), 'fit_intercept': [True, False]},\n",
       "       pre_dispatch='2*n_jobs', refit=True, scoring='mean_squared_error',\n",
       "       verbose=0)"
      ]
     },
     "execution_count": 20,
     "metadata": {},
     "output_type": "execute_result"
    }
   ],
   "source": [
    "### try adding a new hyper-parameter with intercept ###\n",
    "\n",
    "from sklearn import grid_search\n",
    "\n",
    "alphas = np.logspace(-10, 10, 21)\n",
    "\n",
    "gs = grid_search.GridSearchCV(\n",
    "    estimator=linear_model.Ridge(),\n",
    "    param_grid={'alpha': alphas,\n",
    "               'fit_intercept':[True, False]\n",
    "               },\n",
    "    scoring='mean_squared_error')\n",
    "\n",
    "### above is model initialization ###\n",
    "\n",
    "gs.fit(modeldata, y)\n",
    "### above is the model fitting part ###\n",
    "\n",
    "# There could be multiple parameters set in the param_grid section\n",
    "# cross-validation is also built into this grid search function, so you need to give it the entire data \n"
   ]
  },
  {
   "cell_type": "markdown",
   "metadata": {},
   "source": [
    "## Gradient Descent"
   ]
  },
  {
   "cell_type": "code",
   "execution_count": 2,
   "metadata": {},
   "outputs": [
    {
     "name": "stdout",
     "output_type": "stream",
     "text": [
      "5.2 is better than 6.2\n",
      "found better solution! using 5.2\n",
      "4.2 is better than 5.2\n",
      "found better solution! using 4.2\n",
      "3.2 is better than 4.2\n",
      "found better solution! using 3.2\n",
      "2.2 is better than 3.2\n",
      "found better solution! using 2.2\n",
      "1.2 is better than 2.2\n",
      "found better solution! using 1.2\n",
      "0.2 is better than 1.2\n",
      "found better solution! using 0.2\n",
      "6.0 is closest to 6.2\n"
     ]
    }
   ],
   "source": [
    "import numpy as np\n",
    "\n",
    "num_to_approach, start, steps, optimized = 6.2, 0., [-1, 1], False\n",
    "while not optimized:\n",
    "    current_distance = num_to_approach - start\n",
    "    got_better = False\n",
    "    next_steps = [start + i for i in steps]\n",
    "    for n in next_steps:\n",
    "        distance = np.abs(num_to_approach - n)\n",
    "        if distance < current_distance:\n",
    "            got_better = True\n",
    "            print distance, 'is better than', current_distance\n",
    "            current_distance = distance\n",
    "            start = n\n",
    "    if got_better:\n",
    "        print 'found better solution! using', current_distance\n",
    "        n += 1\n",
    "    else:\n",
    "        optimized = True\n",
    "        print start, 'is closest to', num_to_approach\n"
   ]
  },
  {
   "cell_type": "markdown",
   "metadata": {},
   "source": [
    "### Bonus: \n",
    "implement a stopping point, similar to what n_iter would do in gradient descent when we've reached \"good enough\""
   ]
  },
  {
   "cell_type": "code",
   "execution_count": null,
   "metadata": {
    "collapsed": true
   },
   "outputs": [],
   "source": [
    "\n",
    "\n"
   ]
  },
  {
   "cell_type": "markdown",
   "metadata": {},
   "source": [
    "## Demo: Application of Gradient Descent "
   ]
  },
  {
   "cell_type": "code",
   "execution_count": 23,
   "metadata": {},
   "outputs": [
    {
     "name": "stdout",
     "output_type": "stream",
     "text": [
      "Gradient Descent R2: 0.30829825057\n",
      "Gradient Descent MSE: 1681.42052819\n"
     ]
    },
    {
     "name": "stderr",
     "output_type": "stream",
     "text": [
      "C:\\Users\\yifan.zhu\\AppData\\Local\\Continuum\\anaconda2\\lib\\site-packages\\sklearn\\linear_model\\stochastic_gradient.py:128: FutureWarning: max_iter and tol parameters have been added in <class 'sklearn.linear_model.stochastic_gradient.SGDRegressor'> in 0.19. If both are left unset, they default to max_iter=5 and tol=None. If tol is not None, max_iter defaults to max_iter=1000. From 0.21, default max_iter will be 1000, and default tol will be 1e-3.\n",
      "  \"and default tol will be 1e-3.\" % type(self), FutureWarning)\n"
     ]
    }
   ],
   "source": [
    "lm = linear_model.SGDRegressor() # initialize the model\n",
    "lm.fit(modeldata, y) # fit the model\n",
    "print \"Gradient Descent R2:\", lm.score(modeldata, y)\n",
    "print \"Gradient Descent MSE:\", metrics.mean_squared_error(y, lm.predict(modeldata))"
   ]
  },
  {
   "cell_type": "markdown",
   "metadata": {},
   "source": [
    "### Check: Untuned, how well did gradient descent perform compared to OLS?"
   ]
  },
  {
   "cell_type": "code",
   "execution_count": 25,
   "metadata": {
    "collapsed": true
   },
   "outputs": [],
   "source": [
    "?linear_model.SGDRegressor()\n",
    "# penalty = l2 = ridge, l1 = lasso, none = OLS"
   ]
  },
  {
   "cell_type": "markdown",
   "metadata": {},
   "source": [
    "Answer: "
   ]
  },
  {
   "cell_type": "markdown",
   "metadata": {},
   "source": [
    "# Independent Practice: Bike data revisited\n",
    "\n",
    "There are tons of ways to approach a regression problem. The regularization techniques appended to ordinary least squares optimizes the size of coefficients to best account for error. Gradient Descent also introduces learning rate (how aggressively do we solve the problem), epsilon (at what point do we say the error margin is acceptable), and iterations (when should we stop no matter what?)\n",
    "\n",
    "For this deliverable, our goals are to:\n",
    "\n",
    "- implement the gradient descent approach to our bike-share modeling problem,\n",
    "- show how gradient descent solves and optimizes the solution,\n",
    "- demonstrate the grid_search module!\n",
    "\n",
    "While exploring the Gradient Descent regressor object, you'll build a grid search using the stochastic gradient descent estimator for the bike-share data set. Continue with either the model you evaluated last class or the simpler one from today. In particular, be sure to implement the \"param_grid\" in the grid search to get answers for the following questions:\n",
    "\n",
    "- With a set of alpha values between 10^-10 and 10^-1, how does the mean squared error change?\n",
    "- Based on the data, we know when to properly use l1 vs l2 regularization. By using a grid search with l1_ratios between 0 and 1 (increasing every 0.05), does that statement hold true? If not, did gradient descent have enough iterations?\n",
    "- How do these results change when you alter the learning rate (eta0)?\n",
    "\n",
    "**Bonus**: Can you see the advantages and disadvantages of using gradient descent after finishing this exercise?"
   ]
  },
  {
   "cell_type": "markdown",
   "metadata": {},
   "source": [
    "### Starter Code"
   ]
  },
  {
   "cell_type": "code",
   "execution_count": 31,
   "metadata": {},
   "outputs": [
    {
     "name": "stdout",
     "output_type": "stream",
     "text": [
      "BEST ESTIMATOR\n",
      "1673.3537083\n",
      "SGDRegressor(alpha=9.9999999999999995e-08, average=False, epsilon=0.1,\n",
      "       eta0=0.031622776601683812, fit_intercept=True, l1_ratio=0.15,\n",
      "       learning_rate='invscaling', loss='squared_loss', max_iter=None,\n",
      "       n_iter=None, penalty='l2', power_t=0.25, random_state=None,\n",
      "       shuffle=True, tol=None, verbose=0, warm_start=False)\n",
      "ALL ESTIMATORS\n",
      "[mean: -2133.22018, std: 116.09864, params: {'penalty': 'l1', 'alpha': 1e-10, 'eta0': 0.001}, mean: -2132.85099, std: 116.01242, params: {'penalty': 'l2', 'alpha': 1e-10, 'eta0': 0.001}, mean: -2133.18079, std: 116.36202, params: {'penalty': 'elasticnet', 'alpha': 1e-10, 'eta0': 0.001}, mean: -1981.55561, std: 108.51071, params: {'penalty': 'l1', 'alpha': 1e-10, 'eta0': 0.0019952623149688789}, mean: -1981.03718, std: 107.90437, params: {'penalty': 'l2', 'alpha': 1e-10, 'eta0': 0.0019952623149688789}, mean: -1980.86679, std: 109.54704, params: {'penalty': 'elasticnet', 'alpha': 1e-10, 'eta0': 0.0019952623149688789}, mean: -1814.35827, std: 97.41839, params: {'penalty': 'l1', 'alpha': 1e-10, 'eta0': 0.0039810717055349734}, mean: -1814.96279, std: 97.60363, params: {'penalty': 'l2', 'alpha': 1e-10, 'eta0': 0.0039810717055349734}, mean: -1814.73436, std: 97.70364, params: {'penalty': 'elasticnet', 'alpha': 1e-10, 'eta0': 0.0039810717055349734}, mean: -1706.19495, std: 84.84757, params: {'penalty': 'l1', 'alpha': 1e-10, 'eta0': 0.0079432823472428207}, mean: -1705.38847, std: 85.35780, params: {'penalty': 'l2', 'alpha': 1e-10, 'eta0': 0.0079432823472428207}, mean: -1705.27896, std: 85.10279, params: {'penalty': 'elasticnet', 'alpha': 1e-10, 'eta0': 0.0079432823472428207}, mean: -1676.60637, std: 77.29430, params: {'penalty': 'l1', 'alpha': 1e-10, 'eta0': 0.015848931924611141}, mean: -1677.50853, std: 77.15897, params: {'penalty': 'l2', 'alpha': 1e-10, 'eta0': 0.015848931924611141}, mean: -1677.57753, std: 76.42205, params: {'penalty': 'elasticnet', 'alpha': 1e-10, 'eta0': 0.015848931924611141}, mean: -1675.47911, std: 74.75250, params: {'penalty': 'l1', 'alpha': 1e-10, 'eta0': 0.031622776601683812}, mean: -1680.31910, std: 74.66832, params: {'penalty': 'l2', 'alpha': 1e-10, 'eta0': 0.031622776601683812}, mean: -1680.40015, std: 70.47662, params: {'penalty': 'elasticnet', 'alpha': 1e-10, 'eta0': 0.031622776601683812}, mean: -1684.67389, std: 72.29299, params: {'penalty': 'l1', 'alpha': 1e-10, 'eta0': 0.063095734448019358}, mean: -1687.24417, std: 75.00682, params: {'penalty': 'l2', 'alpha': 1e-10, 'eta0': 0.063095734448019358}, mean: -1680.80590, std: 79.66503, params: {'penalty': 'elasticnet', 'alpha': 1e-10, 'eta0': 0.063095734448019358}, mean: -1692.24090, std: 79.68974, params: {'penalty': 'l1', 'alpha': 1e-10, 'eta0': 0.12589254117941687}, mean: -1689.19922, std: 67.57168, params: {'penalty': 'l2', 'alpha': 1e-10, 'eta0': 0.12589254117941687}, mean: -1703.01437, std: 105.80596, params: {'penalty': 'elasticnet', 'alpha': 1e-10, 'eta0': 0.12589254117941687}, mean: -1725.70083, std: 154.90618, params: {'penalty': 'l1', 'alpha': 1e-10, 'eta0': 0.25118864315095824}, mean: -1687.32094, std: 67.24793, params: {'penalty': 'l2', 'alpha': 1e-10, 'eta0': 0.25118864315095824}, mean: -1701.19532, std: 61.47126, params: {'penalty': 'elasticnet', 'alpha': 1e-10, 'eta0': 0.25118864315095824}, mean: -1784.95307, std: 228.89238, params: {'penalty': 'l1', 'alpha': 1e-10, 'eta0': 0.50118723362727224}, mean: -1716.66916, std: 55.29117, params: {'penalty': 'l2', 'alpha': 1e-10, 'eta0': 0.50118723362727224}, mean: -1750.93240, std: 105.13774, params: {'penalty': 'elasticnet', 'alpha': 1e-10, 'eta0': 0.50118723362727224}, mean: -2133.28527, std: 116.41227, params: {'penalty': 'l1', 'alpha': 1.0000000000000001e-09, 'eta0': 0.001}, mean: -2133.50358, std: 116.25849, params: {'penalty': 'l2', 'alpha': 1.0000000000000001e-09, 'eta0': 0.001}, mean: -2133.27452, std: 115.99148, params: {'penalty': 'elasticnet', 'alpha': 1.0000000000000001e-09, 'eta0': 0.001}, mean: -1981.67052, std: 109.49269, params: {'penalty': 'l1', 'alpha': 1.0000000000000001e-09, 'eta0': 0.0019952623149688789}, mean: -1981.44055, std: 108.11560, params: {'penalty': 'l2', 'alpha': 1.0000000000000001e-09, 'eta0': 0.0019952623149688789}, mean: -1980.72123, std: 107.69869, params: {'penalty': 'elasticnet', 'alpha': 1.0000000000000001e-09, 'eta0': 0.0019952623149688789}, mean: -1814.82026, std: 95.98994, params: {'penalty': 'l1', 'alpha': 1.0000000000000001e-09, 'eta0': 0.0039810717055349734}, mean: -1814.73047, std: 97.25013, params: {'penalty': 'l2', 'alpha': 1.0000000000000001e-09, 'eta0': 0.0039810717055349734}, mean: -1814.79688, std: 96.51856, params: {'penalty': 'elasticnet', 'alpha': 1.0000000000000001e-09, 'eta0': 0.0039810717055349734}, mean: -1704.80833, std: 84.28239, params: {'penalty': 'l1', 'alpha': 1.0000000000000001e-09, 'eta0': 0.0079432823472428207}, mean: -1705.18299, std: 85.30604, params: {'penalty': 'l2', 'alpha': 1.0000000000000001e-09, 'eta0': 0.0079432823472428207}, mean: -1705.17328, std: 85.20079, params: {'penalty': 'elasticnet', 'alpha': 1.0000000000000001e-09, 'eta0': 0.0079432823472428207}, mean: -1677.16728, std: 77.16653, params: {'penalty': 'l1', 'alpha': 1.0000000000000001e-09, 'eta0': 0.015848931924611141}, mean: -1676.51448, std: 76.74228, params: {'penalty': 'l2', 'alpha': 1.0000000000000001e-09, 'eta0': 0.015848931924611141}, mean: -1677.16117, std: 74.81603, params: {'penalty': 'elasticnet', 'alpha': 1.0000000000000001e-09, 'eta0': 0.015848931924611141}, mean: -1677.97505, std: 74.98343, params: {'penalty': 'l1', 'alpha': 1.0000000000000001e-09, 'eta0': 0.031622776601683812}, mean: -1675.98473, std: 75.76813, params: {'penalty': 'l2', 'alpha': 1.0000000000000001e-09, 'eta0': 0.031622776601683812}, mean: -1674.33454, std: 73.93242, params: {'penalty': 'elasticnet', 'alpha': 1.0000000000000001e-09, 'eta0': 0.031622776601683812}, mean: -1680.74747, std: 76.59954, params: {'penalty': 'l1', 'alpha': 1.0000000000000001e-09, 'eta0': 0.063095734448019358}, mean: -1694.78505, std: 68.28516, params: {'penalty': 'l2', 'alpha': 1.0000000000000001e-09, 'eta0': 0.063095734448019358}, mean: -1677.93539, std: 74.09012, params: {'penalty': 'elasticnet', 'alpha': 1.0000000000000001e-09, 'eta0': 0.063095734448019358}, mean: -1680.04472, std: 77.08027, params: {'penalty': 'l1', 'alpha': 1.0000000000000001e-09, 'eta0': 0.12589254117941687}, mean: -1683.09243, std: 74.92640, params: {'penalty': 'l2', 'alpha': 1.0000000000000001e-09, 'eta0': 0.12589254117941687}, mean: -1713.91728, std: 79.29097, params: {'penalty': 'elasticnet', 'alpha': 1.0000000000000001e-09, 'eta0': 0.12589254117941687}, mean: -1751.80560, std: 94.03458, params: {'penalty': 'l1', 'alpha': 1.0000000000000001e-09, 'eta0': 0.25118864315095824}, mean: -1701.03250, std: 67.60825, params: {'penalty': 'l2', 'alpha': 1.0000000000000001e-09, 'eta0': 0.25118864315095824}, mean: -1687.97756, std: 78.09685, params: {'penalty': 'elasticnet', 'alpha': 1.0000000000000001e-09, 'eta0': 0.25118864315095824}, mean: -1732.39197, std: 91.43269, params: {'penalty': 'l1', 'alpha': 1.0000000000000001e-09, 'eta0': 0.50118723362727224}, mean: -1744.41097, std: 103.39900, params: {'penalty': 'l2', 'alpha': 1.0000000000000001e-09, 'eta0': 0.50118723362727224}, mean: -1734.54071, std: 102.09205, params: {'penalty': 'elasticnet', 'alpha': 1.0000000000000001e-09, 'eta0': 0.50118723362727224}, mean: -2133.57432, std: 116.22860, params: {'penalty': 'l1', 'alpha': 1e-08, 'eta0': 0.001}, mean: -2133.21896, std: 116.14303, params: {'penalty': 'l2', 'alpha': 1e-08, 'eta0': 0.001}, mean: -2133.32578, std: 116.10680, params: {'penalty': 'elasticnet', 'alpha': 1e-08, 'eta0': 0.001}, mean: -1980.87892, std: 107.97830, params: {'penalty': 'l1', 'alpha': 1e-08, 'eta0': 0.0019952623149688789}, mean: -1980.33734, std: 108.41286, params: {'penalty': 'l2', 'alpha': 1e-08, 'eta0': 0.0019952623149688789}, mean: -1980.67779, std: 108.16898, params: {'penalty': 'elasticnet', 'alpha': 1e-08, 'eta0': 0.0019952623149688789}, mean: -1814.39634, std: 97.02602, params: {'penalty': 'l1', 'alpha': 1e-08, 'eta0': 0.0039810717055349734}, mean: -1814.61122, std: 96.47870, params: {'penalty': 'l2', 'alpha': 1e-08, 'eta0': 0.0039810717055349734}, mean: -1814.91074, std: 97.51426, params: {'penalty': 'elasticnet', 'alpha': 1e-08, 'eta0': 0.0039810717055349734}, mean: -1705.78660, std: 84.84802, params: {'penalty': 'l1', 'alpha': 1e-08, 'eta0': 0.0079432823472428207}, mean: -1705.70655, std: 83.83198, params: {'penalty': 'l2', 'alpha': 1e-08, 'eta0': 0.0079432823472428207}, mean: -1704.45248, std: 84.41672, params: {'penalty': 'elasticnet', 'alpha': 1e-08, 'eta0': 0.0079432823472428207}, mean: -1676.99927, std: 75.42849, params: {'penalty': 'l1', 'alpha': 1e-08, 'eta0': 0.015848931924611141}, mean: -1675.57662, std: 76.10430, params: {'penalty': 'l2', 'alpha': 1e-08, 'eta0': 0.015848931924611141}, mean: -1676.02593, std: 76.92177, params: {'penalty': 'elasticnet', 'alpha': 1e-08, 'eta0': 0.015848931924611141}, mean: -1678.82100, std: 75.31071, params: {'penalty': 'l1', 'alpha': 1e-08, 'eta0': 0.031622776601683812}, mean: -1676.30110, std: 74.75998, params: {'penalty': 'l2', 'alpha': 1e-08, 'eta0': 0.031622776601683812}, mean: -1681.95865, std: 72.16757, params: {'penalty': 'elasticnet', 'alpha': 1e-08, 'eta0': 0.031622776601683812}, mean: -1679.85059, std: 71.30554, params: {'penalty': 'l1', 'alpha': 1e-08, 'eta0': 0.063095734448019358}, mean: -1683.75779, std: 75.89735, params: {'penalty': 'l2', 'alpha': 1e-08, 'eta0': 0.063095734448019358}, mean: -1681.08933, std: 70.17519, params: {'penalty': 'elasticnet', 'alpha': 1e-08, 'eta0': 0.063095734448019358}, mean: -1685.92486, std: 79.06845, params: {'penalty': 'l1', 'alpha': 1e-08, 'eta0': 0.12589254117941687}, mean: -1688.83376, std: 80.33677, params: {'penalty': 'l2', 'alpha': 1e-08, 'eta0': 0.12589254117941687}, mean: -1681.35814, std: 74.27698, params: {'penalty': 'elasticnet', 'alpha': 1e-08, 'eta0': 0.12589254117941687}, mean: -1688.73182, std: 85.85480, params: {'penalty': 'l1', 'alpha': 1e-08, 'eta0': 0.25118864315095824}, mean: -1706.30032, std: 93.01195, params: {'penalty': 'l2', 'alpha': 1e-08, 'eta0': 0.25118864315095824}, mean: -1690.44963, std: 73.72914, params: {'penalty': 'elasticnet', 'alpha': 1e-08, 'eta0': 0.25118864315095824}, mean: -1742.83973, std: 80.52123, params: {'penalty': 'l1', 'alpha': 1e-08, 'eta0': 0.50118723362727224}, mean: -1711.32579, std: 97.71473, params: {'penalty': 'l2', 'alpha': 1e-08, 'eta0': 0.50118723362727224}, mean: -1698.21564, std: 81.11020, params: {'penalty': 'elasticnet', 'alpha': 1e-08, 'eta0': 0.50118723362727224}, mean: -2133.06008, std: 115.64394, params: {'penalty': 'l1', 'alpha': 9.9999999999999995e-08, 'eta0': 0.001}, mean: -2132.83740, std: 115.63473, params: {'penalty': 'l2', 'alpha': 9.9999999999999995e-08, 'eta0': 0.001}, mean: -2132.86088, std: 116.50353, params: {'penalty': 'elasticnet', 'alpha': 9.9999999999999995e-08, 'eta0': 0.001}, mean: -1981.38394, std: 108.19577, params: {'penalty': 'l1', 'alpha': 9.9999999999999995e-08, 'eta0': 0.0019952623149688789}, mean: -1980.66643, std: 108.64247, params: {'penalty': 'l2', 'alpha': 9.9999999999999995e-08, 'eta0': 0.0019952623149688789}, mean: -1980.92373, std: 108.15732, params: {'penalty': 'elasticnet', 'alpha': 9.9999999999999995e-08, 'eta0': 0.0019952623149688789}, mean: -1814.58771, std: 96.02507, params: {'penalty': 'l1', 'alpha': 9.9999999999999995e-08, 'eta0': 0.0039810717055349734}, mean: -1814.50021, std: 97.31271, params: {'penalty': 'l2', 'alpha': 9.9999999999999995e-08, 'eta0': 0.0039810717055349734}, mean: -1815.50897, std: 96.78581, params: {'penalty': 'elasticnet', 'alpha': 9.9999999999999995e-08, 'eta0': 0.0039810717055349734}, mean: -1704.67626, std: 84.64939, params: {'penalty': 'l1', 'alpha': 9.9999999999999995e-08, 'eta0': 0.0079432823472428207}, mean: -1706.00906, std: 84.89040, params: {'penalty': 'l2', 'alpha': 9.9999999999999995e-08, 'eta0': 0.0079432823472428207}, mean: -1704.84551, std: 84.53859, params: {'penalty': 'elasticnet', 'alpha': 9.9999999999999995e-08, 'eta0': 0.0079432823472428207}, mean: -1676.67996, std: 76.21894, params: {'penalty': 'l1', 'alpha': 9.9999999999999995e-08, 'eta0': 0.015848931924611141}, mean: -1677.36792, std: 75.36258, params: {'penalty': 'l2', 'alpha': 9.9999999999999995e-08, 'eta0': 0.015848931924611141}, mean: -1678.19764, std: 75.47057, params: {'penalty': 'elasticnet', 'alpha': 9.9999999999999995e-08, 'eta0': 0.015848931924611141}, mean: -1681.79206, std: 67.34981, params: {'penalty': 'l1', 'alpha': 9.9999999999999995e-08, 'eta0': 0.031622776601683812}, mean: -1673.35371, std: 74.04565, params: {'penalty': 'l2', 'alpha': 9.9999999999999995e-08, 'eta0': 0.031622776601683812}, mean: -1675.66902, std: 74.93712, params: {'penalty': 'elasticnet', 'alpha': 9.9999999999999995e-08, 'eta0': 0.031622776601683812}, mean: -1685.36098, std: 74.50130, params: {'penalty': 'l1', 'alpha': 9.9999999999999995e-08, 'eta0': 0.063095734448019358}, mean: -1673.71029, std: 74.02398, params: {'penalty': 'l2', 'alpha': 9.9999999999999995e-08, 'eta0': 0.063095734448019358}, mean: -1680.57899, std: 70.23660, params: {'penalty': 'elasticnet', 'alpha': 9.9999999999999995e-08, 'eta0': 0.063095734448019358}, mean: -1682.71186, std: 71.12524, params: {'penalty': 'l1', 'alpha': 9.9999999999999995e-08, 'eta0': 0.12589254117941687}, mean: -1691.36337, std: 63.15076, params: {'penalty': 'l2', 'alpha': 9.9999999999999995e-08, 'eta0': 0.12589254117941687}, mean: -1701.92467, std: 64.94309, params: {'penalty': 'elasticnet', 'alpha': 9.9999999999999995e-08, 'eta0': 0.12589254117941687}, mean: -1701.85119, std: 74.16845, params: {'penalty': 'l1', 'alpha': 9.9999999999999995e-08, 'eta0': 0.25118864315095824}, mean: -1708.29301, std: 90.22177, params: {'penalty': 'l2', 'alpha': 9.9999999999999995e-08, 'eta0': 0.25118864315095824}, mean: -1701.21030, std: 70.19693, params: {'penalty': 'elasticnet', 'alpha': 9.9999999999999995e-08, 'eta0': 0.25118864315095824}, mean: -1708.08674, std: 82.32086, params: {'penalty': 'l1', 'alpha': 9.9999999999999995e-08, 'eta0': 0.50118723362727224}, mean: -1698.51411, std: 67.39287, params: {'penalty': 'l2', 'alpha': 9.9999999999999995e-08, 'eta0': 0.50118723362727224}, mean: -1737.54854, std: 63.39738, params: {'penalty': 'elasticnet', 'alpha': 9.9999999999999995e-08, 'eta0': 0.50118723362727224}, mean: -2133.36465, std: 116.31118, params: {'penalty': 'l1', 'alpha': 9.9999999999999995e-07, 'eta0': 0.001}, mean: -2133.58906, std: 116.12640, params: {'penalty': 'l2', 'alpha': 9.9999999999999995e-07, 'eta0': 0.001}, mean: -2133.34761, std: 116.47089, params: {'penalty': 'elasticnet', 'alpha': 9.9999999999999995e-07, 'eta0': 0.001}, mean: -1981.24697, std: 108.96183, params: {'penalty': 'l1', 'alpha': 9.9999999999999995e-07, 'eta0': 0.0019952623149688789}, mean: -1981.19043, std: 108.16374, params: {'penalty': 'l2', 'alpha': 9.9999999999999995e-07, 'eta0': 0.0019952623149688789}, mean: -1980.60429, std: 108.73548, params: {'penalty': 'elasticnet', 'alpha': 9.9999999999999995e-07, 'eta0': 0.0019952623149688789}, mean: -1815.02946, std: 97.00326, params: {'penalty': 'l1', 'alpha': 9.9999999999999995e-07, 'eta0': 0.0039810717055349734}, mean: -1813.74970, std: 97.03222, params: {'penalty': 'l2', 'alpha': 9.9999999999999995e-07, 'eta0': 0.0039810717055349734}, mean: -1814.87251, std: 97.93306, params: {'penalty': 'elasticnet', 'alpha': 9.9999999999999995e-07, 'eta0': 0.0039810717055349734}, mean: -1706.12055, std: 85.06718, params: {'penalty': 'l1', 'alpha': 9.9999999999999995e-07, 'eta0': 0.0079432823472428207}, mean: -1706.68802, std: 82.94987, params: {'penalty': 'l2', 'alpha': 9.9999999999999995e-07, 'eta0': 0.0079432823472428207}, mean: -1706.80539, std: 85.54829, params: {'penalty': 'elasticnet', 'alpha': 9.9999999999999995e-07, 'eta0': 0.0079432823472428207}, mean: -1678.00369, std: 76.71668, params: {'penalty': 'l1', 'alpha': 9.9999999999999995e-07, 'eta0': 0.015848931924611141}, mean: -1679.30440, std: 79.02434, params: {'penalty': 'l2', 'alpha': 9.9999999999999995e-07, 'eta0': 0.015848931924611141}, mean: -1676.75245, std: 77.11333, params: {'penalty': 'elasticnet', 'alpha': 9.9999999999999995e-07, 'eta0': 0.015848931924611141}, mean: -1675.70528, std: 77.37790, params: {'penalty': 'l1', 'alpha': 9.9999999999999995e-07, 'eta0': 0.031622776601683812}, mean: -1680.58633, std: 82.26397, params: {'penalty': 'l2', 'alpha': 9.9999999999999995e-07, 'eta0': 0.031622776601683812}, mean: -1691.04408, std: 87.95978, params: {'penalty': 'elasticnet', 'alpha': 9.9999999999999995e-07, 'eta0': 0.031622776601683812}, mean: -1678.88587, std: 71.43040, params: {'penalty': 'l1', 'alpha': 9.9999999999999995e-07, 'eta0': 0.063095734448019358}, mean: -1677.51473, std: 71.95451, params: {'penalty': 'l2', 'alpha': 9.9999999999999995e-07, 'eta0': 0.063095734448019358}, mean: -1675.25042, std: 73.95131, params: {'penalty': 'elasticnet', 'alpha': 9.9999999999999995e-07, 'eta0': 0.063095734448019358}, mean: -1690.92494, std: 67.79843, params: {'penalty': 'l1', 'alpha': 9.9999999999999995e-07, 'eta0': 0.12589254117941687}, mean: -1686.25462, std: 85.15761, params: {'penalty': 'l2', 'alpha': 9.9999999999999995e-07, 'eta0': 0.12589254117941687}, mean: -1683.99783, std: 66.83507, params: {'penalty': 'elasticnet', 'alpha': 9.9999999999999995e-07, 'eta0': 0.12589254117941687}, mean: -1690.22961, std: 73.37432, params: {'penalty': 'l1', 'alpha': 9.9999999999999995e-07, 'eta0': 0.25118864315095824}, mean: -1705.83890, std: 107.59493, params: {'penalty': 'l2', 'alpha': 9.9999999999999995e-07, 'eta0': 0.25118864315095824}, mean: -1696.01547, std: 61.05286, params: {'penalty': 'elasticnet', 'alpha': 9.9999999999999995e-07, 'eta0': 0.25118864315095824}, mean: -1721.75750, std: 75.84810, params: {'penalty': 'l1', 'alpha': 9.9999999999999995e-07, 'eta0': 0.50118723362727224}, mean: -1716.72385, std: 42.04802, params: {'penalty': 'l2', 'alpha': 9.9999999999999995e-07, 'eta0': 0.50118723362727224}, mean: -1682.97420, std: 71.00573, params: {'penalty': 'elasticnet', 'alpha': 9.9999999999999995e-07, 'eta0': 0.50118723362727224}, mean: -2133.62279, std: 116.12220, params: {'penalty': 'l1', 'alpha': 1.0000000000000001e-05, 'eta0': 0.001}, mean: -2133.30508, std: 115.87110, params: {'penalty': 'l2', 'alpha': 1.0000000000000001e-05, 'eta0': 0.001}, mean: -2133.47946, std: 116.19917, params: {'penalty': 'elasticnet', 'alpha': 1.0000000000000001e-05, 'eta0': 0.001}, mean: -1981.62035, std: 108.12811, params: {'penalty': 'l1', 'alpha': 1.0000000000000001e-05, 'eta0': 0.0019952623149688789}, mean: -1981.19384, std: 107.60523, params: {'penalty': 'l2', 'alpha': 1.0000000000000001e-05, 'eta0': 0.0019952623149688789}, mean: -1981.10576, std: 108.12939, params: {'penalty': 'elasticnet', 'alpha': 1.0000000000000001e-05, 'eta0': 0.0019952623149688789}, mean: -1815.61316, std: 97.32031, params: {'penalty': 'l1', 'alpha': 1.0000000000000001e-05, 'eta0': 0.0039810717055349734}, mean: -1816.84721, std: 96.62227, params: {'penalty': 'l2', 'alpha': 1.0000000000000001e-05, 'eta0': 0.0039810717055349734}, mean: -1814.99011, std: 96.74693, params: {'penalty': 'elasticnet', 'alpha': 1.0000000000000001e-05, 'eta0': 0.0039810717055349734}, mean: -1704.59200, std: 84.21782, params: {'penalty': 'l1', 'alpha': 1.0000000000000001e-05, 'eta0': 0.0079432823472428207}, mean: -1706.39958, std: 84.77078, params: {'penalty': 'l2', 'alpha': 1.0000000000000001e-05, 'eta0': 0.0079432823472428207}, mean: -1705.68744, std: 85.07411, params: {'penalty': 'elasticnet', 'alpha': 1.0000000000000001e-05, 'eta0': 0.0079432823472428207}, mean: -1679.49053, std: 77.77543, params: {'penalty': 'l1', 'alpha': 1.0000000000000001e-05, 'eta0': 0.015848931924611141}, mean: -1677.35596, std: 75.93593, params: {'penalty': 'l2', 'alpha': 1.0000000000000001e-05, 'eta0': 0.015848931924611141}, mean: -1676.82829, std: 76.91443, params: {'penalty': 'elasticnet', 'alpha': 1.0000000000000001e-05, 'eta0': 0.015848931924611141}, mean: -1675.46986, std: 74.49829, params: {'penalty': 'l1', 'alpha': 1.0000000000000001e-05, 'eta0': 0.031622776601683812}, mean: -1679.36500, std: 71.14622, params: {'penalty': 'l2', 'alpha': 1.0000000000000001e-05, 'eta0': 0.031622776601683812}, mean: -1674.86193, std: 74.72118, params: {'penalty': 'elasticnet', 'alpha': 1.0000000000000001e-05, 'eta0': 0.031622776601683812}, mean: -1685.10551, std: 80.23941, params: {'penalty': 'l1', 'alpha': 1.0000000000000001e-05, 'eta0': 0.063095734448019358}, mean: -1681.08104, std: 71.76668, params: {'penalty': 'l2', 'alpha': 1.0000000000000001e-05, 'eta0': 0.063095734448019358}, mean: -1678.53459, std: 77.25817, params: {'penalty': 'elasticnet', 'alpha': 1.0000000000000001e-05, 'eta0': 0.063095734448019358}, mean: -1687.76939, std: 68.59295, params: {'penalty': 'l1', 'alpha': 1.0000000000000001e-05, 'eta0': 0.12589254117941687}, mean: -1687.07669, std: 82.44881, params: {'penalty': 'l2', 'alpha': 1.0000000000000001e-05, 'eta0': 0.12589254117941687}, mean: -1694.30108, std: 70.83986, params: {'penalty': 'elasticnet', 'alpha': 1.0000000000000001e-05, 'eta0': 0.12589254117941687}, mean: -1727.93483, std: 86.27740, params: {'penalty': 'l1', 'alpha': 1.0000000000000001e-05, 'eta0': 0.25118864315095824}, mean: -1707.11489, std: 66.30339, params: {'penalty': 'l2', 'alpha': 1.0000000000000001e-05, 'eta0': 0.25118864315095824}, mean: -1707.53453, std: 78.93871, params: {'penalty': 'elasticnet', 'alpha': 1.0000000000000001e-05, 'eta0': 0.25118864315095824}, mean: -1728.83073, std: 93.09014, params: {'penalty': 'l1', 'alpha': 1.0000000000000001e-05, 'eta0': 0.50118723362727224}, mean: -1762.63964, std: 93.18905, params: {'penalty': 'l2', 'alpha': 1.0000000000000001e-05, 'eta0': 0.50118723362727224}, mean: -1719.85517, std: 70.37192, params: {'penalty': 'elasticnet', 'alpha': 1.0000000000000001e-05, 'eta0': 0.50118723362727224}, mean: -2132.87834, std: 116.03377, params: {'penalty': 'l1', 'alpha': 0.0001, 'eta0': 0.001}, mean: -2133.10766, std: 116.12436, params: {'penalty': 'l2', 'alpha': 0.0001, 'eta0': 0.001}, mean: -2133.75988, std: 116.20998, params: {'penalty': 'elasticnet', 'alpha': 0.0001, 'eta0': 0.001}, mean: -1980.70286, std: 107.90213, params: {'penalty': 'l1', 'alpha': 0.0001, 'eta0': 0.0019952623149688789}, mean: -1981.23292, std: 108.56414, params: {'penalty': 'l2', 'alpha': 0.0001, 'eta0': 0.0019952623149688789}, mean: -1981.33932, std: 109.34391, params: {'penalty': 'elasticnet', 'alpha': 0.0001, 'eta0': 0.0019952623149688789}, mean: -1815.89225, std: 97.40817, params: {'penalty': 'l1', 'alpha': 0.0001, 'eta0': 0.0039810717055349734}, mean: -1815.58736, std: 96.94717, params: {'penalty': 'l2', 'alpha': 0.0001, 'eta0': 0.0039810717055349734}, mean: -1815.36295, std: 96.63606, params: {'penalty': 'elasticnet', 'alpha': 0.0001, 'eta0': 0.0039810717055349734}, mean: -1705.55412, std: 83.68408, params: {'penalty': 'l1', 'alpha': 0.0001, 'eta0': 0.0079432823472428207}, mean: -1707.19843, std: 85.43731, params: {'penalty': 'l2', 'alpha': 0.0001, 'eta0': 0.0079432823472428207}, mean: -1706.82221, std: 86.55971, params: {'penalty': 'elasticnet', 'alpha': 0.0001, 'eta0': 0.0079432823472428207}, mean: -1676.80008, std: 76.98037, params: {'penalty': 'l1', 'alpha': 0.0001, 'eta0': 0.015848931924611141}, mean: -1677.16956, std: 76.71926, params: {'penalty': 'l2', 'alpha': 0.0001, 'eta0': 0.015848931924611141}, mean: -1676.65840, std: 76.56425, params: {'penalty': 'elasticnet', 'alpha': 0.0001, 'eta0': 0.015848931924611141}, mean: -1678.66078, std: 74.87747, params: {'penalty': 'l1', 'alpha': 0.0001, 'eta0': 0.031622776601683812}, mean: -1676.02985, std: 74.43840, params: {'penalty': 'l2', 'alpha': 0.0001, 'eta0': 0.031622776601683812}, mean: -1676.11169, std: 74.18315, params: {'penalty': 'elasticnet', 'alpha': 0.0001, 'eta0': 0.031622776601683812}, mean: -1676.00556, std: 75.94201, params: {'penalty': 'l1', 'alpha': 0.0001, 'eta0': 0.063095734448019358}, mean: -1680.25646, std: 78.15546, params: {'penalty': 'l2', 'alpha': 0.0001, 'eta0': 0.063095734448019358}, mean: -1689.43296, std: 75.58188, params: {'penalty': 'elasticnet', 'alpha': 0.0001, 'eta0': 0.063095734448019358}, mean: -1699.74227, std: 78.52081, params: {'penalty': 'l1', 'alpha': 0.0001, 'eta0': 0.12589254117941687}, mean: -1678.77063, std: 71.62197, params: {'penalty': 'l2', 'alpha': 0.0001, 'eta0': 0.12589254117941687}, mean: -1678.60102, std: 71.58631, params: {'penalty': 'elasticnet', 'alpha': 0.0001, 'eta0': 0.12589254117941687}, mean: -1711.67218, std: 87.91368, params: {'penalty': 'l1', 'alpha': 0.0001, 'eta0': 0.25118864315095824}, mean: -1682.60895, std: 76.58113, params: {'penalty': 'l2', 'alpha': 0.0001, 'eta0': 0.25118864315095824}, mean: -1706.89882, std: 79.16710, params: {'penalty': 'elasticnet', 'alpha': 0.0001, 'eta0': 0.25118864315095824}, mean: -1681.22805, std: 69.47931, params: {'penalty': 'l1', 'alpha': 0.0001, 'eta0': 0.50118723362727224}, mean: -1807.37118, std: 153.83658, params: {'penalty': 'l2', 'alpha': 0.0001, 'eta0': 0.50118723362727224}, mean: -1698.89356, std: 82.45999, params: {'penalty': 'elasticnet', 'alpha': 0.0001, 'eta0': 0.50118723362727224}, mean: -2133.22747, std: 116.46890, params: {'penalty': 'l1', 'alpha': 0.001, 'eta0': 0.001}, mean: -2133.73472, std: 116.22494, params: {'penalty': 'l2', 'alpha': 0.001, 'eta0': 0.001}, mean: -2134.02243, std: 116.25141, params: {'penalty': 'elasticnet', 'alpha': 0.001, 'eta0': 0.001}, mean: -1982.26500, std: 107.41965, params: {'penalty': 'l1', 'alpha': 0.001, 'eta0': 0.0019952623149688789}, mean: -1982.51028, std: 107.97236, params: {'penalty': 'l2', 'alpha': 0.001, 'eta0': 0.0019952623149688789}, mean: -1981.66286, std: 108.66909, params: {'penalty': 'elasticnet', 'alpha': 0.001, 'eta0': 0.0019952623149688789}, mean: -1814.63266, std: 97.14520, params: {'penalty': 'l1', 'alpha': 0.001, 'eta0': 0.0039810717055349734}, mean: -1817.78635, std: 97.45625, params: {'penalty': 'l2', 'alpha': 0.001, 'eta0': 0.0039810717055349734}, mean: -1817.50546, std: 97.20103, params: {'penalty': 'elasticnet', 'alpha': 0.001, 'eta0': 0.0039810717055349734}, mean: -1705.31263, std: 84.61723, params: {'penalty': 'l1', 'alpha': 0.001, 'eta0': 0.0079432823472428207}, mean: -1710.30357, std: 84.94165, params: {'penalty': 'l2', 'alpha': 0.001, 'eta0': 0.0079432823472428207}, mean: -1710.14554, std: 84.17122, params: {'penalty': 'elasticnet', 'alpha': 0.001, 'eta0': 0.0079432823472428207}, mean: -1677.37501, std: 77.69941, params: {'penalty': 'l1', 'alpha': 0.001, 'eta0': 0.015848931924611141}, mean: -1679.94153, std: 77.96731, params: {'penalty': 'l2', 'alpha': 0.001, 'eta0': 0.015848931924611141}, mean: -1680.44975, std: 76.94506, params: {'penalty': 'elasticnet', 'alpha': 0.001, 'eta0': 0.015848931924611141}, mean: -1680.23330, std: 70.43883, params: {'penalty': 'l1', 'alpha': 0.001, 'eta0': 0.031622776601683812}, mean: -1675.07458, std: 76.97537, params: {'penalty': 'l2', 'alpha': 0.001, 'eta0': 0.031622776601683812}, mean: -1675.34359, std: 76.13978, params: {'penalty': 'elasticnet', 'alpha': 0.001, 'eta0': 0.031622776601683812}, mean: -1682.97696, std: 79.06990, params: {'penalty': 'l1', 'alpha': 0.001, 'eta0': 0.063095734448019358}, mean: -1685.08625, std: 74.03831, params: {'penalty': 'l2', 'alpha': 0.001, 'eta0': 0.063095734448019358}, mean: -1678.72607, std: 76.87586, params: {'penalty': 'elasticnet', 'alpha': 0.001, 'eta0': 0.063095734448019358}, mean: -1696.62000, std: 77.58304, params: {'penalty': 'l1', 'alpha': 0.001, 'eta0': 0.12589254117941687}, mean: -1695.25519, std: 88.54547, params: {'penalty': 'l2', 'alpha': 0.001, 'eta0': 0.12589254117941687}, mean: -1701.66728, std: 58.86685, params: {'penalty': 'elasticnet', 'alpha': 0.001, 'eta0': 0.12589254117941687}, mean: -1703.19049, std: 81.14855, params: {'penalty': 'l1', 'alpha': 0.001, 'eta0': 0.25118864315095824}, mean: -1748.57559, std: 122.61986, params: {'penalty': 'l2', 'alpha': 0.001, 'eta0': 0.25118864315095824}, mean: -1689.47626, std: 69.43460, params: {'penalty': 'elasticnet', 'alpha': 0.001, 'eta0': 0.25118864315095824}, mean: -1762.96471, std: 89.85385, params: {'penalty': 'l1', 'alpha': 0.001, 'eta0': 0.50118723362727224}, mean: -1815.42472, std: 59.81471, params: {'penalty': 'l2', 'alpha': 0.001, 'eta0': 0.50118723362727224}, mean: -1754.46684, std: 102.89824, params: {'penalty': 'elasticnet', 'alpha': 0.001, 'eta0': 0.50118723362727224}, mean: -2133.99617, std: 116.02121, params: {'penalty': 'l1', 'alpha': 0.01, 'eta0': 0.001}, mean: -2138.53386, std: 116.74267, params: {'penalty': 'l2', 'alpha': 0.01, 'eta0': 0.001}, mean: -2138.11330, std: 116.56725, params: {'penalty': 'elasticnet', 'alpha': 0.01, 'eta0': 0.001}, mean: -1981.29986, std: 107.86404, params: {'penalty': 'l1', 'alpha': 0.01, 'eta0': 0.0019952623149688789}, mean: -1996.53790, std: 109.43197, params: {'penalty': 'l2', 'alpha': 0.01, 'eta0': 0.0019952623149688789}, mean: -1994.48440, std: 109.54309, params: {'penalty': 'elasticnet', 'alpha': 0.01, 'eta0': 0.0019952623149688789}, mean: -1816.35691, std: 97.98355, params: {'penalty': 'l1', 'alpha': 0.01, 'eta0': 0.0039810717055349734}, mean: -1847.82506, std: 99.33785, params: {'penalty': 'l2', 'alpha': 0.01, 'eta0': 0.0039810717055349734}, mean: -1842.61184, std: 99.82079, params: {'penalty': 'elasticnet', 'alpha': 0.01, 'eta0': 0.0039810717055349734}, mean: -1705.36105, std: 84.82319, params: {'penalty': 'l1', 'alpha': 0.01, 'eta0': 0.0079432823472428207}, mean: -1746.26713, std: 89.85728, params: {'penalty': 'l2', 'alpha': 0.01, 'eta0': 0.0079432823472428207}, mean: -1740.93344, std: 89.53389, params: {'penalty': 'elasticnet', 'alpha': 0.01, 'eta0': 0.0079432823472428207}, mean: -1677.12467, std: 77.13451, params: {'penalty': 'l1', 'alpha': 0.01, 'eta0': 0.015848931924611141}, mean: -1714.42112, std: 84.09950, params: {'penalty': 'l2', 'alpha': 0.01, 'eta0': 0.015848931924611141}, mean: -1706.43874, std: 84.02663, params: {'penalty': 'elasticnet', 'alpha': 0.01, 'eta0': 0.015848931924611141}, mean: -1682.71077, std: 79.12120, params: {'penalty': 'l1', 'alpha': 0.01, 'eta0': 0.031622776601683812}, mean: -1718.78902, std: 96.40464, params: {'penalty': 'l2', 'alpha': 0.01, 'eta0': 0.031622776601683812}, mean: -1702.37780, std: 82.37741, params: {'penalty': 'elasticnet', 'alpha': 0.01, 'eta0': 0.031622776601683812}, mean: -1684.23392, std: 76.11914, params: {'penalty': 'l1', 'alpha': 0.01, 'eta0': 0.063095734448019358}, mean: -1720.47320, std: 81.54537, params: {'penalty': 'l2', 'alpha': 0.01, 'eta0': 0.063095734448019358}, mean: -1707.77424, std: 87.79012, params: {'penalty': 'elasticnet', 'alpha': 0.01, 'eta0': 0.063095734448019358}, mean: -1692.69055, std: 72.00173, params: {'penalty': 'l1', 'alpha': 0.01, 'eta0': 0.12589254117941687}, mean: -1710.44976, std: 78.90829, params: {'penalty': 'l2', 'alpha': 0.01, 'eta0': 0.12589254117941687}, mean: -1716.78520, std: 80.31943, params: {'penalty': 'elasticnet', 'alpha': 0.01, 'eta0': 0.12589254117941687}, mean: -1677.61055, std: 76.52776, params: {'penalty': 'l1', 'alpha': 0.01, 'eta0': 0.25118864315095824}, mean: -1725.78613, std: 79.42498, params: {'penalty': 'l2', 'alpha': 0.01, 'eta0': 0.25118864315095824}, mean: -1716.91014, std: 76.56175, params: {'penalty': 'elasticnet', 'alpha': 0.01, 'eta0': 0.25118864315095824}, mean: -1699.37278, std: 76.57521, params: {'penalty': 'l1', 'alpha': 0.01, 'eta0': 0.50118723362727224}, mean: -1770.16749, std: 88.27609, params: {'penalty': 'l2', 'alpha': 0.01, 'eta0': 0.50118723362727224}, mean: -1729.01243, std: 89.98075, params: {'penalty': 'elasticnet', 'alpha': 0.01, 'eta0': 0.50118723362727224}, mean: -2139.38383, std: 116.51546, params: {'penalty': 'l1', 'alpha': 0.10000000000000001, 'eta0': 0.001}, mean: -2185.96340, std: 119.50126, params: {'penalty': 'l2', 'alpha': 0.10000000000000001, 'eta0': 0.001}, mean: -2179.81965, std: 119.18106, params: {'penalty': 'elasticnet', 'alpha': 0.10000000000000001, 'eta0': 0.001}, mean: -1989.18788, std: 109.17708, params: {'penalty': 'l1', 'alpha': 0.10000000000000001, 'eta0': 0.0019952623149688789}, mean: -2110.63757, std: 115.63078, params: {'penalty': 'l2', 'alpha': 0.10000000000000001, 'eta0': 0.0019952623149688789}, mean: -2095.72551, std: 114.51201, params: {'penalty': 'elasticnet', 'alpha': 0.10000000000000001, 'eta0': 0.0019952623149688789}, mean: -1823.30413, std: 97.25235, params: {'penalty': 'l1', 'alpha': 0.10000000000000001, 'eta0': 0.0039810717055349734}, mean: -2064.99661, std: 112.47751, params: {'penalty': 'l2', 'alpha': 0.10000000000000001, 'eta0': 0.0039810717055349734}, mean: -2038.83617, std: 111.15316, params: {'penalty': 'elasticnet', 'alpha': 0.10000000000000001, 'eta0': 0.0039810717055349734}, mean: -1711.17121, std: 85.22447, params: {'penalty': 'l1', 'alpha': 0.10000000000000001, 'eta0': 0.0079432823472428207}, mean: -2056.16285, std: 112.80848, params: {'penalty': 'l2', 'alpha': 0.10000000000000001, 'eta0': 0.0079432823472428207}, mean: -2022.45750, std: 110.55759, params: {'penalty': 'elasticnet', 'alpha': 0.10000000000000001, 'eta0': 0.0079432823472428207}, mean: -1682.73061, std: 79.38741, params: {'penalty': 'l1', 'alpha': 0.10000000000000001, 'eta0': 0.015848931924611141}, mean: -2054.79411, std: 112.31426, params: {'penalty': 'l2', 'alpha': 0.10000000000000001, 'eta0': 0.015848931924611141}, mean: -2019.72771, std: 109.46083, params: {'penalty': 'elasticnet', 'alpha': 0.10000000000000001, 'eta0': 0.015848931924611141}, mean: -1677.20855, std: 77.56750, params: {'penalty': 'l1', 'alpha': 0.10000000000000001, 'eta0': 0.031622776601683812}, mean: -2063.21208, std: 113.81596, params: {'penalty': 'l2', 'alpha': 0.10000000000000001, 'eta0': 0.031622776601683812}, mean: -2027.05049, std: 110.71648, params: {'penalty': 'elasticnet', 'alpha': 0.10000000000000001, 'eta0': 0.031622776601683812}, mean: -1684.36905, std: 75.52192, params: {'penalty': 'l1', 'alpha': 0.10000000000000001, 'eta0': 0.063095734448019358}, mean: -2059.96976, std: 109.80552, params: {'penalty': 'l2', 'alpha': 0.10000000000000001, 'eta0': 0.063095734448019358}, mean: -2022.94214, std: 116.66940, params: {'penalty': 'elasticnet', 'alpha': 0.10000000000000001, 'eta0': 0.063095734448019358}, mean: -1682.40310, std: 77.23342, params: {'penalty': 'l1', 'alpha': 0.10000000000000001, 'eta0': 0.12589254117941687}, mean: -2055.66270, std: 106.08487, params: {'penalty': 'l2', 'alpha': 0.10000000000000001, 'eta0': 0.12589254117941687}, mean: -2040.04616, std: 118.79236, params: {'penalty': 'elasticnet', 'alpha': 0.10000000000000001, 'eta0': 0.12589254117941687}, mean: -1712.54481, std: 55.69333, params: {'penalty': 'l1', 'alpha': 0.10000000000000001, 'eta0': 0.25118864315095824}, mean: -2076.05984, std: 110.23733, params: {'penalty': 'l2', 'alpha': 0.10000000000000001, 'eta0': 0.25118864315095824}, mean: -2033.86591, std: 111.03066, params: {'penalty': 'elasticnet', 'alpha': 0.10000000000000001, 'eta0': 0.25118864315095824}, mean: -1735.28573, std: 121.71997, params: {'penalty': 'l1', 'alpha': 0.10000000000000001, 'eta0': 0.50118723362727224}, mean: -2094.09712, std: 116.56845, params: {'penalty': 'l2', 'alpha': 0.10000000000000001, 'eta0': 0.50118723362727224}, mean: -2064.56573, std: 110.69887, params: {'penalty': 'elasticnet', 'alpha': 0.10000000000000001, 'eta0': 0.50118723362727224}]\n"
     ]
    }
   ],
   "source": [
    "params = {\n",
    "    'alpha': np.logspace(-10,-1,10),\n",
    "    'penalty':['l1','l2','elasticnet'],\n",
    "    'eta0':np.logspace(-3,-0.3,10)\n",
    "    } # put your gradient descent parameters here\n",
    "gs = grid_search.GridSearchCV(\n",
    "    estimator=linear_model.SGDRegressor(),\n",
    "    cv=cross_validation.KFold(len(modeldata), n_folds=5, shuffle=True),\n",
    "    param_grid=params,\n",
    "    scoring='neg_mean_squared_error',\n",
    "    )\n",
    "\n",
    "gs.fit(modeldata, y)\n",
    "\n",
    "print 'BEST ESTIMATOR'\n",
    "print -gs.best_score_\n",
    "print gs.best_estimator_\n",
    "print 'ALL ESTIMATORS'\n",
    "print gs.grid_scores_"
   ]
  },
  {
   "cell_type": "code",
   "execution_count": 19,
   "metadata": {
    "collapsed": true
   },
   "outputs": [],
   "source": [
    "## go for it!"
   ]
  },
  {
   "cell_type": "code",
   "execution_count": null,
   "metadata": {
    "collapsed": true
   },
   "outputs": [],
   "source": []
  }
 ],
 "metadata": {
  "kernelspec": {
   "display_name": "Python 2",
   "language": "python",
   "name": "python2"
  },
  "language_info": {
   "codemirror_mode": {
    "name": "ipython",
    "version": 2
   },
   "file_extension": ".py",
   "mimetype": "text/x-python",
   "name": "python",
   "nbconvert_exporter": "python",
   "pygments_lexer": "ipython2",
   "version": "2.7.14"
  }
 },
 "nbformat": 4,
 "nbformat_minor": 1
}
