{
 "cells": [
  {
   "cell_type": "markdown",
   "metadata": {},
   "source": [
    "### Guided Practice: Logit Function and Odds"
   ]
  },
  {
   "cell_type": "code",
   "execution_count": 1,
   "metadata": {
    "collapsed": true
   },
   "outputs": [],
   "source": [
    "def logit_func(odds):\n",
    "    # uses a float (odds) and returns back the log odds (logit)\n",
    "    return None\n",
    "\n",
    "def sigmoid_func(logit):\n",
    "    # uses a float (logit) and returns back the probability\n",
    "    return None\n",
    "\n",
    "odds_set = [\n",
    "    5./1,\n",
    "    20./1,\n",
    "    1.1/1,\n",
    "    1.8/1,\n",
    "    1.6/1\n",
    "]"
   ]
  },
  {
   "cell_type": "code",
   "execution_count": 2,
   "metadata": {
    "collapsed": true
   },
   "outputs": [],
   "source": [
    "import pandas as pd\n",
    "from sklearn.linear_model import LogisticRegression"
   ]
  },
  {
   "cell_type": "code",
   "execution_count": 20,
   "metadata": {
    "collapsed": true
   },
   "outputs": [],
   "source": [
    "lm = LogisticRegression() # model initialization\n",
    "\n",
    "df = pd.read_csv('../dataset/collegeadmissions.csv')"
   ]
  },
  {
   "cell_type": "code",
   "execution_count": 4,
   "metadata": {},
   "outputs": [
    {
     "data": {
      "text/html": [
       "<div>\n",
       "<style>\n",
       "    .dataframe thead tr:only-child th {\n",
       "        text-align: right;\n",
       "    }\n",
       "\n",
       "    .dataframe thead th {\n",
       "        text-align: left;\n",
       "    }\n",
       "\n",
       "    .dataframe tbody tr th {\n",
       "        vertical-align: top;\n",
       "    }\n",
       "</style>\n",
       "<table border=\"1\" class=\"dataframe\">\n",
       "  <thead>\n",
       "    <tr style=\"text-align: right;\">\n",
       "      <th></th>\n",
       "      <th>admit</th>\n",
       "      <th>gre</th>\n",
       "      <th>gpa</th>\n",
       "      <th>rank</th>\n",
       "    </tr>\n",
       "  </thead>\n",
       "  <tbody>\n",
       "    <tr>\n",
       "      <th>0</th>\n",
       "      <td>0</td>\n",
       "      <td>380</td>\n",
       "      <td>3.61</td>\n",
       "      <td>3</td>\n",
       "    </tr>\n",
       "    <tr>\n",
       "      <th>1</th>\n",
       "      <td>1</td>\n",
       "      <td>660</td>\n",
       "      <td>3.67</td>\n",
       "      <td>3</td>\n",
       "    </tr>\n",
       "    <tr>\n",
       "      <th>2</th>\n",
       "      <td>1</td>\n",
       "      <td>800</td>\n",
       "      <td>4.00</td>\n",
       "      <td>1</td>\n",
       "    </tr>\n",
       "    <tr>\n",
       "      <th>3</th>\n",
       "      <td>1</td>\n",
       "      <td>640</td>\n",
       "      <td>3.19</td>\n",
       "      <td>4</td>\n",
       "    </tr>\n",
       "    <tr>\n",
       "      <th>4</th>\n",
       "      <td>0</td>\n",
       "      <td>520</td>\n",
       "      <td>2.93</td>\n",
       "      <td>4</td>\n",
       "    </tr>\n",
       "  </tbody>\n",
       "</table>\n",
       "</div>"
      ],
      "text/plain": [
       "   admit  gre   gpa  rank\n",
       "0      0  380  3.61     3\n",
       "1      1  660  3.67     3\n",
       "2      1  800  4.00     1\n",
       "3      1  640  3.19     4\n",
       "4      0  520  2.93     4"
      ]
     },
     "execution_count": 4,
     "metadata": {},
     "output_type": "execute_result"
    }
   ],
   "source": [
    "df.head()"
   ]
  },
  {
   "cell_type": "code",
   "execution_count": 5,
   "metadata": {
    "collapsed": true
   },
   "outputs": [],
   "source": [
    "df = df.join(pd.get_dummies(df['rank'], prefix = 'rank')) # convert to dummy variables\n",
    "# temp_df = pd.get_dummies\n",
    "# df.join(temp)"
   ]
  },
  {
   "cell_type": "code",
   "execution_count": 6,
   "metadata": {},
   "outputs": [
    {
     "data": {
      "text/html": [
       "<div>\n",
       "<style>\n",
       "    .dataframe thead tr:only-child th {\n",
       "        text-align: right;\n",
       "    }\n",
       "\n",
       "    .dataframe thead th {\n",
       "        text-align: left;\n",
       "    }\n",
       "\n",
       "    .dataframe tbody tr th {\n",
       "        vertical-align: top;\n",
       "    }\n",
       "</style>\n",
       "<table border=\"1\" class=\"dataframe\">\n",
       "  <thead>\n",
       "    <tr style=\"text-align: right;\">\n",
       "      <th></th>\n",
       "      <th>admit</th>\n",
       "      <th>gre</th>\n",
       "      <th>gpa</th>\n",
       "      <th>rank</th>\n",
       "      <th>rank_1</th>\n",
       "      <th>rank_2</th>\n",
       "      <th>rank_3</th>\n",
       "      <th>rank_4</th>\n",
       "    </tr>\n",
       "  </thead>\n",
       "  <tbody>\n",
       "    <tr>\n",
       "      <th>0</th>\n",
       "      <td>0</td>\n",
       "      <td>380</td>\n",
       "      <td>3.61</td>\n",
       "      <td>3</td>\n",
       "      <td>0</td>\n",
       "      <td>0</td>\n",
       "      <td>1</td>\n",
       "      <td>0</td>\n",
       "    </tr>\n",
       "    <tr>\n",
       "      <th>1</th>\n",
       "      <td>1</td>\n",
       "      <td>660</td>\n",
       "      <td>3.67</td>\n",
       "      <td>3</td>\n",
       "      <td>0</td>\n",
       "      <td>0</td>\n",
       "      <td>1</td>\n",
       "      <td>0</td>\n",
       "    </tr>\n",
       "    <tr>\n",
       "      <th>2</th>\n",
       "      <td>1</td>\n",
       "      <td>800</td>\n",
       "      <td>4.00</td>\n",
       "      <td>1</td>\n",
       "      <td>1</td>\n",
       "      <td>0</td>\n",
       "      <td>0</td>\n",
       "      <td>0</td>\n",
       "    </tr>\n",
       "    <tr>\n",
       "      <th>3</th>\n",
       "      <td>1</td>\n",
       "      <td>640</td>\n",
       "      <td>3.19</td>\n",
       "      <td>4</td>\n",
       "      <td>0</td>\n",
       "      <td>0</td>\n",
       "      <td>0</td>\n",
       "      <td>1</td>\n",
       "    </tr>\n",
       "    <tr>\n",
       "      <th>4</th>\n",
       "      <td>0</td>\n",
       "      <td>520</td>\n",
       "      <td>2.93</td>\n",
       "      <td>4</td>\n",
       "      <td>0</td>\n",
       "      <td>0</td>\n",
       "      <td>0</td>\n",
       "      <td>1</td>\n",
       "    </tr>\n",
       "  </tbody>\n",
       "</table>\n",
       "</div>"
      ],
      "text/plain": [
       "   admit  gre   gpa  rank  rank_1  rank_2  rank_3  rank_4\n",
       "0      0  380  3.61     3       0       0       1       0\n",
       "1      1  660  3.67     3       0       0       1       0\n",
       "2      1  800  4.00     1       1       0       0       0\n",
       "3      1  640  3.19     4       0       0       0       1\n",
       "4      0  520  2.93     4       0       0       0       1"
      ]
     },
     "execution_count": 6,
     "metadata": {},
     "output_type": "execute_result"
    }
   ],
   "source": [
    "df.head()"
   ]
  },
  {
   "cell_type": "code",
   "execution_count": 7,
   "metadata": {
    "collapsed": true
   },
   "outputs": [],
   "source": [
    "X = df[['gre', 'gpa', 'rank_1', 'rank_2', 'rank_3']]\n",
    "Y = df['admit']"
   ]
  },
  {
   "cell_type": "code",
   "execution_count": 8,
   "metadata": {},
   "outputs": [
    {
     "data": {
      "text/plain": [
       "LogisticRegression(C=1.0, class_weight=None, dual=False, fit_intercept=True,\n",
       "          intercept_scaling=1, max_iter=100, multi_class='ovr', n_jobs=1,\n",
       "          penalty='l2', random_state=None, solver='liblinear', tol=0.0001,\n",
       "          verbose=0, warm_start=False)"
      ]
     },
     "execution_count": 8,
     "metadata": {},
     "output_type": "execute_result"
    }
   ],
   "source": [
    "lm.fit(X, Y)\n",
    "# df['admit'] = outcome variable"
   ]
  },
  {
   "cell_type": "code",
   "execution_count": 9,
   "metadata": {
    "collapsed": true
   },
   "outputs": [],
   "source": [
    "import numpy as np"
   ]
  },
  {
   "cell_type": "code",
   "execution_count": 10,
   "metadata": {},
   "outputs": [
    {
     "name": "stdout",
     "output_type": "stream",
     "text": [
      "[[  1.63913356e-03   4.33355414e-04   1.15220976e+00   5.14395668e-01\n",
      "   -3.62326166e-02]]\n",
      "[-2.09315184]\n",
      "0.3175\n",
      "[[ 1.00164048  1.00043345  3.16517946  1.67262737  0.96441593]]\n"
     ]
    }
   ],
   "source": [
    "print lm.coef_\n",
    "print lm.intercept_\n",
    "print df.admit.mean()\n",
    "print np.exp(lm.coef_) # e power of every value in the array"
   ]
  },
  {
   "cell_type": "markdown",
   "metadata": {},
   "source": [
    "Below is some code to walk through confusion matrices. It'll be useful for working through the Titanic problem."
   ]
  },
  {
   "cell_type": "code",
   "execution_count": 12,
   "metadata": {
    "collapsed": true
   },
   "outputs": [],
   "source": [
    "%matplotlib inline\n",
    "import matplotlib.pyplot as plt\n",
    "from sklearn.metrics import roc_curve, roc_auc_score"
   ]
  },
  {
   "cell_type": "markdown",
   "metadata": {},
   "source": [
    "Below the ROC curve is based on various thresholds: it shows with a false positive rate (x-axis) ~0, it also expects a true positive rate (y-axis) ~0 (the same, ish, for the top right hand of the figure).\n",
    "\n",
    "The second chart, which does not play with thesholds, shows the one true TPR and FPR point, joined to 0,0 and 1,1.\n",
    "\n",
    "The first chart will be more effective as you compare models and determine where the decision line should exist for the data. The second simplifies the first in case this idea of thresholds is confusing."
   ]
  },
  {
   "cell_type": "code",
   "execution_count": 16,
   "metadata": {
    "scrolled": true
   },
   "outputs": [
    {
     "data": {
      "image/png": "[encoded data removed]",
      "text/plain": [
       "<matplotlib.figure.Figure at 0xd5cc128>"
      ]
     },
     "metadata": {},
     "output_type": "display_data"
    }
   ],
   "source": [
    "feature_set = df[['gre','gpa', 'rank_1', 'rank_2', 'rank_3']]\n",
    "actuals = lm.predict(feature_set) \n",
    "probas = lm.predict_proba(feature_set)\n",
    "plt.plot(roc_curve(df[['admit']], probas[:,1])[0], roc_curve(df[['admit']], probas[:,1])[1])"
   ]
  },
  {
   "cell_type": "code",
   "execution_count": 17,
   "metadata": {},
   "outputs": [
    {
     "data": {
      "text/plain": [
       "array([[ 0.81831149,  0.18168851],\n",
       "       [ 0.73999949,  0.26000051],\n",
       "       [ 0.40803412,  0.59196588],\n",
       "       [ 0.73937525,  0.26062475],\n",
       "       [ 0.77548266,  0.22451734],\n",
       "       [ 0.58217651,  0.41782349],\n",
       "       [ 0.50543376,  0.49456624],\n",
       "       [ 0.71540221,  0.28459779],\n",
       "       [ 0.77604811,  0.22395189],\n",
       "       [ 0.60579341,  0.39420659],\n",
       "       [ 0.68570416,  0.31429584],\n",
       "       [ 0.55436619,  0.44563381],\n",
       "       [ 0.42396126,  0.57603874],\n",
       "       [ 0.60588034,  0.39411966],\n",
       "       [ 0.44814096,  0.55185904],\n",
       "       [ 0.79267236,  0.20732764],\n",
       "       [ 0.6927379 ,  0.3072621 ],\n",
       "       [ 0.82320101,  0.17679899],\n",
       "       [ 0.56606748,  0.43393252],\n",
       "       [ 0.51353641,  0.48646359],\n",
       "       [ 0.78725265,  0.21274735],\n",
       "       [ 0.62136711,  0.37863289],\n",
       "       [ 0.75183996,  0.24816004],\n",
       "       [ 0.72654406,  0.27345594],\n",
       "       [ 0.58213961,  0.41786039],\n",
       "       [ 0.40806971,  0.59193029],\n",
       "       [ 0.48078818,  0.51921182],\n",
       "       [ 0.77542153,  0.22457847],\n",
       "       [ 0.57415809,  0.42584191],\n",
       "       [ 0.52177794,  0.47822206],\n",
       "       [ 0.76965809,  0.23034191],\n",
       "       [ 0.70727609,  0.29272391],\n",
       "       [ 0.75849223,  0.24150777],\n",
       "       [ 0.69345976,  0.30654024],\n",
       "       [ 0.58649469,  0.41350531],\n",
       "       [ 0.71540486,  0.28459514],\n",
       "       [ 0.49720908,  0.50279092],\n",
       "       [ 0.78173029,  0.21826971],\n",
       "       [ 0.68088307,  0.31911693],\n",
       "       [ 0.78174656,  0.21825344],\n",
       "       [ 0.65921381,  0.34078619],\n",
       "       [ 0.65172266,  0.34827734],\n",
       "       [ 0.644262  ,  0.355738  ],\n",
       "       [ 0.78724249,  0.21275751],\n",
       "       [ 0.60589483,  0.39410517],\n",
       "       [ 0.79800758,  0.20199242],\n",
       "       [ 0.65170888,  0.34829112],\n",
       "       [ 0.78113587,  0.21886413],\n",
       "       [ 0.7975188 ,  0.2024812 ],\n",
       "       [ 0.81340358,  0.18659642],\n",
       "       [ 0.7462415 ,  0.2537585 ],\n",
       "       [ 0.79747331,  0.20252669],\n",
       "       [ 0.70655952,  0.29344048],\n",
       "       [ 0.6136612 ,  0.3863388 ],\n",
       "       [ 0.740027  ,  0.259973  ],\n",
       "       [ 0.71395937,  0.28604063],\n",
       "       [ 0.77031439,  0.22968561],\n",
       "       [ 0.81835465,  0.18164535],\n",
       "       [ 0.71535192,  0.28464808],\n",
       "       [ 0.75183996,  0.24816004],\n",
       "       [ 0.63671056,  0.36328944],\n",
       "       [ 0.76383089,  0.23616911],\n",
       "       [ 0.74625709,  0.25374291],\n",
       "       [ 0.73362741,  0.26637259],\n",
       "       [ 0.76439961,  0.23560039],\n",
       "       [ 0.6442183 ,  0.3557817 ],\n",
       "       [ 0.70653705,  0.29346295],\n",
       "       [ 0.48082171,  0.51917829],\n",
       "       [ 0.49716141,  0.50283859],\n",
       "       [ 0.40806239,  0.59193761],\n",
       "       [ 0.74623001,  0.25376999],\n",
       "       [ 0.83203884,  0.16796116],\n",
       "       [ 0.78665826,  0.21334174],\n",
       "       [ 0.65165577,  0.34834423],\n",
       "       [ 0.71330304,  0.28669696],\n",
       "       [ 0.72060707,  0.27939293],\n",
       "       [ 0.77030135,  0.22969865],\n",
       "       [ 0.69345976,  0.30654024],\n",
       "       [ 0.51361111,  0.48638889],\n",
       "       [ 0.48074599,  0.51925401],\n",
       "       [ 0.72000807,  0.27999193],\n",
       "       [ 0.63672158,  0.36327842],\n",
       "       [ 0.68092261,  0.31907739],\n",
       "       [ 0.81290839,  0.18709161],\n",
       "       [ 0.78722144,  0.21277856],\n",
       "       [ 0.67373245,  0.32626755],\n",
       "       [ 0.64424511,  0.35575489],\n",
       "       [ 0.64422922,  0.35577078],\n",
       "       [ 0.44821812,  0.55178188],\n",
       "       [ 0.62132938,  0.37867062],\n",
       "       [ 0.60580273,  0.39419727],\n",
       "       [ 0.44008638,  0.55991362],\n",
       "       [ 0.56605151,  0.43394849],\n",
       "       [ 0.65176102,  0.34823898],\n",
       "       [ 0.62138648,  0.37861352],\n",
       "       [ 0.62139769,  0.37860231],\n",
       "       [ 0.73934769,  0.26065231],\n",
       "       [ 0.68792258,  0.31207742],\n",
       "       [ 0.60590104,  0.39409896],\n",
       "       [ 0.81340621,  0.18659379],\n",
       "       [ 0.82788537,  0.17211463],\n",
       "       [ 0.76443316,  0.23556684],\n",
       "       [ 0.81288071,  0.18711929],\n",
       "       [ 0.77600668,  0.22399332],\n",
       "       [ 0.62133448,  0.37866552],\n",
       "       [ 0.5901318 ,  0.4098682 ],\n",
       "       [ 0.44818812,  0.55181188],\n",
       "       [ 0.68796351,  0.31203649],\n",
       "       [ 0.8134312 ,  0.1865688 ],\n",
       "       [ 0.68793374,  0.31206626],\n",
       "       [ 0.72655353,  0.27344647],\n",
       "       [ 0.80269721,  0.19730279],\n",
       "       [ 0.82317326,  0.17682674],\n",
       "       [ 0.4890184 ,  0.5109816 ],\n",
       "       [ 0.72062103,  0.27937897],\n",
       "       [ 0.75238864,  0.24761136],\n",
       "       [ 0.70183312,  0.29816688],\n",
       "       [ 0.60581411,  0.39418589],\n",
       "       [ 0.40806553,  0.59193447],\n",
       "       [ 0.82789957,  0.17210043],\n",
       "       [ 0.67366005,  0.32633995],\n",
       "       [ 0.6880063 ,  0.3119937 ],\n",
       "       [ 0.78173399,  0.21826601],\n",
       "       [ 0.78726644,  0.21273356],\n",
       "       [ 0.72061754,  0.27938246],\n",
       "       [ 0.76968882,  0.23031118],\n",
       "       [ 0.48898375,  0.51101625],\n",
       "       [ 0.70652627,  0.29347373],\n",
       "       [ 0.66646541,  0.33353459],\n",
       "       [ 0.7921255 ,  0.2078745 ],\n",
       "       [ 0.63671156,  0.36328844],\n",
       "       [ 0.62913357,  0.37086643],\n",
       "       [ 0.65171479,  0.34828521],\n",
       "       [ 0.78725919,  0.21274081],\n",
       "       [ 0.65916221,  0.34083779],\n",
       "       [ 0.78722362,  0.21277638],\n",
       "       [ 0.76383011,  0.23616989],\n",
       "       [ 0.72715932,  0.27284068],\n",
       "       [ 0.63668851,  0.36331149],\n",
       "       [ 0.48897942,  0.51102058],\n",
       "       [ 0.6290183 ,  0.3709817 ],\n",
       "       [ 0.7199539 ,  0.2800461 ],\n",
       "       [ 0.74558107,  0.25441893],\n",
       "       [ 0.76444643,  0.23555357],\n",
       "       [ 0.7578597 ,  0.2421403 ],\n",
       "       [ 0.81832308,  0.18167692],\n",
       "       [ 0.68793839,  0.31206161],\n",
       "       [ 0.77035119,  0.22964881],\n",
       "       [ 0.53814994,  0.46185006],\n",
       "       [ 0.43206004,  0.56793996],\n",
       "       [ 0.40806134,  0.59193866],\n",
       "       [ 0.71537574,  0.28462426],\n",
       "       [ 0.62901729,  0.37098271],\n",
       "       [ 0.76444175,  0.23555825],\n",
       "       [ 0.75241286,  0.24758714],\n",
       "       [ 0.75790264,  0.24209736],\n",
       "       [ 0.65920407,  0.34079593],\n",
       "       [ 0.53807777,  0.46192223],\n",
       "       [ 0.62138138,  0.37861862],\n",
       "       [ 0.72717479,  0.27282521],\n",
       "       [ 0.64426399,  0.35573601],\n",
       "       [ 0.62906178,  0.37093822],\n",
       "       [ 0.60583067,  0.39416933],\n",
       "       [ 0.67375626,  0.32624374],\n",
       "       [ 0.65172462,  0.34827538],\n",
       "       [ 0.44814096,  0.55185904],\n",
       "       [ 0.79746561,  0.20253439],\n",
       "       [ 0.72062714,  0.27937286],\n",
       "       [ 0.78719241,  0.21280759],\n",
       "       [ 0.75847477,  0.24152523],\n",
       "       [ 0.81339306,  0.18660694],\n",
       "       [ 0.77609179,  0.22390821],\n",
       "       [ 0.73365874,  0.26634126],\n",
       "       [ 0.56610154,  0.43389846],\n",
       "       [ 0.78109438,  0.21890562],\n",
       "       [ 0.63669151,  0.36330849],\n",
       "       [ 0.67376674,  0.32623326],\n",
       "       [ 0.75244999,  0.24755001],\n",
       "       [ 0.75244192,  0.24755808],\n",
       "       [ 0.8370363 ,  0.1629637 ],\n",
       "       [ 0.75240559,  0.24759441],\n",
       "       [ 0.78106845,  0.21893155],\n",
       "       [ 0.60578514,  0.39421486],\n",
       "       [ 0.66640279,  0.33359721],\n",
       "       [ 0.78114921,  0.21885079],\n",
       "       [ 0.56608344,  0.43391656],\n",
       "       [ 0.77028218,  0.22971782],\n",
       "       [ 0.65176593,  0.34823407],\n",
       "       [ 0.65915053,  0.34084947],\n",
       "       [ 0.68086235,  0.31913765],\n",
       "       [ 0.62911841,  0.37088159],\n",
       "       [ 0.69350214,  0.30649786],\n",
       "       [ 0.7462497 ,  0.2537503 ],\n",
       "       [ 0.81286357,  0.18713643],\n",
       "       [ 0.64423022,  0.35576978],\n",
       "       [ 0.6590999 ,  0.3409001 ],\n",
       "       [ 0.74004951,  0.25995049],\n",
       "       [ 0.80784978,  0.19215022],\n",
       "       [ 0.75847397,  0.24152603],\n",
       "       [ 0.75783027,  0.24216973],\n",
       "       [ 0.69352332,  0.30647668],\n",
       "       [ 0.65173446,  0.34826554],\n",
       "       [ 0.44814096,  0.55185904],\n",
       "       [ 0.8026622 ,  0.1973378 ],\n",
       "       [ 0.48894585,  0.51105415],\n",
       "       [ 0.70040214,  0.29959786],\n",
       "       [ 0.43203558,  0.56796442],\n",
       "       [ 0.47260833,  0.52739167],\n",
       "       [ 0.77606543,  0.22393457],\n",
       "       [ 0.65170495,  0.34829505],\n",
       "       [ 0.70656221,  0.29343779],\n",
       "       [ 0.65175216,  0.34824784],\n",
       "       [ 0.69498112,  0.30501888],\n",
       "       [ 0.74628088,  0.25371912],\n",
       "       [ 0.64422128,  0.35577872],\n",
       "       [ 0.74006285,  0.25993715],\n",
       "       [ 0.59444699,  0.40555301],\n",
       "       [ 0.54620857,  0.45379143],\n",
       "       [ 0.54627947,  0.45372053],\n",
       "       [ 0.6590999 ,  0.3409001 ],\n",
       "       [ 0.77605639,  0.22394361],\n",
       "       [ 0.73361555,  0.26638445],\n",
       "       [ 0.53813809,  0.46186191],\n",
       "       [ 0.69350858,  0.30649142],\n",
       "       [ 0.56615795,  0.43384205],\n",
       "       [ 0.72065069,  0.27934931],\n",
       "       [ 0.63667046,  0.36332954],\n",
       "       [ 0.76971648,  0.23028352],\n",
       "       [ 0.6879356 ,  0.3120644 ],\n",
       "       [ 0.59799021,  0.40200979],\n",
       "       [ 0.75786845,  0.24213155],\n",
       "       [ 0.75850176,  0.24149824],\n",
       "       [ 0.72200334,  0.27799666],\n",
       "       [ 0.80842233,  0.19157767],\n",
       "       [ 0.40808332,  0.59191668],\n",
       "       [ 0.63672359,  0.36327641],\n",
       "       [ 0.62138138,  0.37861862],\n",
       "       [ 0.68788257,  0.31211743],\n",
       "       [ 0.78114402,  0.21885598],\n",
       "       [ 0.7272066 ,  0.2727934 ],\n",
       "       [ 0.70189569,  0.29810431],\n",
       "       [ 0.52172171,  0.47827829],\n",
       "       [ 0.73370277,  0.26629723],\n",
       "       [ 0.63670655,  0.36329345],\n",
       "       [ 0.51361977,  0.48638023],\n",
       "       [ 0.69346805,  0.30653195],\n",
       "       [ 0.61365401,  0.38634599],\n",
       "       [ 0.70185851,  0.29814149],\n",
       "       [ 0.73364519,  0.26635481],\n",
       "       [ 0.74625216,  0.25374784],\n",
       "       [ 0.73299848,  0.26700152],\n",
       "       [ 0.74564107,  0.25435893],\n",
       "       [ 0.67363528,  0.32636472],\n",
       "       [ 0.76967576,  0.23032424],\n",
       "       [ 0.70654604,  0.29345396],\n",
       "       [ 0.74628335,  0.25371665],\n",
       "       [ 0.67370197,  0.32629803],\n",
       "       [ 0.75239187,  0.24760813],\n",
       "       [ 0.67368196,  0.32631804],\n",
       "       [ 0.62903043,  0.37096957],\n",
       "       [ 0.61367764,  0.38632236],\n",
       "       [ 0.70186033,  0.29813967],\n",
       "       [ 0.78170884,  0.21829116],\n",
       "       [ 0.75239187,  0.24760813],\n",
       "       [ 0.78165634,  0.21834366],\n",
       "       [ 0.81832888,  0.18167112],\n",
       "       [ 0.76383714,  0.23616286],\n",
       "       [ 0.75847318,  0.24152682],\n",
       "       [ 0.61364168,  0.38635832],\n",
       "       [ 0.78727878,  0.21272122],\n",
       "       [ 0.62901628,  0.37098372],\n",
       "       [ 0.77605263,  0.22394737],\n",
       "       [ 0.6136201 ,  0.3863799 ],\n",
       "       [ 0.46447874,  0.53552126],\n",
       "       [ 0.67371911,  0.32628089],\n",
       "       [ 0.64427888,  0.35572112],\n",
       "       [ 0.79798523,  0.20201477],\n",
       "       [ 0.49717333,  0.50282667],\n",
       "       [ 0.72656042,  0.27343958],\n",
       "       [ 0.62141706,  0.37858294],\n",
       "       [ 0.6213355 ,  0.3786645 ],\n",
       "       [ 0.82315623,  0.17684377],\n",
       "       [ 0.73298661,  0.26701339],\n",
       "       [ 0.77546983,  0.22453017],\n",
       "       [ 0.70183856,  0.29816144],\n",
       "       [ 0.75180034,  0.24819966],\n",
       "       [ 0.40811577,  0.59188423],\n",
       "       [ 0.7329654 ,  0.2670346 ],\n",
       "       [ 0.68578354,  0.31421646],\n",
       "       [ 0.80277612,  0.19722388],\n",
       "       [ 0.63668349,  0.36331651],\n",
       "       [ 0.56617073,  0.43382927],\n",
       "       [ 0.61361702,  0.38638298],\n",
       "       [ 0.40803726,  0.59196274],\n",
       "       [ 0.53818871,  0.46181129],\n",
       "       [ 0.78170441,  0.21829559],\n",
       "       [ 0.50541426,  0.49458574],\n",
       "       [ 0.69496275,  0.30503725],\n",
       "       [ 0.66643554,  0.33356446],\n",
       "       [ 0.72065942,  0.27934058],\n",
       "       [ 0.629082  ,  0.370918  ],\n",
       "       [ 0.74000532,  0.25999468],\n",
       "       [ 0.71539604,  0.28460396],\n",
       "       [ 0.61358825,  0.38641175],\n",
       "       [ 0.85415256,  0.14584744],\n",
       "       [ 0.75785493,  0.24214507],\n",
       "       [ 0.5136057 ,  0.4863943 ],\n",
       "       [ 0.65170397,  0.34829603],\n",
       "       [ 0.66647119,  0.33352881],\n",
       "       [ 0.80327247,  0.19672753],\n",
       "       [ 0.77025228,  0.22974772],\n",
       "       [ 0.62136303,  0.37863697],\n",
       "       [ 0.73999115,  0.26000885],\n",
       "       [ 0.77542833,  0.22457167],\n",
       "       [ 0.76968268,  0.23031732],\n",
       "       [ 0.74758725,  0.25241275],\n",
       "       [ 0.73500195,  0.26499805],\n",
       "       [ 0.69276003,  0.30723997],\n",
       "       [ 0.78663499,  0.21336501],\n",
       "       [ 0.51359379,  0.48640621],\n",
       "       [ 0.79802924,  0.20197076],\n",
       "       [ 0.69491589,  0.30508411],\n",
       "       [ 0.78113291,  0.21886709],\n",
       "       [ 0.70871563,  0.29128437],\n",
       "       [ 0.78174508,  0.21825492],\n",
       "       [ 0.45627229,  0.54372771],\n",
       "       [ 0.61365709,  0.38634291],\n",
       "       [ 0.65911061,  0.34088939],\n",
       "       [ 0.65172069,  0.34827931],\n",
       "       [ 0.78113884,  0.21886116],\n",
       "       [ 0.71395937,  0.28604063],\n",
       "       [ 0.74000616,  0.25999384],\n",
       "       [ 0.56247756,  0.43752244],\n",
       "       [ 0.77029599,  0.22970401],\n",
       "       [ 0.79799431,  0.20200569],\n",
       "       [ 0.48077736,  0.51922264],\n",
       "       [ 0.7817118 ,  0.2182882 ],\n",
       "       [ 0.74565093,  0.25434907],\n",
       "       [ 0.51360245,  0.48639755],\n",
       "       [ 0.74001616,  0.25998384],\n",
       "       [ 0.78111661,  0.21888339],\n",
       "       [ 0.77035579,  0.22964421],\n",
       "       [ 0.78106326,  0.21893674],\n",
       "       [ 0.65174823,  0.34825177],\n",
       "       [ 0.78169701,  0.21830299],\n",
       "       [ 0.78726282,  0.21273718],\n",
       "       [ 0.64424213,  0.35575787],\n",
       "       [ 0.65167544,  0.34832456],\n",
       "       [ 0.71537751,  0.28462249],\n",
       "       [ 0.63674364,  0.36325636],\n",
       "       [ 0.57407544,  0.42592456],\n",
       "       [ 0.75243384,  0.24756616],\n",
       "       [ 0.76446828,  0.23553172],\n",
       "       [ 0.60583481,  0.39416519],\n",
       "       [ 0.66640857,  0.33359143],\n",
       "       [ 0.4240872 ,  0.5759128 ],\n",
       "       [ 0.60586068,  0.39413932],\n",
       "       [ 0.44012162,  0.55987838],\n",
       "       [ 0.77027605,  0.22972395],\n",
       "       [ 0.72061231,  0.27938769],\n",
       "       [ 0.52170116,  0.47829884],\n",
       "       [ 0.51357105,  0.48642895],\n",
       "       [ 0.61367456,  0.38632544],\n",
       "       [ 0.69492876,  0.30507124],\n",
       "       [ 0.50539259,  0.49460741],\n",
       "       [ 0.79271936,  0.20728064],\n",
       "       [ 0.7980439 ,  0.2019561 ],\n",
       "       [ 0.7524177 ,  0.2475823 ],\n",
       "       [ 0.49712783,  0.50287217],\n",
       "       [ 0.56605257,  0.43394743],\n",
       "       [ 0.66640953,  0.33359047],\n",
       "       [ 0.73363503,  0.26636497],\n",
       "       [ 0.45643141,  0.54356859],\n",
       "       [ 0.48081414,  0.51918586],\n",
       "       [ 0.6590814 ,  0.3409186 ],\n",
       "       [ 0.7638176 ,  0.2361824 ],\n",
       "       [ 0.63666545,  0.36333455],\n",
       "       [ 0.56604086,  0.43395914],\n",
       "       [ 0.74630222,  0.25369778],\n",
       "       [ 0.66651261,  0.33348739],\n",
       "       [ 0.60582136,  0.39417864],\n",
       "       [ 0.66643651,  0.33356349],\n",
       "       [ 0.66643458,  0.33356542],\n",
       "       [ 0.46440544,  0.53559456],\n",
       "       [ 0.68801095,  0.31198905],\n",
       "       [ 0.56247116,  0.43752884],\n",
       "       [ 0.59003851,  0.40996149],\n",
       "       [ 0.65171872,  0.34828128],\n",
       "       [ 0.62909515,  0.37090485],\n",
       "       [ 0.62906077,  0.37093923],\n",
       "       [ 0.56614199,  0.43385801],\n",
       "       [ 0.62134162,  0.37865838],\n",
       "       [ 0.75849382,  0.24150618],\n",
       "       [ 0.63665342,  0.36334658],\n",
       "       [ 0.79796986,  0.20203014],\n",
       "       [ 0.63662836,  0.36337164],\n",
       "       [ 0.77032589,  0.22967411],\n",
       "       [ 0.69500317,  0.30499683],\n",
       "       [ 0.60582136,  0.39417864],\n",
       "       [ 0.75845333,  0.24154667]])"
      ]
     },
     "execution_count": 17,
     "metadata": {},
     "output_type": "execute_result"
    }
   ],
   "source": [
    "probas\n",
    "# col 1 is the probability of outcome 0, col 2 is for outcome 1"
   ]
  },
  {
   "cell_type": "code",
   "execution_count": 71,
   "metadata": {},
   "outputs": [
    {
     "data": {
      "text/plain": [
       "[<matplotlib.lines.Line2D at 0x10c1fe7d0>]"
      ]
     },
     "execution_count": 71,
     "metadata": {},
     "output_type": "execute_result"
    },
    {
     "data": {
      "image/png": "[encoded data removed]",
      "text/plain": [
       "<matplotlib.figure.Figure at 0x10c76a510>"
      ]
     },
     "metadata": {},
     "output_type": "display_data"
    }
   ],
   "source": [
    "plt.plot(roc_curve(df[['admit']], actuals)[0], roc_curve(df[['admit']], actuals)[1])"
   ]
  },
  {
   "cell_type": "markdown",
   "metadata": {},
   "source": [
    "Finally, you can use the `roc_auc_score` function to calculate the area under these curves (AUC)."
   ]
  },
  {
   "cell_type": "code",
   "execution_count": 72,
   "metadata": {},
   "outputs": [
    {
     "data": {
      "text/plain": [
       "0.55914164575581893"
      ]
     },
     "execution_count": 72,
     "metadata": {},
     "output_type": "execute_result"
    }
   ],
   "source": [
    "roc_auc_score(df['admit'], lm.predict(feature_set)"
   ]
  },
  {
   "cell_type": "markdown",
   "metadata": {},
   "source": [
    "### Titanic Problem"
   ]
  },
  {
   "cell_type": "markdown",
   "metadata": {},
   "source": [
    "** Goals **\n",
    "\n",
    "1. Spend a few minutes determining which data would be most important to use in the prediction problem. You may need to create new features based on the data available. Consider using a feature selection aide in sklearn. But a worst case scenario; identify one or two strong features that would be useful to include in the model.\n",
    "2. Spend 1-2 minutes considering which _metric_ makes the most sense to optimize. Accuracy? FPR or TPR? AUC? Given the business problem (understanding survival rate aboard the Titanic), why should you use this metric?\n",
    "3. Build a tuned Logistic model. Be prepared to explain your design (including regularization), metric, and feature set in predicting survival using the tools necessary (such as a fit chart)."
   ]
  },
  {
   "cell_type": "code",
   "execution_count": 19,
   "metadata": {
    "collapsed": true
   },
   "outputs": [],
   "source": [
    "lm = LogisticRegression() # model initialization\n",
    "\n",
    "df2 = pd.read_csv('../dataset/titanic.csv')"
   ]
  },
  {
   "cell_type": "code",
   "execution_count": 21,
   "metadata": {},
   "outputs": [
    {
     "data": {
      "text/html": [
       "<div>\n",
       "<style>\n",
       "    .dataframe thead tr:only-child th {\n",
       "        text-align: right;\n",
       "    }\n",
       "\n",
       "    .dataframe thead th {\n",
       "        text-align: left;\n",
       "    }\n",
       "\n",
       "    .dataframe tbody tr th {\n",
       "        vertical-align: top;\n",
       "    }\n",
       "</style>\n",
       "<table border=\"1\" class=\"dataframe\">\n",
       "  <thead>\n",
       "    <tr style=\"text-align: right;\">\n",
       "      <th></th>\n",
       "      <th>PassengerId</th>\n",
       "      <th>Survived</th>\n",
       "      <th>Pclass</th>\n",
       "      <th>Name</th>\n",
       "      <th>Sex</th>\n",
       "      <th>Age</th>\n",
       "      <th>SibSp</th>\n",
       "      <th>Parch</th>\n",
       "      <th>Ticket</th>\n",
       "      <th>Fare</th>\n",
       "      <th>Cabin</th>\n",
       "      <th>Embarked</th>\n",
       "    </tr>\n",
       "  </thead>\n",
       "  <tbody>\n",
       "    <tr>\n",
       "      <th>0</th>\n",
       "      <td>1</td>\n",
       "      <td>0</td>\n",
       "      <td>3</td>\n",
       "      <td>Braund, Mr. Owen Harris</td>\n",
       "      <td>male</td>\n",
       "      <td>22.0</td>\n",
       "      <td>1</td>\n",
       "      <td>0</td>\n",
       "      <td>A/5 21171</td>\n",
       "      <td>7.2500</td>\n",
       "      <td>NaN</td>\n",
       "      <td>S</td>\n",
       "    </tr>\n",
       "    <tr>\n",
       "      <th>1</th>\n",
       "      <td>2</td>\n",
       "      <td>1</td>\n",
       "      <td>1</td>\n",
       "      <td>Cumings, Mrs. John Bradley (Florence Briggs Th...</td>\n",
       "      <td>female</td>\n",
       "      <td>38.0</td>\n",
       "      <td>1</td>\n",
       "      <td>0</td>\n",
       "      <td>PC 17599</td>\n",
       "      <td>71.2833</td>\n",
       "      <td>C85</td>\n",
       "      <td>C</td>\n",
       "    </tr>\n",
       "    <tr>\n",
       "      <th>2</th>\n",
       "      <td>3</td>\n",
       "      <td>1</td>\n",
       "      <td>3</td>\n",
       "      <td>Heikkinen, Miss. Laina</td>\n",
       "      <td>female</td>\n",
       "      <td>26.0</td>\n",
       "      <td>0</td>\n",
       "      <td>0</td>\n",
       "      <td>STON/O2. 3101282</td>\n",
       "      <td>7.9250</td>\n",
       "      <td>NaN</td>\n",
       "      <td>S</td>\n",
       "    </tr>\n",
       "    <tr>\n",
       "      <th>3</th>\n",
       "      <td>4</td>\n",
       "      <td>1</td>\n",
       "      <td>1</td>\n",
       "      <td>Futrelle, Mrs. Jacques Heath (Lily May Peel)</td>\n",
       "      <td>female</td>\n",
       "      <td>35.0</td>\n",
       "      <td>1</td>\n",
       "      <td>0</td>\n",
       "      <td>113803</td>\n",
       "      <td>53.1000</td>\n",
       "      <td>C123</td>\n",
       "      <td>S</td>\n",
       "    </tr>\n",
       "    <tr>\n",
       "      <th>4</th>\n",
       "      <td>5</td>\n",
       "      <td>0</td>\n",
       "      <td>3</td>\n",
       "      <td>Allen, Mr. William Henry</td>\n",
       "      <td>male</td>\n",
       "      <td>35.0</td>\n",
       "      <td>0</td>\n",
       "      <td>0</td>\n",
       "      <td>373450</td>\n",
       "      <td>8.0500</td>\n",
       "      <td>NaN</td>\n",
       "      <td>S</td>\n",
       "    </tr>\n",
       "  </tbody>\n",
       "</table>\n",
       "</div>"
      ],
      "text/plain": [
       "   PassengerId  Survived  Pclass  \\\n",
       "0            1         0       3   \n",
       "1            2         1       1   \n",
       "2            3         1       3   \n",
       "3            4         1       1   \n",
       "4            5         0       3   \n",
       "\n",
       "                                                Name     Sex   Age  SibSp  \\\n",
       "0                            Braund, Mr. Owen Harris    male  22.0      1   \n",
       "1  Cumings, Mrs. John Bradley (Florence Briggs Th...  female  38.0      1   \n",
       "2                             Heikkinen, Miss. Laina  female  26.0      0   \n",
       "3       Futrelle, Mrs. Jacques Heath (Lily May Peel)  female  35.0      1   \n",
       "4                           Allen, Mr. William Henry    male  35.0      0   \n",
       "\n",
       "   Parch            Ticket     Fare Cabin Embarked  \n",
       "0      0         A/5 21171   7.2500   NaN        S  \n",
       "1      0          PC 17599  71.2833   C85        C  \n",
       "2      0  STON/O2. 3101282   7.9250   NaN        S  \n",
       "3      0            113803  53.1000  C123        S  \n",
       "4      0            373450   8.0500   NaN        S  "
      ]
     },
     "execution_count": 21,
     "metadata": {},
     "output_type": "execute_result"
    }
   ],
   "source": [
    "df2.head()"
   ]
  },
  {
   "cell_type": "code",
   "execution_count": 28,
   "metadata": {},
   "outputs": [
    {
     "data": {
      "text/plain": [
       "array([0, 1, 2, 5, 3, 4, 6], dtype=int64)"
      ]
     },
     "execution_count": 28,
     "metadata": {},
     "output_type": "execute_result"
    }
   ],
   "source": [
    "df2.describe()\n",
    "df2.Parch.unique()"
   ]
  },
  {
   "cell_type": "code",
   "execution_count": 31,
   "metadata": {},
   "outputs": [
    {
     "data": {
      "text/plain": [
       "0    549\n",
       "1    342\n",
       "Name: Survived, dtype: int64"
      ]
     },
     "execution_count": 31,
     "metadata": {},
     "output_type": "execute_result"
    }
   ],
   "source": [
    "# counts for each outcome class label\n",
    "df2.Survived.value_counts()"
   ]
  },
  {
   "cell_type": "code",
   "execution_count": 41,
   "metadata": {
    "collapsed": true
   },
   "outputs": [],
   "source": [
    "# select the columns I need\n",
    "cols = ['Survived', 'Pclass','Sex','Age','SibSp','Parch']\n",
    "model_data = df2[cols].copy()"
   ]
  },
  {
   "cell_type": "code",
   "execution_count": 47,
   "metadata": {},
   "outputs": [
    {
     "name": "stdout",
     "output_type": "stream",
     "text": [
      "891\n",
      "Survived    0\n",
      "Pclass      0\n",
      "Sex         0\n",
      "Age         0\n",
      "SibSp       0\n",
      "Parch       0\n",
      "dtype: int64\n"
     ]
    }
   ],
   "source": [
    "# check where are the missing values\n",
    "print len(model_data) # total num of rows/obs\n",
    "print model_data.isnull().sum() # num of null rows"
   ]
  },
  {
   "cell_type": "code",
   "execution_count": 45,
   "metadata": {
    "collapsed": true
   },
   "outputs": [],
   "source": [
    "# since the missing value number is relatively huge, let's fill them out\n",
    "# use fillna\n",
    "model_data.Age = model_data.Age.fillna(method='bfill')"
   ]
  },
  {
   "cell_type": "code",
   "execution_count": 55,
   "metadata": {},
   "outputs": [
    {
     "data": {
      "text/plain": [
       "<seaborn.axisgrid.PairGrid at 0x1172b978>"
      ]
     },
     "execution_count": 55,
     "metadata": {},
     "output_type": "execute_result"
    },
    {
     "data": {
      "image/png": "[encoded data removed]",
      "text/plain": [
       "<matplotlib.figure.Figure at 0x131b9e48>"
      ]
     },
     "metadata": {},
     "output_type": "display_data"
    }
   ],
   "source": [
    "# initial EDA: visualization\n",
    "%matplotlib inline\n",
    "import seaborn as sns\n",
    "sns.pairplot(model_data)"
   ]
  },
  {
   "cell_type": "code",
   "execution_count": 49,
   "metadata": {},
   "outputs": [
    {
     "data": {
      "text/plain": [
       "<seaborn.axisgrid.FacetGrid at 0x1159fa20>"
      ]
     },
     "execution_count": 49,
     "metadata": {},
     "output_type": "execute_result"
    },
    {
     "data": {
      "image/png": "[encoded data removed]",
      "text/plain": [
       "<matplotlib.figure.Figure at 0x1159ff98>"
      ]
     },
     "metadata": {},
     "output_type": "display_data"
    }
   ],
   "source": [
    "# plot to see the relation between age and outcome variable\n",
    "sns.factorplot(kind = 'box', data = model_data, x='Survived', y = 'Age')\n",
    "# nothing much"
   ]
  },
  {
   "cell_type": "code",
   "execution_count": 62,
   "metadata": {
    "collapsed": true
   },
   "outputs": [],
   "source": [
    "# because there are 6 values for some columns, let's roll them up to be present or non-present\n",
    "model_data['isSibling'] = model_data.SibSp.apply(lambda x:int(x > 0)) # int(x>0) can be dropped, outcome would be T/F\n",
    "model_data['isChild'] = model_data.Parch.apply(lambda x:int(x > 0))\n",
    "# For Sex & Pclass col, let's convert it into binary values from text\n",
    "model_data = pd.get_dummies(data = model_data, columns = ['Sex','Pclass'], drop_first = True)\n",
    "# if [[]] after \"columns\" above, it means the outcome will be another df"
   ]
  },
  {
   "cell_type": "code",
   "execution_count": 63,
   "metadata": {},
   "outputs": [
    {
     "data": {
      "text/html": [
       "<div>\n",
       "<style>\n",
       "    .dataframe thead tr:only-child th {\n",
       "        text-align: right;\n",
       "    }\n",
       "\n",
       "    .dataframe thead th {\n",
       "        text-align: left;\n",
       "    }\n",
       "\n",
       "    .dataframe tbody tr th {\n",
       "        vertical-align: top;\n",
       "    }\n",
       "</style>\n",
       "<table border=\"1\" class=\"dataframe\">\n",
       "  <thead>\n",
       "    <tr style=\"text-align: right;\">\n",
       "      <th></th>\n",
       "      <th>Survived</th>\n",
       "      <th>Age</th>\n",
       "      <th>SibSp</th>\n",
       "      <th>Parch</th>\n",
       "      <th>isSibling</th>\n",
       "      <th>isChild</th>\n",
       "      <th>Sex_male</th>\n",
       "      <th>Pclass_2</th>\n",
       "      <th>Pclass_3</th>\n",
       "    </tr>\n",
       "  </thead>\n",
       "  <tbody>\n",
       "    <tr>\n",
       "      <th>0</th>\n",
       "      <td>0</td>\n",
       "      <td>22.0</td>\n",
       "      <td>1</td>\n",
       "      <td>0</td>\n",
       "      <td>1</td>\n",
       "      <td>0</td>\n",
       "      <td>1</td>\n",
       "      <td>0</td>\n",
       "      <td>1</td>\n",
       "    </tr>\n",
       "    <tr>\n",
       "      <th>1</th>\n",
       "      <td>1</td>\n",
       "      <td>38.0</td>\n",
       "      <td>1</td>\n",
       "      <td>0</td>\n",
       "      <td>1</td>\n",
       "      <td>0</td>\n",
       "      <td>0</td>\n",
       "      <td>0</td>\n",
       "      <td>0</td>\n",
       "    </tr>\n",
       "    <tr>\n",
       "      <th>2</th>\n",
       "      <td>1</td>\n",
       "      <td>26.0</td>\n",
       "      <td>0</td>\n",
       "      <td>0</td>\n",
       "      <td>0</td>\n",
       "      <td>0</td>\n",
       "      <td>0</td>\n",
       "      <td>0</td>\n",
       "      <td>1</td>\n",
       "    </tr>\n",
       "    <tr>\n",
       "      <th>3</th>\n",
       "      <td>1</td>\n",
       "      <td>35.0</td>\n",
       "      <td>1</td>\n",
       "      <td>0</td>\n",
       "      <td>1</td>\n",
       "      <td>0</td>\n",
       "      <td>0</td>\n",
       "      <td>0</td>\n",
       "      <td>0</td>\n",
       "    </tr>\n",
       "    <tr>\n",
       "      <th>4</th>\n",
       "      <td>0</td>\n",
       "      <td>35.0</td>\n",
       "      <td>0</td>\n",
       "      <td>0</td>\n",
       "      <td>0</td>\n",
       "      <td>0</td>\n",
       "      <td>1</td>\n",
       "      <td>0</td>\n",
       "      <td>1</td>\n",
       "    </tr>\n",
       "  </tbody>\n",
       "</table>\n",
       "</div>"
      ],
      "text/plain": [
       "   Survived   Age  SibSp  Parch  isSibling  isChild  Sex_male  Pclass_2  \\\n",
       "0         0  22.0      1      0          1        0         1         0   \n",
       "1         1  38.0      1      0          1        0         0         0   \n",
       "2         1  26.0      0      0          0        0         0         0   \n",
       "3         1  35.0      1      0          1        0         0         0   \n",
       "4         0  35.0      0      0          0        0         1         0   \n",
       "\n",
       "   Pclass_3  \n",
       "0         1  \n",
       "1         0  \n",
       "2         1  \n",
       "3         0  \n",
       "4         1  "
      ]
     },
     "execution_count": 63,
     "metadata": {},
     "output_type": "execute_result"
    }
   ],
   "source": [
    "model_data.head()"
   ]
  },
  {
   "cell_type": "code",
   "execution_count": null,
   "metadata": {
    "collapsed": true
   },
   "outputs": [],
   "source": [
    "#################### YOU WOULD STILL WANT TO DO CROSS-VALIDATION FOR THIS CLASSIFICATION MODEL #############################"
   ]
  },
  {
   "cell_type": "code",
   "execution_count": 64,
   "metadata": {
    "collapsed": true
   },
   "outputs": [],
   "source": [
    "# set X, Y colums\n",
    "X = model_data[['Age', 'isSibling', 'isChild', 'Sex_male', 'Pclass_2','Pclass_3']]\n",
    "Y = model_data['Survived']"
   ]
  },
  {
   "cell_type": "code",
   "execution_count": 72,
   "metadata": {
    "collapsed": true
   },
   "outputs": [],
   "source": [
    "lm = LogisticRegression(C=1e20) # model initialization\n",
    "\n",
    "# C value is the penalty being added for regularization"
   ]
  },
  {
   "cell_type": "code",
   "execution_count": 73,
   "metadata": {},
   "outputs": [
    {
     "data": {
      "text/plain": [
       "LogisticRegression(C=1e+20, class_weight=None, dual=False, fit_intercept=True,\n",
       "          intercept_scaling=1, max_iter=100, multi_class='ovr', n_jobs=1,\n",
       "          penalty='l2', random_state=None, solver='liblinear', tol=0.0001,\n",
       "          verbose=0, warm_start=False)"
      ]
     },
     "execution_count": 73,
     "metadata": {},
     "output_type": "execute_result"
    }
   ],
   "source": [
    "lm.fit(X, Y)"
   ]
  },
  {
   "cell_type": "code",
   "execution_count": 74,
   "metadata": {},
   "outputs": [
    {
     "name": "stdout",
     "output_type": "stream",
     "text": [
      "[[ 0.9731953   0.8748615   0.95653671  0.06963845  0.34044605  0.10433397]]\n"
     ]
    }
   ],
   "source": [
    "print np.exp(lm.coef_)\n",
    "# O0 -> np.exp(lm.coef_) * O0\n",
    "# if the output is greater than 1, then the odds become greater"
   ]
  },
  {
   "cell_type": "code",
   "execution_count": 75,
   "metadata": {},
   "outputs": [
    {
     "name": "stdout",
     "output_type": "stream",
     "text": [
      "0.784511784512\n"
     ]
    }
   ],
   "source": [
    "# Scoring metric 1: accuracy of the model\n",
    "print lm.score(X, Y)"
   ]
  },
  {
   "cell_type": "code",
   "execution_count": 76,
   "metadata": {},
   "outputs": [
    {
     "data": {
      "text/plain": [
       "0.84689334142886052"
      ]
     },
     "execution_count": 76,
     "metadata": {},
     "output_type": "execute_result"
    }
   ],
   "source": [
    "# Scoring metric 2: TPR & FPR\n",
    "probas = lm.predict_proba(X)\n",
    "roc_auc_score(Y, probas[:,1]) # it's \"1\" because we only care about the 1 outcome = Survived\n",
    "# We can still use the coefs to identify which variable has the biggest impact on outcome variable"
   ]
  },
  {
   "cell_type": "code",
   "execution_count": null,
   "metadata": {
    "collapsed": true
   },
   "outputs": [],
   "source": []
  }
 ],
 "metadata": {
  "kernelspec": {
   "display_name": "Python 2",
   "language": "python",
   "name": "python2"
  },
  "language_info": {
   "codemirror_mode": {
    "name": "ipython",
    "version": 2
   },
   "file_extension": ".py",
   "mimetype": "text/x-python",
   "name": "python",
   "nbconvert_exporter": "python",
   "pygments_lexer": "ipython2",
   "version": "2.7.14"
  }
 },
 "nbformat": 4,
 "nbformat_minor": 1
}
